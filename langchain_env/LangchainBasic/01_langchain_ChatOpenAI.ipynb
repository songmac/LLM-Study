{
 "cells": [
  {
   "cell_type": "markdown",
   "metadata": {},
   "source": [
    "# LangSmith API Key 로드"
   ]
  },
  {
   "cell_type": "code",
   "execution_count": 1,
   "metadata": {},
   "outputs": [
    {
     "data": {
      "text/plain": [
       "True"
      ]
     },
     "execution_count": 1,
     "metadata": {},
     "output_type": "execute_result"
    }
   ],
   "source": [
    "from dotenv import load_dotenv\n",
    "\n",
    "load_dotenv()"
   ]
  },
  {
   "cell_type": "markdown",
   "metadata": {},
   "source": [
    "# LangSmith 추적 설정"
   ]
  },
  {
   "cell_type": "code",
   "execution_count": 2,
   "metadata": {},
   "outputs": [],
   "source": [
    "import os\n",
    "\n",
    "os.environ[\"LANGCHAIN_TRACING_V2\"] = \"true\"\n",
    "os.environ[\"LANGCHAIN_PROJECT\"] = \"ChatOpenAI\""
   ]
  },
  {
   "cell_type": "markdown",
   "metadata": {},
   "source": [
    "# ChatOpenAI"
   ]
  },
  {
   "cell_type": "markdown",
   "metadata": {},
   "source": [
    "## invoke"
   ]
  },
  {
   "cell_type": "markdown",
   "metadata": {},
   "source": [
    "모델이 요청된 텍스트에 대한 전체 응답을 생성한 후 최종결과를 한 번에 반환합니다. \n",
    "\n",
    "결과를 반환해야 langsmith의 project에서 결과를 확인할 수 있습니다.\n",
    "\n",
    "응답이 짧고 실시간으로 받을 필요가 없는 경우에 사용합니다."
   ]
  },
  {
   "cell_type": "code",
   "execution_count": 3,
   "metadata": {},
   "outputs": [
    {
     "name": "stdout",
     "output_type": "stream",
     "text": [
      "content='대한민국은 1988년에 서울에서 하계 올림픽을 개최했습니다.' additional_kwargs={'refusal': None} response_metadata={'token_usage': {'completion_tokens': 18, 'prompt_tokens': 22, 'total_tokens': 40, 'completion_tokens_details': {'audio_tokens': None, 'reasoning_tokens': 0}, 'prompt_tokens_details': {'audio_tokens': None, 'cached_tokens': 0}}, 'model_name': 'gpt-4o-2024-08-06', 'system_fingerprint': 'fp_a20a4ee344', 'finish_reason': 'stop', 'logprobs': None} id='run-0a6e3db3-2e3c-46ba-874e-be8ed2a887fa-0' usage_metadata={'input_tokens': 22, 'output_tokens': 18, 'total_tokens': 40, 'input_token_details': {'cache_read': 0}, 'output_token_details': {'reasoning': 0}}\n"
     ]
    }
   ],
   "source": [
    "from langchain_openai import ChatOpenAI\n",
    "\n",
    "# 객체 생성\n",
    "llm = ChatOpenAI(\n",
    "    temperature=0.1, # 창의성 (0.0 ~ 2.0)\n",
    "    model_name=\"gpt-4o\")\n",
    "\n",
    "# 질의 내용\n",
    "# question = \"대한민국의 수도는 어디인가요?\"\n",
    "question = \"대한민국이 올림픽을 개최한 해는 언제일까요?\"\n",
    "\n",
    "# 응답 내용\n",
    "response = llm.invoke(question)\n",
    "print(response)"
   ]
  },
  {
   "cell_type": "raw",
   "metadata": {
    "vscode": {
     "languageId": "raw"
    }
   },
   "source": [
    "content='대한민국은 1988년에 서울에서 하계 올림픽을 개최했습니다.' \n",
    "additional_kwargs={'refusal': None} \n",
    "response_metadata=\n",
    "{'token_usage': \n",
    "    {'completion_tokens': 18, \n",
    "     'prompt_tokens': 22,\n",
    "     'total_tokens': 40, \n",
    "     'completion_tokens_details': {'audio_tokens': None, 'reasoning_tokens': 0}, \n",
    "     'prompt_tokens_details': {'audio_tokens': None, 'cached_tokens': 0}\n",
    "    }, \n",
    " 'model_name': 'gpt-4o-2024-08-06', \n",
    " 'system_fingerprint': 'fp_6b68a8204b', \n",
    " 'finish_reason': 'stop', \n",
    " 'logprobs': None\n",
    "} \n",
    "id='run-3bb52b57-6630-4cef-83ef-f397045c8b9b-0' \n",
    "usage_metadata={'input_tokens': 22, 'output_tokens': 18, \n",
    "                'total_tokens': 40, 'input_token_details': {'cache_read': 0}, \n",
    "                'output_token_details': {'reasoning': 0}\n",
    "                }"
   ]
  },
  {
   "cell_type": "markdown",
   "metadata": {},
   "source": [
    "# LogProb 활성화"
   ]
  },
  {
   "cell_type": "markdown",
   "metadata": {},
   "source": [
    "주어진 텍스트에 대한 모델의 토큰 확률의 로그 값 을 의미합니다. \n",
    "\n",
    "확률은 모델이 그 토큰을 예측할 확률을 나타냅니다."
   ]
  },
  {
   "cell_type": "markdown",
   "metadata": {},
   "source": [
    "## bind"
   ]
  },
  {
   "cell_type": "markdown",
   "metadata": {},
   "source": [
    "주어진 함수들을 OpenAI 모델에 연결하고, OpenAI의 함수 호출 API를 사용하여 특정 함수를 호출(function_call)하는 기능을 설정하는 역할을 합니다. \n",
    "\n",
    "이 방식은 Deprecated(사용 중단 예정) 상태입니다."
   ]
  },
  {
   "cell_type": "code",
   "execution_count": 5,
   "metadata": {},
   "outputs": [],
   "source": [
    "# 객체 생성\n",
    "llm_with_logprob = ChatOpenAI(\n",
    "    temperature=0.1, # 창의성(0.0 ~ 0.2)\n",
    "    max_tokens=2048, # 최대 토큰 수\n",
    "    model_name=\"gpt-3.5-turbo\", # 모델명\n",
    ").bind(logprobs=True)"
   ]
  },
  {
   "cell_type": "code",
   "execution_count": 6,
   "metadata": {},
   "outputs": [],
   "source": [
    "# 질의내용\n",
    "question = \"대한민국의 수도는 어디인가요?\"\n",
    "\n",
    "# 응답내용\n",
    "response = llm_with_logprob.invoke(question)"
   ]
  },
  {
   "cell_type": "code",
   "execution_count": 7,
   "metadata": {},
   "outputs": [
    {
     "data": {
      "text/plain": [
       "{'token_usage': {'completion_tokens': 15,\n",
       "  'prompt_tokens': 24,\n",
       "  'total_tokens': 39,\n",
       "  'completion_tokens_details': {'audio_tokens': None, 'reasoning_tokens': 0},\n",
       "  'prompt_tokens_details': {'audio_tokens': None, 'cached_tokens': 0}},\n",
       " 'model_name': 'gpt-3.5-turbo-0125',\n",
       " 'system_fingerprint': None,\n",
       " 'finish_reason': 'stop',\n",
       " 'logprobs': {'content': [{'token': '대',\n",
       "    'bytes': [235, 140, 128],\n",
       "    'logprob': -0.022742305,\n",
       "    'top_logprobs': []},\n",
       "   {'token': '한',\n",
       "    'bytes': [237, 149, 156],\n",
       "    'logprob': -3.1281633e-07,\n",
       "    'top_logprobs': []},\n",
       "   {'token': '\\\\xeb\\\\xaf',\n",
       "    'bytes': [235, 175],\n",
       "    'logprob': -1.8624639e-06,\n",
       "    'top_logprobs': []},\n",
       "   {'token': '\\\\xbc', 'bytes': [188], 'logprob': 0.0, 'top_logprobs': []},\n",
       "   {'token': '\\\\xea\\\\xb5',\n",
       "    'bytes': [234, 181],\n",
       "    'logprob': -3.1281633e-07,\n",
       "    'top_logprobs': []},\n",
       "   {'token': '\\\\xad', 'bytes': [173], 'logprob': 0.0, 'top_logprobs': []},\n",
       "   {'token': '의',\n",
       "    'bytes': [236, 157, 152],\n",
       "    'logprob': -4.1273333e-06,\n",
       "    'top_logprobs': []},\n",
       "   {'token': ' 수',\n",
       "    'bytes': [32, 236, 136, 152],\n",
       "    'logprob': -6.704273e-07,\n",
       "    'top_logprobs': []},\n",
       "   {'token': '도',\n",
       "    'bytes': [235, 143, 132],\n",
       "    'logprob': -4.3202e-07,\n",
       "    'top_logprobs': []},\n",
       "   {'token': '는',\n",
       "    'bytes': [235, 138, 148],\n",
       "    'logprob': 0.0,\n",
       "    'top_logprobs': []},\n",
       "   {'token': ' 서',\n",
       "    'bytes': [32, 236, 132, 156],\n",
       "    'logprob': -3.650519e-06,\n",
       "    'top_logprobs': []},\n",
       "   {'token': '\\\\xec\\\\x9a',\n",
       "    'bytes': [236, 154],\n",
       "    'logprob': 0.0,\n",
       "    'top_logprobs': []},\n",
       "   {'token': '\\\\xb8', 'bytes': [184], 'logprob': 0.0, 'top_logprobs': []},\n",
       "   {'token': '입니다',\n",
       "    'bytes': [236, 158, 133, 235, 139, 136, 235, 139, 164],\n",
       "    'logprob': -0.14986107,\n",
       "    'top_logprobs': []},\n",
       "   {'token': '.',\n",
       "    'bytes': [46],\n",
       "    'logprob': -3.4121115e-06,\n",
       "    'top_logprobs': []}],\n",
       "  'refusal': None}}"
      ]
     },
     "execution_count": 7,
     "metadata": {},
     "output_type": "execute_result"
    }
   ],
   "source": [
    "# 결과 출력\n",
    "response.response_metadata"
   ]
  },
  {
   "cell_type": "markdown",
   "metadata": {},
   "source": [
    "# 스트리밍 출력"
   ]
  },
  {
   "cell_type": "markdown",
   "metadata": {},
   "source": [
    "스트리밍 옵션은 질의에 대한 답변을 실시간으로 받을 때 유용합니다."
   ]
  },
  {
   "cell_type": "code",
   "execution_count": 8,
   "metadata": {},
   "outputs": [],
   "source": [
    "# 스트림 방식으로 질의\n",
    "# answer 에 스트리밍 답변의 결과를 받습니다.\n",
    "answer = llm.stream(\"대한민국의 아름다운 관광지 10곳과 주소를 알려주세요!\")\n",
    "\n",
    "# print(answer)"
   ]
  },
  {
   "cell_type": "code",
   "execution_count": 9,
   "metadata": {},
   "outputs": [
    {
     "name": "stdout",
     "output_type": "stream",
     "text": [
      "대한민국에는 아름다운 관광지가 많이 있습니다. 아래는 그 중 10곳과 해당 주소입니다.\n",
      "\n",
      "1. **경복궁**\n",
      "   - 주소: 서울특별시 종로구 사직로 161\n",
      "\n",
      "2. **부산 해운대 해수욕장**\n",
      "   - 주소: 부산광역시 해운대구 우동\n",
      "\n",
      "3. **제주 성산일출봉**\n",
      "   - 주소: 제주특별자치도 서귀포시 성산읍 일출로 284-12\n",
      "\n",
      "4. **경주 불국사**\n",
      "   - 주소: 경상북도 경주시 불국로 385\n",
      "\n",
      "5. **설악산 국립공원**\n",
      "   - 주소: 강원도 속초시 설악산로 833\n",
      "\n",
      "6. **전주 한옥마을**\n",
      "   - 주소: 전라북도 전주시 완산구 기린대로 99\n",
      "\n",
      "7. **남이섬**\n",
      "   - 주소: 강원도 춘천시 남산면 남이섬길 1\n",
      "\n",
      "8. **안동 하회마을**\n",
      "   - 주소: 경상북도 안동시 풍천면 전서로 186\n",
      "\n",
      "9. **서울 남산타워 (N서울타워)**\n",
      "   - 주소: 서울특별시 용산구 남산공원길 105\n",
      "\n",
      "10. **순천만 습지**\n",
      "    - 주소: 전라남도 순천시 순천만길 513-25\n",
      "\n",
      "이곳들은 각기 다른 매력을 가지고 있어 다양한 경험을 제공할 것입니다. 여행 계획에 참고하시기 바랍니다!"
     ]
    }
   ],
   "source": [
    "# 스트리밍 방식으로 각 토큰을 출력합니다. (실시간 출력)\n",
    "from utils.messages import stream_response\n",
    "# def stream_response(answer):\n",
    "#     for token in answer:\n",
    "#         print(token.content, end=\"\", flush=True)\n",
    "    \n",
    "stream_response(answer)"
   ]
  },
  {
   "cell_type": "code",
   "execution_count": null,
   "metadata": {},
   "outputs": [],
   "source": []
  }
 ],
 "metadata": {
  "kernelspec": {
   "display_name": "langchain_env",
   "language": "python",
   "name": "python3"
  },
  "language_info": {
   "codemirror_mode": {
    "name": "ipython",
    "version": 3
   },
   "file_extension": ".py",
   "mimetype": "text/x-python",
   "name": "python",
   "nbconvert_exporter": "python",
   "pygments_lexer": "ipython3",
   "version": "3.11.9"
  }
 },
 "nbformat": 4,
 "nbformat_minor": 2
}
