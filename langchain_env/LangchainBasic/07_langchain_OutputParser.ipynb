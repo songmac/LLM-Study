{
 "cells": [
  {
   "cell_type": "markdown",
   "metadata": {},
   "source": [
    "# LangSmith API Key 로드"
   ]
  },
  {
   "cell_type": "code",
   "execution_count": 1,
   "metadata": {},
   "outputs": [
    {
     "data": {
      "text/plain": [
       "True"
      ]
     },
     "execution_count": 1,
     "metadata": {},
     "output_type": "execute_result"
    }
   ],
   "source": [
    "# API KEY를 환경변수로 관리하기 위한 설정 파일\n",
    "from dotenv import load_dotenv\n",
    "\n",
    "# API KEY 정보로드\n",
    "load_dotenv()"
   ]
  },
  {
   "cell_type": "markdown",
   "metadata": {},
   "source": [
    "# Langsmith로 프로젝트 추적 설정"
   ]
  },
  {
   "cell_type": "code",
   "execution_count": 2,
   "metadata": {},
   "outputs": [
    {
     "name": "stdout",
     "output_type": "stream",
     "text": [
      "LangSmith 추적을 시작합니다.\n",
      "[프로젝트명]\n",
      "OutputParser\n"
     ]
    }
   ],
   "source": [
    "from utils import logging\n",
    "\n",
    "logging.langsmith(\"OutputParser\")"
   ]
  },
  {
   "cell_type": "markdown",
   "metadata": {},
   "source": [
    "# llm 객체 정의"
   ]
  },
  {
   "cell_type": "code",
   "execution_count": 13,
   "metadata": {},
   "outputs": [],
   "source": [
    "from langchain_openai import ChatOpenAI\n",
    "\n",
    "llm = ChatOpenAI(model_name=\"gpt-4o-mini\")"
   ]
  },
  {
   "cell_type": "markdown",
   "metadata": {},
   "source": [
    "(참고) 아래는 객체 내부의 속성들을 출력할 수 있는 코드입니다."
   ]
  },
  {
   "cell_type": "code",
   "execution_count": 9,
   "metadata": {},
   "outputs": [
    {
     "name": "stdout",
     "output_type": "stream",
     "text": [
      "{'name': None, 'cache': None, 'verbose': False, 'callbacks': None, 'tags': None, 'metadata': None, 'custom_get_token_ids': None, 'callback_manager': None, 'rate_limiter': None, 'disable_streaming': False, 'client': <openai.resources.chat.completions.Completions object at 0x000002CA48241A10>, 'async_client': <openai.resources.chat.completions.AsyncCompletions object at 0x000002CA48066210>, 'root_client': <openai.OpenAI object at 0x000002CA47CEADD0>, 'root_async_client': <openai.AsyncOpenAI object at 0x000002CA4824E810>, 'model_name': 'gpt-3.5-turbo', 'temperature': 0.7, 'model_kwargs': {}, 'openai_api_key': SecretStr('**********'), 'openai_api_base': None, 'openai_organization': None, 'openai_proxy': None, 'request_timeout': None, 'max_retries': 2, 'presence_penalty': None, 'frequency_penalty': None, 'seed': None, 'logprobs': None, 'top_logprobs': None, 'logit_bias': None, 'streaming': False, 'n': 1, 'top_p': None, 'max_tokens': None, 'tiktoken_model_name': None, 'default_headers': None, 'default_query': None, 'http_client': None, 'http_async_client': None, 'stop': None, 'extra_body': None, 'include_response_headers': False, 'disabled_params': None, 'stream_usage': False}\n"
     ]
    }
   ],
   "source": [
    "# print(llm.__dict__) # __dict__ 메서드 사용"
   ]
  },
  {
   "cell_type": "code",
   "execution_count": 11,
   "metadata": {},
   "outputs": [
    {
     "name": "stdout",
     "output_type": "stream",
     "text": [
      "Model: gpt-3.5-turbo\n",
      "Temperature: 0.7\n",
      "Top-p: None\n",
      "Frequency Penalty: None\n",
      "Presence Penalty: None\n"
     ]
    }
   ],
   "source": [
    "# print(f\"Model: {llm.model_name}\")\n",
    "# print(f\"Temperature: {llm.temperature}\")\n",
    "# print(f\"Top-p: {llm.top_p}\")\n",
    "# print(f\"Frequency Penalty: {llm.frequency_penalty}\")\n",
    "# print(f\"Presence Penalty: {llm.presence_penalty}\")"
   ]
  },
  {
   "cell_type": "markdown",
   "metadata": {},
   "source": [
    "# OutputParser"
   ]
  },
  {
   "cell_type": "markdown",
   "metadata": {},
   "source": [
    "LangChain의 출력파서는 언어 모델(LLM)의 출력을 더 유용하고 구조화된 형태로 변환하는 중요한 컴포넌트입니다.\n",
    "\n",
    "LangChain 프레임워크에서 다양한 종류의 출력 데이터를 파싱하고 처리합니다.\n",
    "\n",
    "출력 파서의 종류에는 Pydantic, 콤마 구분자, JSON, 데이터프레임, 날짜, 열거형, 출력 수정 등이 있습니다."
   ]
  },
  {
   "cell_type": "markdown",
   "metadata": {},
   "source": [
    "# 1. PydanticOutputParser"
   ]
  },
  {
   "cell_type": "raw",
   "metadata": {},
   "source": [
    "pip install --upgrade pydantic"
   ]
  },
  {
   "cell_type": "markdown",
   "metadata": {},
   "source": [
    "단순 텍스트 형태의 응답 대신, 사용자가 필요로 하는 정보를 명확하고 체계적인 형태로 제공 하는 클래스\n",
    "\n",
    "- get_format_instructions(): 언어 모델이 출력해야 할 정보의 형식을 정의하는 지침(instruction) 을 제공\n",
    "\n",
    "- parse(): 언어 모델의 출력(문자열로 가정)을 받아들여 이를 특정 구조로 분석하고 변환"
   ]
  },
  {
   "cell_type": "code",
   "execution_count": 14,
   "metadata": {},
   "outputs": [],
   "source": [
    "from langchain_openai import ChatOpenAI\n",
    "from langchain_core.prompts import PromptTemplate\n",
    "from langchain_core.output_parsers import PydanticOutputParser\n",
    "from pydantic import BaseModel, Field\n",
    "\n",
    "\n",
    "\n",
    "email = \"\"\"\n",
    "From: 김철수 (chulsoo.kim@bikecorporation.me)\n",
    "To: 이은채 (eunchae@teddyinternational.me)\n",
    "Subject: \"ZENESIS\" 자전거 유통 협력 및 미팅 일정 제안\n",
    "\n",
    "안녕하세요, 이은채 대리님,\n",
    "\n",
    "저는 바이크코퍼레이션의 김철수 상무입니다. 최근 보도자료를 통해 귀사의 신규 자전거 \"ZENESIS\"에 대해 알게 되었습니다. 바이크코퍼레이션은 자전거 제조 및 유통 분야에서 혁신과 품질을 선도하는 기업으로, 이 분야에서의 장기적인 경험과 전문성을 가지고 있습니다.\n",
    "\n",
    "ZENESIS 모델에 대한 상세한 브로슈어를 요청드립니다. 특히 기술 사양, 배터리 성능, 그리고 디자인 측면에 대한 정보가 필요합니다. 이를 통해 저희가 제안할 유통 전략과 마케팅 계획을 보다 구체화할 수 있을 것입니다.\n",
    "\n",
    "또한, 협력 가능성을 더 깊이 논의하기 위해 다음 주 화요일(1월 15일) 오전 10시에 미팅을 제안합니다. 귀사 사무실에서 만나 이야기를 나눌 수 있을까요?\n",
    "\n",
    "감사합니다.\n",
    "\n",
    "김철수\n",
    "상무이사\n",
    "바이크코퍼레이션\n",
    "\"\"\"\n"
   ]
  },
  {
   "cell_type": "markdown",
   "metadata": {},
   "source": [
    "## 1.1 출력 파서를 사용하지 않을 경우"
   ]
  },
  {
   "cell_type": "code",
   "execution_count": 15,
   "metadata": {},
   "outputs": [
    {
     "name": "stdout",
     "output_type": "stream",
     "text": [
      "이메일의 중요한 내용은 다음과 같습니다:\n",
      "\n",
      "1. 발신자: 김철수 (바이크코퍼레이션 상무)\n",
      "2. 수신자: 이은채 (Teddy International)\n",
      "3. 주제: \"ZENESIS\" 자전거 유통 협력 및 미팅 일정 제안\n",
      "4. 요청사항:\n",
      "   - ZENESIS 모델에 대한 상세한 브로슈어 요청 (기술 사양, 배터리 성능, 디자인 정보 포함)\n",
      "5. 제안된 미팅 일정: 다음 주 화요일 (1월 15일) 오전 10시\n",
      "6. 미팅 장소: 귀사 사무실\n",
      "\n",
      "이메일의 목적은 ZENESIS 자전거에 대한 유통 협력 가능성을 논의하기 위한 미팅을 제안하고 필요한 정보를 요청하는 것입니다.\n"
     ]
    }
   ],
   "source": [
    "template = \"\"\"\n",
    "다음 이메일에서 중요한 내용을 추출해주세요.\n",
    "\n",
    "--이메일--\n",
    "{email}\n",
    "\"\"\"\n",
    "\n",
    "prompt = PromptTemplate.from_template(template)\n",
    "\n",
    "llm = ChatOpenAI(model_name=\"gpt-4o-mini\")\n",
    "\n",
    "chain = prompt | llm\n",
    "\n",
    "answer = chain.invoke({'email': email})\n",
    "print(answer.content) # 결과str에서 내가 원하는 값만 따로 빼올 수가 없음"
   ]
  },
  {
   "cell_type": "markdown",
   "metadata": {},
   "source": [
    "## 1.2 Pydantic 스타일로 정의된 클래스를 사용하여 파싱하는 경우"
   ]
  },
  {
   "cell_type": "markdown",
   "metadata": {},
   "source": [
    "참고로, Field 안에 description 은 텍스트 형태의 답변에서 주요 정보를 추출하기 위한 설명이며 LLM 이 바로 이 설명을 보고 필요한 정보를 추출하게 됩니다."
   ]
  },
  {
   "cell_type": "markdown",
   "metadata": {},
   "source": [
    "### 출력 포맷 정의"
   ]
  },
  {
   "cell_type": "code",
   "execution_count": 16,
   "metadata": {},
   "outputs": [],
   "source": [
    "class EmailSummary(BaseModel): # BaseModel 상속받음\n",
    "    # 클래스 변수 정의 \n",
    "    sender: str = Field(description='발신자')\n",
    "    sender_email: str = Field(description='발신자 이메일 주소')\n",
    "    recipient: str = Field(description='수신자')\n",
    "    recipient_email: str = Field(description='수신자 이메일 주소')\n",
    "    subject: str = Field(description='메일 제목')\n",
    "    summary: str = Field(description='메일 본문을 요약한 텍스트')\n",
    "    date: str = Field(description='메일 본문에 언급된 미팅 날짜와 시간')\n",
    "\n",
    "parser = PydanticOutputParser(pydantic_object=EmailSummary)"
   ]
  },
  {
   "cell_type": "markdown",
   "metadata": {},
   "source": [
    "### get_format_instructions() 확인"
   ]
  },
  {
   "cell_type": "code",
   "execution_count": 17,
   "metadata": {},
   "outputs": [
    {
     "name": "stdout",
     "output_type": "stream",
     "text": [
      "The output should be formatted as a JSON instance that conforms to the JSON schema below.\n",
      "\n",
      "As an example, for the schema {\"properties\": {\"foo\": {\"title\": \"Foo\", \"description\": \"a list of strings\", \"type\": \"array\", \"items\": {\"type\": \"string\"}}}, \"required\": [\"foo\"]}\n",
      "the object {\"foo\": [\"bar\", \"baz\"]} is a well-formatted instance of the schema. The object {\"properties\": {\"foo\": [\"bar\", \"baz\"]}} is not well-formatted.\n",
      "\n",
      "Here is the output schema:\n",
      "```\n",
      "{\"properties\": {\"sender\": {\"description\": \"발신자\", \"title\": \"Sender\", \"type\": \"string\"}, \"sender_email\": {\"description\": \"발신자 이메일 주소\", \"title\": \"Sender Email\", \"type\": \"string\"}, \"recipient\": {\"description\": \"수신자\", \"title\": \"Recipient\", \"type\": \"string\"}, \"recipient_email\": {\"description\": \"수신자 이메일 주소\", \"title\": \"Recipient Email\", \"type\": \"string\"}, \"subject\": {\"description\": \"메일 제목\", \"title\": \"Subject\", \"type\": \"string\"}, \"summary\": {\"description\": \"메일 본문을 요약한 텍스트\", \"title\": \"Summary\", \"type\": \"string\"}, \"date\": {\"description\": \"메일 본문에 언급된 미팅 날짜와 시간\", \"title\": \"Date\", \"type\": \"string\"}}, \"required\": [\"sender\", \"sender_email\", \"recipient\", \"recipient_email\", \"subject\", \"summary\", \"date\"]}\n",
      "```\n"
     ]
    }
   ],
   "source": [
    "# 원하는 포맷을 얻고싶을 때 이 셀의 결과 값 처럼 JSOn 스키마로 들어가게 됨\n",
    "print(parser.get_format_instructions()) "
   ]
  },
  {
   "cell_type": "raw",
   "metadata": {
    "vscode": {
     "languageId": "raw"
    }
   },
   "source": [
    "{\n",
    "  \"properties\": {\n",
    "    \"sender\": {\n",
    "      \"title\": \"Sender\",\n",
    "      \"description\": \"발신자\",\n",
    "      \"type\": \"string\"\n",
    "    },\n",
    "    \"sender_email\": {\n",
    "      \"title\": \"Sender Email\",\n",
    "      \"description\": \"발신자 이메일 주소\",\n",
    "      \"type\": \"string\"\n",
    "    },\n",
    "    \"recipient\": {\n",
    "      \"title\": \"Recipient\",\n",
    "      \"description\": \"수신자\",\n",
    "      \"type\": \"string\"\n",
    "    },\n",
    "    \"recipient_email\": {\n",
    "      \"title\": \"Recipient Email\",\n",
    "      \"description\": \"수신자 이메일 주소\",\n",
    "      \"type\": \"string\"\n",
    "    },\n",
    "    \"subject\": {\n",
    "      \"title\": \"Subject\",\n",
    "      \"description\": \"메일 제목\",\n",
    "      \"type\": \"string\"\n",
    "    },\n",
    "    \"summary\": {\n",
    "      \"title\": \"Summary\",\n",
    "      \"description\": \"메일 본문을 요약한 텍스트\",\n",
    "      \"type\": \"string\"\n",
    "    },\n",
    "    \"date\": {\n",
    "      \"title\": \"Date\",\n",
    "      \"description\": \"메일 본문에 언급된 미팅 날짜와 시간\",\n",
    "      \"type\": \"string\"\n",
    "    }\n",
    "  },\n",
    "  \"required\": [\n",
    "    \"sender\",\n",
    "    \"sender_email\",\n",
    "    \"recipient\",\n",
    "    \"recipient_email\",\n",
    "    \"subject\",\n",
    "    \"summary\",\n",
    "    \"date\"\n",
    "  ]\n",
    "}"
   ]
  },
  {
   "cell_type": "markdown",
   "metadata": {},
   "source": [
    "- get_format_instructions() 실행해서 나온 결과가 사실 프롬프트에 작성돼야할 내용임\n",
    "- PydanticOutputParser()을 사용하지 않을 경우 get_format_instructions()의 실행 결과를 그대로 프롬프트에 작성해주면 됨 "
   ]
  },
  {
   "cell_type": "markdown",
   "metadata": {},
   "source": [
    "### 프롬프트 템플릿 작성"
   ]
  },
  {
   "cell_type": "code",
   "execution_count": 18,
   "metadata": {},
   "outputs": [
    {
     "name": "stdout",
     "output_type": "stream",
     "text": [
      "input_variables=['email', 'user_question'] input_types={} partial_variables={'format': 'The output should be formatted as a JSON instance that conforms to the JSON schema below.\\n\\nAs an example, for the schema {\"properties\": {\"foo\": {\"title\": \"Foo\", \"description\": \"a list of strings\", \"type\": \"array\", \"items\": {\"type\": \"string\"}}}, \"required\": [\"foo\"]}\\nthe object {\"foo\": [\"bar\", \"baz\"]} is a well-formatted instance of the schema. The object {\"properties\": {\"foo\": [\"bar\", \"baz\"]}} is not well-formatted.\\n\\nHere is the output schema:\\n```\\n{\"properties\": {\"sender\": {\"description\": \"발신자\", \"title\": \"Sender\", \"type\": \"string\"}, \"sender_email\": {\"description\": \"발신자 이메일 주소\", \"title\": \"Sender Email\", \"type\": \"string\"}, \"recipient\": {\"description\": \"수신자\", \"title\": \"Recipient\", \"type\": \"string\"}, \"recipient_email\": {\"description\": \"수신자 이메일 주소\", \"title\": \"Recipient Email\", \"type\": \"string\"}, \"subject\": {\"description\": \"메일 제목\", \"title\": \"Subject\", \"type\": \"string\"}, \"summary\": {\"description\": \"메일 본문을 요약한 텍스트\", \"title\": \"Summary\", \"type\": \"string\"}, \"date\": {\"description\": \"메일 본문에 언급된 미팅 날짜와 시간\", \"title\": \"Date\", \"type\": \"string\"}}, \"required\": [\"sender\", \"sender_email\", \"recipient\", \"recipient_email\", \"subject\", \"summary\", \"date\"]}\\n```'} template='\\n당신은 유능한 어시스턴트 입니다. 다음 질문에 대해 답변해주세요.\\n\\n# 사용자 질문\\n{user_question}\\n\\n# 이메일\\n{email}\\n\\n# 출력 포맷\\n{format}\\n'\n"
     ]
    }
   ],
   "source": [
    "prompt = PromptTemplate.from_template(\n",
    "    \"\"\"\n",
    "당신은 유능한 어시스턴트 입니다. 다음 질문에 대해 답변해주세요.\n",
    "\n",
    "# 사용자 질문\n",
    "{user_question}\n",
    "\n",
    "# 이메일\n",
    "{email}\n",
    "\n",
    "# 출력 포맷\n",
    "{format}\n",
    "\"\"\"\n",
    ")\n",
    "\n",
    "llm = ChatOpenAI(model_name=\"gpt-4o\")\n",
    "\n",
    "# format 변수에 포맷 지시사항 담기 \n",
    "prompt = prompt.partial(format=parser.get_format_instructions())\n",
    "print(prompt)"
   ]
  },
  {
   "cell_type": "markdown",
   "metadata": {},
   "source": [
    "### chain생성 및 실행"
   ]
  },
  {
   "cell_type": "markdown",
   "metadata": {},
   "source": [
    "#### invoke() 로 출력"
   ]
  },
  {
   "cell_type": "code",
   "execution_count": 19,
   "metadata": {},
   "outputs": [
    {
     "name": "stdout",
     "output_type": "stream",
     "text": [
      "```json\n",
      "{\n",
      "  \"sender\": \"김철수\",\n",
      "  \"sender_email\": \"chulsoo.kim@bikecorporation.me\",\n",
      "  \"recipient\": \"이은채\",\n",
      "  \"recipient_email\": \"eunchae@teddyinternational.me\",\n",
      "  \"subject\": \"\\\"ZENESIS\\\" 자전거 유통 협력 및 미팅 일정 제안\",\n",
      "  \"summary\": \"바이크코퍼레이션의 김철수가 테디인터내셔널의 이은채에게 신규 자전거 \\\"ZENESIS\\\"에 대한 협력을 제안하며, 기술 사양, 배터리 성능, 디자인에 대한 상세 정보를 요청하고, 1월 15일 화요일 오전 10시에 미팅을 제안함.\",\n",
      "  \"date\": \"1월 15일 화요일 오전 10시\"\n",
      "}\n",
      "```\n"
     ]
    }
   ],
   "source": [
    "chain = prompt | llm \n",
    "\n",
    "response = chain.invoke(\n",
    "    {\n",
    "        'user_question': '이메일에서 중요한 내용을 추출해 주세요.',\n",
    "        'email': email\n",
    "    }\n",
    ")\n",
    "\n",
    "output = response.content\n",
    "print(output)"
   ]
  },
  {
   "cell_type": "code",
   "execution_count": 20,
   "metadata": {},
   "outputs": [
    {
     "name": "stdout",
     "output_type": "stream",
     "text": [
      "<class 'str'>\n"
     ]
    }
   ],
   "source": [
    "# output이 str 타입임을 알 수 있음\n",
    "print(type(output))"
   ]
  },
  {
   "cell_type": "markdown",
   "metadata": {},
   "source": [
    "#### stream() 로 출력"
   ]
  },
  {
   "cell_type": "code",
   "execution_count": 21,
   "metadata": {},
   "outputs": [
    {
     "name": "stdout",
     "output_type": "stream",
     "text": [
      "```json\n",
      "{\n",
      "    \"sender\": \"김철수\",\n",
      "    \"sender_email\": \"chulsoo.kim@bikecorporation.me\",\n",
      "    \"recipient\": \"이은채\",\n",
      "    \"recipient_email\": \"eunchae@teddyinternational.me\",\n",
      "    \"subject\": \"\\\"ZENESIS\\\" 자전거 유통 협력 및 미팅 일정 제안\",\n",
      "    \"summary\": \"김철수 상무는 이은채 대리에게 ZENESIS 자전거에 대한 상세한 브로슈어를 요청하고, 협력 논의를 위해 1월 15일 화요일 오전 10시에 미팅을 제안하였습니다.\",\n",
      "    \"date\": \"1월 15일 오전 10시\"\n",
      "}\n",
      "```"
     ]
    }
   ],
   "source": [
    "from utils.messages import stream_response\n",
    "\n",
    "chain = prompt | llm \n",
    "\n",
    "answer = chain.stream(\n",
    "    {\n",
    "        'user_question': '이메일에서 중요한 내용을 추출해 주세요.',\n",
    "        'email': email\n",
    "    }\n",
    ")\n",
    "\n",
    "output = stream_response(answer, return_output=True)"
   ]
  },
  {
   "cell_type": "markdown",
   "metadata": {},
   "source": [
    "### parser를 사용하여 결과를 파싱하고 EmailSummary 객체로 변환"
   ]
  },
  {
   "cell_type": "code",
   "execution_count": 13,
   "metadata": {},
   "outputs": [],
   "source": [
    "structured = parser.parse(output)"
   ]
  },
  {
   "cell_type": "code",
   "execution_count": 14,
   "metadata": {},
   "outputs": [
    {
     "data": {
      "text/plain": [
       "EmailSummary(sender='김철수', sender_email='chulsoo.kim@bikecorporation.me', recipient='이은채', recipient_email='eunchae@teddyinternational.me', subject='\"ZENESIS\" 자전거 유통 협력 및 미팅 일정 제안', summary='김철수 상무가 이은채 대리에게 바이크코퍼레이션의 ZENESIS 자전거에 대한 상세 브로슈어 요청과 함께 유통 전략 및 마케팅 계획 수립을 위한 정보를 요청하고, 협력 가능성 논의를 위한 미팅을 1월 15일 화요일 오전 10시에 제안함.', date='1월 15일 오전 10시')"
      ]
     },
     "execution_count": 14,
     "metadata": {},
     "output_type": "execute_result"
    }
   ],
   "source": [
    "structured"
   ]
  },
  {
   "cell_type": "code",
   "execution_count": 15,
   "metadata": {},
   "outputs": [
    {
     "data": {
      "text/plain": [
       "'김철수'"
      ]
     },
     "execution_count": 15,
     "metadata": {},
     "output_type": "execute_result"
    }
   ],
   "source": [
    "# 파라미터로 원하는 데이터에 접근 가능 \n",
    "structured.sender"
   ]
  },
  {
   "cell_type": "markdown",
   "metadata": {},
   "source": [
    "## 1.3 parser가 추가된 chain 생성하여 사용할 경우"
   ]
  },
  {
   "cell_type": "code",
   "execution_count": 16,
   "metadata": {},
   "outputs": [
    {
     "data": {
      "text/plain": [
       "EmailSummary(sender='김철수', sender_email='chulsoo.kim@bikecorporation.me', recipient='이은채', recipient_email='eunchae@teddyinternational.me', subject='\"ZENESIS\" 자전거 유통 협력 및 미팅 일정 제안', summary=\"김철수 상무가 신규 자전거 'ZENESIS'에 대한 브로슈어를 요청하며, 기술 사양, 배터리 성능, 디자인 정보가 필요하다고 설명합니다. 또한, 협력 논의를 위해 1월 15일 화요일 오전 10시에 미팅을 제안합니다.\", date='1월 15일 오전 10시')"
      ]
     },
     "execution_count": 16,
     "metadata": {},
     "output_type": "execute_result"
    }
   ],
   "source": [
    "chain = prompt | llm | parser # parser.parse(output)과 똑같음 \n",
    "\n",
    "response = chain.invoke(\n",
    "    {\n",
    "        'user_question': '이메일에서 주요 내용을 추출해 주세요.',\n",
    "        'email': email\n",
    "    }\n",
    ")\n",
    "response # str타입을 객체화 하여 각각의 데이터에 instance로 접근할 수 있게 됨"
   ]
  },
  {
   "cell_type": "raw",
   "metadata": {
    "vscode": {
     "languageId": "raw"
    }
   },
   "source": [
    "EmailSummary(\n",
    "    sender='박지현', \n",
    "    sender_email='Jihyun.Park@abc.com', \n",
    "    recipient='김민재', \n",
    "    recipient_email='Minjae@def.com', \n",
    "    subject='[미팅 제안] 기술 협력을 통한 상호 발전 방안 논의', \n",
    "    summary='박지현이 김민재에게 AI 알고리즘과 데이터 분석 기술의 시너지를 논의하기 위해 10월 25일 미팅을 제안함.', \n",
    "    date='2023-10-25')"
   ]
  },
  {
   "cell_type": "code",
   "execution_count": 17,
   "metadata": {},
   "outputs": [
    {
     "data": {
      "text/plain": [
       "'김철수'"
      ]
     },
     "execution_count": 17,
     "metadata": {},
     "output_type": "execute_result"
    }
   ],
   "source": [
    "response.sender"
   ]
  },
  {
   "cell_type": "markdown",
   "metadata": {},
   "source": [
    "# 2. with_structured_output()"
   ]
  },
  {
   "cell_type": "markdown",
   "metadata": {},
   "source": [
    "- ChatOpenAI의 with_structured_output()메소드 \n",
    "- chain에 parser를 추가하지 않음\n",
    "- 출력을 Pydantic 객체로 변환할 수 있는 메소드\n",
    "- 단점: stream()지원이 안 됨"
   ]
  },
  {
   "cell_type": "markdown",
   "metadata": {},
   "source": [
    "### 사용자 입력 context"
   ]
  },
  {
   "cell_type": "code",
   "execution_count": 18,
   "metadata": {},
   "outputs": [],
   "source": [
    "from langchain_openai import ChatOpenAI\n",
    "from langchain_core.output_parsers import PydanticOutputParser\n",
    "from pydantic import BaseModel, Field\n",
    "\n",
    "email = \"\"\"\n",
    "From: 박지현 (Jihyun.Park@abc.com)\n",
    "To: 김민재 (Minjae@def.com)\n",
    "제목: [미팅 제안] 기술 협력을 통한 상호 발전 방안 논의\n",
    "\n",
    "안녕하세요, 민재 선임님.\n",
    "저는 DEF 소프트웨어의 연구개발부 팀장 박지현입니다.\n",
    "\n",
    "최근 전문 저널에서 귀사의 AI 알고리즘에 대한 기사를 읽고 큰 관심을 갖게 되었습니다. 저희 회사의 데이터 분석 기술과 결합하면 시너지 효과를 낼 수 있을 것이라 생각합니다.\n",
    "\n",
    "이에 대해 논의하기 위해 10월 25일에 미팅을 제안드립니다. 편하신 시간대를 알려주시면 일정에 맞추도록 하겠습니다.\n",
    "\n",
    "감사합니다.\n",
    "\n",
    "박지현 드림\n",
    "\"\"\""
   ]
  },
  {
   "cell_type": "markdown",
   "metadata": {},
   "source": [
    "출력 포맷 정의"
   ]
  },
  {
   "cell_type": "code",
   "execution_count": 19,
   "metadata": {},
   "outputs": [],
   "source": [
    "class EmailSummary(BaseModel): # BaseModel 상속받음\n",
    "    # 클래스 변수 정의 \n",
    "    sender: str = Field(description='발신자')\n",
    "    sender_email: str = Field(description='발신자 이메일 주소')\n",
    "    recipient: str = Field(description='수신자')\n",
    "    recipient_email: str = Field(description='수신자 이메일 주소')\n",
    "    subject: str = Field(description='메일 제목')\n",
    "    summary: str = Field(description='메일 본문을 요약한 텍스트')\n",
    "    date: str = Field(description='메일 본문에 언급된 미팅 날짜와 시간')\n",
    "\n",
    "\n",
    "parser = PydanticOutputParser(pydantic_object=EmailSummary)"
   ]
  },
  {
   "cell_type": "markdown",
   "metadata": {},
   "source": [
    "### 프롬프트 작성 및 출력포맷 변수 채워넣기 "
   ]
  },
  {
   "cell_type": "code",
   "execution_count": 20,
   "metadata": {},
   "outputs": [
    {
     "name": "stdout",
     "output_type": "stream",
     "text": [
      "input_variables=['email', 'user_question'] input_types={} partial_variables={'format': 'The output should be formatted as a JSON instance that conforms to the JSON schema below.\\n\\nAs an example, for the schema {\"properties\": {\"foo\": {\"title\": \"Foo\", \"description\": \"a list of strings\", \"type\": \"array\", \"items\": {\"type\": \"string\"}}}, \"required\": [\"foo\"]}\\nthe object {\"foo\": [\"bar\", \"baz\"]} is a well-formatted instance of the schema. The object {\"properties\": {\"foo\": [\"bar\", \"baz\"]}} is not well-formatted.\\n\\nHere is the output schema:\\n```\\n{\"properties\": {\"sender\": {\"description\": \"발신자\", \"title\": \"Sender\", \"type\": \"string\"}, \"sender_email\": {\"description\": \"발신자 이메일 주소\", \"title\": \"Sender Email\", \"type\": \"string\"}, \"recipient\": {\"description\": \"수신자\", \"title\": \"Recipient\", \"type\": \"string\"}, \"recipient_email\": {\"description\": \"수신자 이메일 주소\", \"title\": \"Recipient Email\", \"type\": \"string\"}, \"subject\": {\"description\": \"메일 제목\", \"title\": \"Subject\", \"type\": \"string\"}, \"summary\": {\"description\": \"메일 본문을 요약한 텍스트\", \"title\": \"Summary\", \"type\": \"string\"}, \"date\": {\"description\": \"메일 본문에 언급된 미팅 날짜와 시간\", \"title\": \"Date\", \"type\": \"string\"}}, \"required\": [\"sender\", \"sender_email\", \"recipient\", \"recipient_email\", \"subject\", \"summary\", \"date\"]}\\n```'} template='\\n당신은 유능한 어시스턴트 입니다. 다음 질문에 대해 답변해주세요.\\n\\n# 사용자 질문\\n{user_question}\\n\\n# 이메일\\n{email}\\n\\n# 출력 포맷\\n{format}\\n'\n"
     ]
    }
   ],
   "source": [
    "from langchain_core.prompts import PromptTemplate\n",
    "\n",
    "prompt = PromptTemplate.from_template(\n",
    "    \"\"\"\n",
    "당신은 유능한 어시스턴트 입니다. 다음 질문에 대해 답변해주세요.\n",
    "\n",
    "# 사용자 질문\n",
    "{user_question}\n",
    "\n",
    "# 이메일\n",
    "{email}\n",
    "\n",
    "# 출력 포맷\n",
    "{format}\n",
    "\"\"\"\n",
    ")\n",
    "\n",
    "# format 변수에 PydanticOutputParser 담기 \n",
    "prompt = prompt.partial(format=parser.get_format_instructions())\n",
    "print(prompt)"
   ]
  },
  {
   "cell_type": "markdown",
   "metadata": {},
   "source": [
    "### llm 객체 생성 \n",
    "- with_structured_output()메소드로 모델에서 출력값 구조화 하기 \n",
    "- LangSmith에서 chain에 parser를 추가해준 것과 어떤 차이가 있는지 확인 해보기"
   ]
  },
  {
   "cell_type": "code",
   "execution_count": 21,
   "metadata": {},
   "outputs": [],
   "source": [
    "llm = ChatOpenAI(\n",
    "    model_name = 'gpt-4o-mini',\n",
    "    temperature=0\n",
    "    ).with_structured_output(EmailSummary)"
   ]
  },
  {
   "cell_type": "markdown",
   "metadata": {},
   "source": [
    "### 체인 생성 후 실행"
   ]
  },
  {
   "cell_type": "markdown",
   "metadata": {},
   "source": [
    "ChatOpenAI > Input에 prompt 변수에 넘겨준 출력 포맷이 함께 들어가 있음"
   ]
  },
  {
   "cell_type": "code",
   "execution_count": 22,
   "metadata": {},
   "outputs": [
    {
     "data": {
      "text/plain": [
       "EmailSummary(sender='박지현', sender_email='Jihyun.Park@abc.com', recipient='김민재', recipient_email='Minjae@def.com', subject='[미팅 제안] 기술 협력을 통한 상호 발전 방안 논의', summary='박지현이 김민재에게 AI 알고리즘과 데이터 분석 기술의 시너지 효과에 대해 논의하기 위해 10월 25일에 미팅을 제안하는 내용의 이메일.', date='10월 25일')"
      ]
     },
     "execution_count": 22,
     "metadata": {},
     "output_type": "execute_result"
    }
   ],
   "source": [
    "chain = prompt | llm \n",
    "\n",
    "response = chain.invoke(\n",
    "    {\n",
    "        'user_question': '이메일에서 주요 내용을 추출해 주세요.',\n",
    "        'email': email\n",
    "    }\n",
    ")\n",
    "response"
   ]
  },
  {
   "cell_type": "code",
   "execution_count": 23,
   "metadata": {},
   "outputs": [
    {
     "name": "stdout",
     "output_type": "stream",
     "text": [
      "박지현\n"
     ]
    }
   ],
   "source": [
    "print(response.sender)"
   ]
  },
  {
   "cell_type": "markdown",
   "metadata": {},
   "source": [
    "### 체인 생성 없이 실행"
   ]
  },
  {
   "cell_type": "markdown",
   "metadata": {},
   "source": [
    "ChatOpenAI > Input에 prompt 변수에 넘겨준 출력 포맷이 들어가 있지 않음"
   ]
  },
  {
   "cell_type": "code",
   "execution_count": 24,
   "metadata": {},
   "outputs": [
    {
     "name": "stdout",
     "output_type": "stream",
     "text": [
      "sender='박지현' sender_email='Jihyun.Park@abc.com' recipient='김민재' recipient_email='Minjae@def.com' subject='[미팅 제안] 기술 협력을 통한 상호 발전 방안 논의' summary='박지현이 김민재에게 AI 알고리즘과 데이터 분석 기술의 시너지 효과에 대해 논의하기 위한 미팅을 10월 25일에 제안함.' date='2023-10-25'\n"
     ]
    }
   ],
   "source": [
    "llm = ChatOpenAI(\n",
    "    model_name='gpt-4o-mini', \n",
    "    temperature=0\n",
    "    ).with_structured_output(EmailSummary)\n",
    "\n",
    "response = llm.invoke(email)\n",
    "print(response)"
   ]
  },
  {
   "cell_type": "code",
   "execution_count": 25,
   "metadata": {},
   "outputs": [
    {
     "data": {
      "text/plain": [
       "'박지현'"
      ]
     },
     "execution_count": 25,
     "metadata": {},
     "output_type": "execute_result"
    }
   ],
   "source": [
    "response.sender"
   ]
  },
  {
   "cell_type": "markdown",
   "metadata": {},
   "source": [
    "# 3. CommaSeperatedListOutputParser\n",
    "- 쉼표로 구분된 항목 리스트를 반환\n",
    "- 인덱싱을 통해 데이터를 다루기 쉬워짐"
   ]
  },
  {
   "cell_type": "markdown",
   "metadata": {},
   "source": [
    "### 출력 파서 객체 생성"
   ]
  },
  {
   "cell_type": "code",
   "execution_count": 26,
   "metadata": {},
   "outputs": [
    {
     "name": "stdout",
     "output_type": "stream",
     "text": [
      "Your response should be a list of comma separated values, eg: `foo, bar, baz` or `foo,bar,baz`\n"
     ]
    }
   ],
   "source": [
    "from langchain_openai import ChatOpenAI\n",
    "from langchain_core.prompts import PromptTemplate\n",
    "from langchain_core.output_parsers import CommaSeparatedListOutputParser\n",
    "\n",
    "# 출력 파서 객체 생성\n",
    "output_parser = CommaSeparatedListOutputParser()\n",
    "\n",
    "# 출력 형식 지침 가져오기 \n",
    "format_instructions = output_parser.get_format_instructions()\n",
    "print(format_instructions)"
   ]
  },
  {
   "cell_type": "markdown",
   "metadata": {},
   "source": [
    "### 프롬프트 템플릿 작성"
   ]
  },
  {
   "cell_type": "code",
   "execution_count": 27,
   "metadata": {},
   "outputs": [
    {
     "name": "stdout",
     "output_type": "stream",
     "text": [
      "input_variables=['subject'] input_types={} partial_variables={'format_instructions': 'Your response should be a list of comma separated values, eg: `foo, bar, baz` or `foo,bar,baz`'} template='{subject}에대해 5개를 한국어로 나열하세요.\\n{format_instructions}'\n"
     ]
    }
   ],
   "source": [
    "prompt = PromptTemplate(\n",
    "    template=\"{subject}에대해 5개를 한국어로 나열하세요.\\n{format_instructions}\",\n",
    "    input_variables=['subject'],\n",
    "    partial_variables={'format_instructions': format_instructions},\n",
    ")\n",
    "\n",
    "print(prompt)"
   ]
  },
  {
   "cell_type": "markdown",
   "metadata": {},
   "source": [
    "### llm 객체 생성"
   ]
  },
  {
   "cell_type": "code",
   "execution_count": null,
   "metadata": {},
   "outputs": [],
   "source": [
    "llm = ChatOpenAI(model_name = 'gpt-4o-mini')"
   ]
  },
  {
   "cell_type": "markdown",
   "metadata": {},
   "source": [
    "### chain생성 및 실행"
   ]
  },
  {
   "cell_type": "code",
   "execution_count": 28,
   "metadata": {},
   "outputs": [],
   "source": [
    "chain = prompt | llm | output_parser"
   ]
  },
  {
   "cell_type": "markdown",
   "metadata": {},
   "source": [
    "#### invoke()로 출력"
   ]
  },
  {
   "cell_type": "code",
   "execution_count": 29,
   "metadata": {},
   "outputs": [
    {
     "name": "stdout",
     "output_type": "stream",
     "text": [
      "<class 'list'>\n",
      "['경복궁', '남산타워', '부산 해운대해수욕장', '제주도 성산일출봉', '경주 불국사temples']\n"
     ]
    }
   ],
   "source": [
    "answer = chain.invoke({'subject': '한국 관광명소'})\n",
    "print(type(answer))\n",
    "print(answer)"
   ]
  },
  {
   "cell_type": "markdown",
   "metadata": {},
   "source": [
    "#### stream()으로 출력 "
   ]
  },
  {
   "cell_type": "code",
   "execution_count": 30,
   "metadata": {},
   "outputs": [
    {
     "name": "stdout",
     "output_type": "stream",
     "text": [
      "['경복궁']\n",
      "['남산타워']\n",
      "['부산 해운대해수욕장']\n",
      "['제주도 용두암']\n",
      "['경주 불국사temples']\n"
     ]
    }
   ],
   "source": [
    "# 원칙상으로 잘 안 쓰이긴 함 (리스트가 5개로 나오기 때문) \n",
    "for a in chain.stream({'subject': '한국 관광명소'}):\n",
    "    print(a)"
   ]
  },
  {
   "cell_type": "code",
   "execution_count": 31,
   "metadata": {},
   "outputs": [
    {
     "name": "stdout",
     "output_type": "stream",
     "text": [
      "['경복궁', '남산타워', '부산 해운대해수욕장', '제주도 용두암', '경주 불국사emple']\n"
     ]
    }
   ],
   "source": [
    "a_list = []\n",
    "for a in chain.stream({'subject': '한국 관광명소'}):\n",
    "    a_list.extend(a)\n",
    "print(a_list)"
   ]
  },
  {
   "cell_type": "markdown",
   "metadata": {},
   "source": [
    "# 4. JasonOutputParser()\n",
    "- 사용자가 원하는 JSON 스키마를 지정할 수 있게 해줌 \n",
    "- LLM에게 사용자 정의에 맞는 JSON 스키마 출력을 요구할 경우 모델의 용량/크기가 충분히 커야 함 \n",
    "- JSON 서버와 클라이언트 간의 통신을 위해서 쓰이는 포맷임 \n",
    "- JSON은 읽기 쉽고 기계가 파싱하고 생성하기 쉬운 텍스트를 기반으로 함 "
   ]
  },
  {
   "cell_type": "markdown",
   "metadata": {},
   "source": [
    "### llm 객체 생성 "
   ]
  },
  {
   "cell_type": "code",
   "execution_count": 36,
   "metadata": {},
   "outputs": [],
   "source": [
    "from langchain_openai import ChatOpenAI\n",
    "from langchain_core.output_parsers import JsonOutputParser\n",
    "from langchain_core.prompts import ChatPromptTemplate\n",
    "from pydantic import BaseModel, Field\n",
    "\n",
    "llm = ChatOpenAI(model_name='gpt-4o-mini', temperature=0)"
   ]
  },
  {
   "cell_type": "markdown",
   "metadata": {},
   "source": [
    "### 출력 포맷 정의"
   ]
  },
  {
   "cell_type": "code",
   "execution_count": 37,
   "metadata": {},
   "outputs": [],
   "source": [
    "class Dictionary(BaseModel):\n",
    "    word: str = Field(description='난이도가 높은 영어 단어')\n",
    "    meaning: str = Field(description='영어 단어(word)의 한국어 의미')\n",
    "    synonym: str = Field(description='영어 단어(word)의 유사어')\n",
    "    example: str = Field(description='영어 단어(word)를 활용한 영어문장 예시')\n",
    "    part: str = Field(description='영어 단어(word)의 품사')"
   ]
  },
  {
   "cell_type": "markdown",
   "metadata": {},
   "source": [
    "### 프롬프트 작성"
   ]
  },
  {
   "cell_type": "markdown",
   "metadata": {},
   "source": [
    "#### Chat 형식으로 프롬프트 생성"
   ]
  },
  {
   "cell_type": "code",
   "execution_count": 38,
   "metadata": {},
   "outputs": [
    {
     "name": "stdout",
     "output_type": "stream",
     "text": [
      "The output should be formatted as a JSON instance that conforms to the JSON schema below.\n",
      "\n",
      "As an example, for the schema {\"properties\": {\"foo\": {\"title\": \"Foo\", \"description\": \"a list of strings\", \"type\": \"array\", \"items\": {\"type\": \"string\"}}}, \"required\": [\"foo\"]}\n",
      "the object {\"foo\": [\"bar\", \"baz\"]} is a well-formatted instance of the schema. The object {\"properties\": {\"foo\": [\"bar\", \"baz\"]}} is not well-formatted.\n",
      "\n",
      "Here is the output schema:\n",
      "```\n",
      "{\"properties\": {\"word\": {\"description\": \"\\ub09c\\uc774\\ub3c4\\uac00 \\ub192\\uc740 \\uc601\\uc5b4 \\ub2e8\\uc5b4\", \"title\": \"Word\", \"type\": \"string\"}, \"meaning\": {\"description\": \"\\uc601\\uc5b4 \\ub2e8\\uc5b4(word)\\uc758 \\ud55c\\uad6d\\uc5b4 \\uc758\\ubbf8\", \"title\": \"Meaning\", \"type\": \"string\"}, \"synonym\": {\"description\": \"\\uc601\\uc5b4 \\ub2e8\\uc5b4(word)\\uc758 \\uc720\\uc0ac\\uc5b4\", \"title\": \"Synonym\", \"type\": \"string\"}, \"example\": {\"description\": \"\\uc601\\uc5b4 \\ub2e8\\uc5b4(word)\\ub97c \\ud65c\\uc6a9\\ud55c \\uc601\\uc5b4\\ubb38\\uc7a5 \\uc608\\uc2dc\", \"title\": \"Example\", \"type\": \"string\"}, \"part\": {\"description\": \"\\uc601\\uc5b4 \\ub2e8\\uc5b4(word)\\uc758 \\ud488\\uc0ac\", \"title\": \"Part\", \"type\": \"string\"}}, \"required\": [\"word\", \"meaning\", \"synonym\", \"example\", \"part\"]}\n",
      "```\n"
     ]
    },
    {
     "data": {
      "text/plain": [
       "[{'word': 'head',\n",
       "  'meaning': '머리 또는 정수리',\n",
       "  'synonym': 'crown',\n",
       "  'example': 'He bowed his head in shame.',\n",
       "  'part': 'noun'},\n",
       " {'word': 'glow',\n",
       "  'meaning': '빛나다, 빛',\n",
       "  'synonym': 'shine',\n",
       "  'example': 'The glow of the sunset was beautiful.',\n",
       "  'part': 'noun'},\n",
       " {'word': 'machine',\n",
       "  'meaning': '기계, 장치',\n",
       "  'synonym': 'device',\n",
       "  'example': 'The vending machine dispenses snacks.',\n",
       "  'part': 'noun'},\n",
       " {'word': 'time',\n",
       "  'meaning': '시간',\n",
       "  'synonym': 'period',\n",
       "  'example': \"Time flies when you're having fun.\",\n",
       "  'part': 'noun'},\n",
       " {'word': 'knife',\n",
       "  'meaning': '칼',\n",
       "  'synonym': 'blade',\n",
       "  'example': 'He used a knife to cut the bread.',\n",
       "  'part': 'noun'},\n",
       " {'word': 'waiting',\n",
       "  'meaning': '기다림',\n",
       "  'synonym': 'awaiting',\n",
       "  'example': 'I am waiting for the bus.',\n",
       "  'part': 'verb'},\n",
       " {'word': 'cut',\n",
       "  'meaning': '자르다',\n",
       "  'synonym': 'slice',\n",
       "  'example': 'Please cut the paper carefully.',\n",
       "  'part': 'verb'},\n",
       " {'word': 'roll',\n",
       "  'meaning': '구르다, 굴리다',\n",
       "  'synonym': 'spin',\n",
       "  'example': 'The ball will roll down the hill.',\n",
       "  'part': 'verb'},\n",
       " {'word': 'bleed',\n",
       "  'meaning': '피를 흘리다',\n",
       "  'synonym': 'hemorrhage',\n",
       "  'example': 'If you cut yourself, you might bleed.',\n",
       "  'part': 'verb'},\n",
       " {'word': 'new',\n",
       "  'meaning': '새로운',\n",
       "  'synonym': 'fresh',\n",
       "  'example': 'I bought a new car.',\n",
       "  'part': 'adjective'}]"
      ]
     },
     "execution_count": 38,
     "metadata": {},
     "output_type": "execute_result"
    }
   ],
   "source": [
    "# 사용자 입력\n",
    "lyric = \"\"\"\"Hang your head low in the glow of the vending machine\n",
    "I'm not dying (Oh yeah, you're right, I want it)\n",
    "We say that we'll just screw it up in these trying times\n",
    "We're not trying (Oh yeah, you're right, I want it)\n",
    "So cut the headlights, summer's a knife\n",
    "I'm always waiting for you just to cut to the bone\n",
    "Devils roll the dice, angels roll their eyes\n",
    "And if I bleed, you'll be the last to know\n",
    "Oh, it's new, the shape of your body\n",
    "\"\"\"\n",
    "\n",
    "template = \"\"\"\n",
    "다음은 노래가사야.\n",
    "노래가사에서 명사, 동사, 형용사를 뽑아서 사전을 만들거야. \n",
    "총 10개의 단어를 뽑아서 사전을 만들어줘.\n",
    "\n",
    "아래에 명시된 각 명사, 동사, 형용사에서의 제외어는 제외하고 단어를 뽑아줘. \n",
    "--제외어--\n",
    "명사: I, my, me, mine, you, your, yours, it, its\n",
    "동사: is, are, am\n",
    "\n",
    "아래에 제시된 포맷으로 출력해줘.\n",
    "--출력 포맷--\n",
    "{format_instructions}\n",
    "\n",
    "--가사--\n",
    "{lyric}\n",
    "\"\"\"\n",
    "\n",
    "# 출력 파서 설정\n",
    "parser = JsonOutputParser(pydantic_object=Dictionary)\n",
    "print(parser.get_format_instructions())\n",
    "\n",
    "# 챗프롬프트 객체 생성 \n",
    "prompt = ChatPromptTemplate.from_messages(\n",
    "    [\n",
    "        ('system', '당신은 영어사전 제작자 입니다.'),\n",
    "        ('user', template)\n",
    "    ]\n",
    ")\n",
    "\n",
    "# partial로 포맷 지시사항 채워주기 \n",
    "prompt = prompt.partial(format_instructions = parser.get_format_instructions())\n",
    "\n",
    "# 체인 생성\n",
    "chain = prompt | llm | parser\n",
    "chat_answer = chain.invoke({'lyric': lyric})\n",
    "chat_answer"
   ]
  },
  {
   "cell_type": "code",
   "execution_count": 39,
   "metadata": {},
   "outputs": [
    {
     "name": "stdout",
     "output_type": "stream",
     "text": [
      "<class 'list'>\n"
     ]
    }
   ],
   "source": [
    "print(type(chat_answer))"
   ]
  },
  {
   "cell_type": "markdown",
   "metadata": {},
   "source": [
    "#### PromptTemplate으로 프롬프트 생성"
   ]
  },
  {
   "cell_type": "code",
   "execution_count": 40,
   "metadata": {},
   "outputs": [
    {
     "data": {
      "text/plain": [
       "[{'word': 'head',\n",
       "  'meaning': '머리',\n",
       "  'synonym': '두부',\n",
       "  'example': 'He nodded his head in agreement.',\n",
       "  'part': '명사'},\n",
       " {'word': 'glow',\n",
       "  'meaning': '빛나다',\n",
       "  'synonym': '빛',\n",
       "  'example': 'The glow of the sunset was beautiful.',\n",
       "  'part': '명사'},\n",
       " {'word': 'vending machine',\n",
       "  'meaning': '자판기',\n",
       "  'synonym': '판매기',\n",
       "  'example': 'I bought a drink from the vending machine.',\n",
       "  'part': '명사'},\n",
       " {'word': 'dying',\n",
       "  'meaning': '죽어가는',\n",
       "  'synonym': '소멸하는',\n",
       "  'example': 'The dying light of the day was fading.',\n",
       "  'part': '형용사'},\n",
       " {'word': 'trying',\n",
       "  'meaning': '힘든',\n",
       "  'synonym': '어려운',\n",
       "  'example': 'These are trying times for everyone.',\n",
       "  'part': '형용사'},\n",
       " {'word': 'cut',\n",
       "  'meaning': '자르다',\n",
       "  'synonym': '베다',\n",
       "  'example': 'Please cut the paper carefully.',\n",
       "  'part': '동사'},\n",
       " {'word': 'waiting',\n",
       "  'meaning': '기다리다',\n",
       "  'synonym': '대기하다',\n",
       "  'example': 'I am waiting for the bus.',\n",
       "  'part': '동사'},\n",
       " {'word': 'roll',\n",
       "  'meaning': '구르다',\n",
       "  'synonym': '굴리다',\n",
       "  'example': 'The ball will roll down the hill.',\n",
       "  'part': '동사'},\n",
       " {'word': 'bleed',\n",
       "  'meaning': '피가 나다',\n",
       "  'synonym': '출혈하다',\n",
       "  'example': 'If you cut yourself, you might bleed.',\n",
       "  'part': '동사'},\n",
       " {'word': 'new',\n",
       "  'meaning': '새로운',\n",
       "  'synonym': '신선한',\n",
       "  'example': 'I bought a new car.',\n",
       "  'part': '형용사'}]"
      ]
     },
     "execution_count": 40,
     "metadata": {},
     "output_type": "execute_result"
    }
   ],
   "source": [
    "# 사용자 입력\n",
    "lyric = \"\"\"\"Hang your head low in the glow of the vending machine\n",
    "I'm not dying (Oh yeah, you're right, I want it)\n",
    "We say that we'll just screw it up in these trying times\n",
    "We're not trying (Oh yeah, you're right, I want it)\n",
    "So cut the headlights, summer's a knife\n",
    "I'm always waiting for you just to cut to the bone\n",
    "Devils roll the dice, angels roll their eyes\n",
    "And if I bleed, you'll be the last to know\n",
    "Oh, it's new, the shape of your body\n",
    "\"\"\"\n",
    "\n",
    "template = \"\"\"\n",
    "다음은 노래가사야.\n",
    "노래가사에서 명사, 동사, 형용사를 뽑아서 사전을 만들거야. \n",
    "총 10개의 단어를 뽑아서 사전을 만들어줘.\n",
    "\n",
    "아래에 명시된 각 명사, 동사, 형용사에서의 제외어는 제외하고 단어를 뽑아줘. \n",
    "--제외어--\n",
    "명사: I, my, me, mine, you, your, yours, it, its\n",
    "동사: is, are, am\n",
    "\n",
    "아래에 제시된 포맷으로 출력해줘.\n",
    "--출력 포맷--\n",
    "{format_instructions}\n",
    "\n",
    "--가사--\n",
    "{lyric}\n",
    "\"\"\"\n",
    "\n",
    "# 출력 파서 설정\n",
    "parser = JsonOutputParser(pydantic_object=Dictionary)\n",
    "# print(parser.get_format_instructions())\n",
    "\n",
    "# 챗프롬프트 객체 생성 \n",
    "from langchain_core.prompts import PromptTemplate\n",
    "prompt = PromptTemplate.from_template(template)\n",
    "\n",
    "# partial로 포맷 지시사항 채워주기 \n",
    "prompt = prompt.partial(format_instructions = parser.get_format_instructions())\n",
    "\n",
    "# 체인 생성\n",
    "chain = prompt | llm | parser\n",
    "answer = chain.invoke({'lyric': lyric})\n",
    "answer"
   ]
  },
  {
   "cell_type": "code",
   "execution_count": 41,
   "metadata": {},
   "outputs": [
    {
     "name": "stdout",
     "output_type": "stream",
     "text": [
      "<class 'list'>\n",
      "<class 'dict'>\n"
     ]
    }
   ],
   "source": [
    "print(type(answer))\n",
    "print(type(answer[0]))"
   ]
  },
  {
   "cell_type": "markdown",
   "metadata": {},
   "source": [
    "# 5. PandasDataFrameOutputParser\n",
    "\n",
    "- langchain 0.1 버전에서 쓰임"
   ]
  },
  {
   "cell_type": "code",
   "execution_count": 4,
   "metadata": {},
   "outputs": [],
   "source": [
    "import pprint \n",
    "from typing import Any, Dict \n",
    "\n",
    "import pandas as pd \n",
    "from langchain_openai import ChatOpenAI\n",
    "from langchain_core.prompts import PromptTemplate\n",
    "from langchain.output_parsers import PandasDataFrameOutputParser"
   ]
  },
  {
   "cell_type": "markdown",
   "metadata": {},
   "source": [
    "1. OpenAI 객체 생성"
   ]
  },
  {
   "cell_type": "code",
   "execution_count": 6,
   "metadata": {},
   "outputs": [],
   "source": [
    "# DataFrame 출력포맷은 상위버전 모델이 잘 동작이 안 된다고 함 \n",
    "llm = ChatOpenAI(model_name='gpt-3.5-turbo', temperature=0) "
   ]
  },
  {
   "cell_type": "markdown",
   "metadata": {},
   "source": [
    "2. pandas로 csv 데이터 로드 "
   ]
  },
  {
   "cell_type": "code",
   "execution_count": 7,
   "metadata": {},
   "outputs": [
    {
     "data": {
      "text/html": [
       "<div>\n",
       "<style scoped>\n",
       "    .dataframe tbody tr th:only-of-type {\n",
       "        vertical-align: middle;\n",
       "    }\n",
       "\n",
       "    .dataframe tbody tr th {\n",
       "        vertical-align: top;\n",
       "    }\n",
       "\n",
       "    .dataframe thead th {\n",
       "        text-align: right;\n",
       "    }\n",
       "</style>\n",
       "<table border=\"1\" class=\"dataframe\">\n",
       "  <thead>\n",
       "    <tr style=\"text-align: right;\">\n",
       "      <th></th>\n",
       "      <th>PassengerId</th>\n",
       "      <th>Survived</th>\n",
       "      <th>Pclass</th>\n",
       "      <th>Name</th>\n",
       "      <th>Sex</th>\n",
       "      <th>Age</th>\n",
       "      <th>SibSp</th>\n",
       "      <th>Parch</th>\n",
       "      <th>Ticket</th>\n",
       "      <th>Fare</th>\n",
       "      <th>Cabin</th>\n",
       "      <th>Embarked</th>\n",
       "    </tr>\n",
       "  </thead>\n",
       "  <tbody>\n",
       "    <tr>\n",
       "      <th>0</th>\n",
       "      <td>1</td>\n",
       "      <td>0</td>\n",
       "      <td>3</td>\n",
       "      <td>Braund, Mr. Owen Harris</td>\n",
       "      <td>male</td>\n",
       "      <td>22.0</td>\n",
       "      <td>1</td>\n",
       "      <td>0</td>\n",
       "      <td>A/5 21171</td>\n",
       "      <td>7.2500</td>\n",
       "      <td>NaN</td>\n",
       "      <td>S</td>\n",
       "    </tr>\n",
       "    <tr>\n",
       "      <th>1</th>\n",
       "      <td>2</td>\n",
       "      <td>1</td>\n",
       "      <td>1</td>\n",
       "      <td>Cumings, Mrs. John Bradley (Florence Briggs Th...</td>\n",
       "      <td>female</td>\n",
       "      <td>38.0</td>\n",
       "      <td>1</td>\n",
       "      <td>0</td>\n",
       "      <td>PC 17599</td>\n",
       "      <td>71.2833</td>\n",
       "      <td>C85</td>\n",
       "      <td>C</td>\n",
       "    </tr>\n",
       "    <tr>\n",
       "      <th>2</th>\n",
       "      <td>3</td>\n",
       "      <td>1</td>\n",
       "      <td>3</td>\n",
       "      <td>Heikkinen, Miss. Laina</td>\n",
       "      <td>female</td>\n",
       "      <td>26.0</td>\n",
       "      <td>0</td>\n",
       "      <td>0</td>\n",
       "      <td>STON/O2. 3101282</td>\n",
       "      <td>7.9250</td>\n",
       "      <td>NaN</td>\n",
       "      <td>S</td>\n",
       "    </tr>\n",
       "    <tr>\n",
       "      <th>3</th>\n",
       "      <td>4</td>\n",
       "      <td>1</td>\n",
       "      <td>1</td>\n",
       "      <td>Futrelle, Mrs. Jacques Heath (Lily May Peel)</td>\n",
       "      <td>female</td>\n",
       "      <td>35.0</td>\n",
       "      <td>1</td>\n",
       "      <td>0</td>\n",
       "      <td>113803</td>\n",
       "      <td>53.1000</td>\n",
       "      <td>C123</td>\n",
       "      <td>S</td>\n",
       "    </tr>\n",
       "    <tr>\n",
       "      <th>4</th>\n",
       "      <td>5</td>\n",
       "      <td>0</td>\n",
       "      <td>3</td>\n",
       "      <td>Allen, Mr. William Henry</td>\n",
       "      <td>male</td>\n",
       "      <td>35.0</td>\n",
       "      <td>0</td>\n",
       "      <td>0</td>\n",
       "      <td>373450</td>\n",
       "      <td>8.0500</td>\n",
       "      <td>NaN</td>\n",
       "      <td>S</td>\n",
       "    </tr>\n",
       "  </tbody>\n",
       "</table>\n",
       "</div>"
      ],
      "text/plain": [
       "   PassengerId  Survived  Pclass  \\\n",
       "0            1         0       3   \n",
       "1            2         1       1   \n",
       "2            3         1       3   \n",
       "3            4         1       1   \n",
       "4            5         0       3   \n",
       "\n",
       "                                                Name     Sex   Age  SibSp  \\\n",
       "0                            Braund, Mr. Owen Harris    male  22.0      1   \n",
       "1  Cumings, Mrs. John Bradley (Florence Briggs Th...  female  38.0      1   \n",
       "2                             Heikkinen, Miss. Laina  female  26.0      0   \n",
       "3       Futrelle, Mrs. Jacques Heath (Lily May Peel)  female  35.0      1   \n",
       "4                           Allen, Mr. William Henry    male  35.0      0   \n",
       "\n",
       "   Parch            Ticket     Fare Cabin Embarked  \n",
       "0      0         A/5 21171   7.2500   NaN        S  \n",
       "1      0          PC 17599  71.2833   C85        C  \n",
       "2      0  STON/O2. 3101282   7.9250   NaN        S  \n",
       "3      0            113803  53.1000  C123        S  \n",
       "4      0            373450   8.0500   NaN        S  "
      ]
     },
     "execution_count": 7,
     "metadata": {},
     "output_type": "execute_result"
    }
   ],
   "source": [
    "df = pd.read_csv('./data/titanic.csv')\n",
    "df.head()"
   ]
  },
  {
   "cell_type": "markdown",
   "metadata": {},
   "source": [
    "3. parser로 csv 데이터로드"
   ]
  },
  {
   "cell_type": "code",
   "execution_count": 8,
   "metadata": {},
   "outputs": [
    {
     "name": "stdout",
     "output_type": "stream",
     "text": [
      "The output should be formatted as a string as the operation, followed by a colon, followed by the column or row to be queried on, followed by optional array parameters.\n",
      "1. The column names are limited to the possible columns below.\n",
      "2. Arrays must either be a comma-separated list of numbers formatted as [1,3,5], or it must be in range of numbers formatted as [0..4].\n",
      "3. Remember that arrays are optional and not necessarily required.\n",
      "4. If the column is not in the possible columns or the operation is not a valid Pandas DataFrame operation, return why it is invalid as a sentence starting with either \"Invalid column\" or \"Invalid operation\".\n",
      "\n",
      "As an example, for the formats:\n",
      "1. String \"column:num_legs\" is a well-formatted instance which gets the column num_legs, where num_legs is a possible column.\n",
      "2. String \"row:1\" is a well-formatted instance which gets row 1.\n",
      "3. String \"column:num_legs[1,2]\" is a well-formatted instance which gets the column num_legs for rows 1 and 2, where num_legs is a possible column.\n",
      "4. String \"row:1[num_legs]\" is a well-formatted instance which gets row 1, but for just column num_legs, where num_legs is a possible column.\n",
      "5. String \"mean:num_legs[1..3]\" is a well-formatted instance which takes the mean of num_legs from rows 1 to 3, where num_legs is a possible column and mean is a valid Pandas DataFrame operation.\n",
      "6. String \"do_something:num_legs\" is a badly-formatted instance, where do_something is not a valid Pandas DataFrame operation.\n",
      "7. String \"mean:invalid_col\" is a badly-formatted instance, where invalid_col is not a possible column.\n",
      "\n",
      "Here are the possible columns:\n",
      "```\n",
      "PassengerId, Survived, Pclass, Name, Sex, Age, SibSp, Parch, Ticket, Fare, Cabin, Embarked\n",
      "```\n",
      "\n"
     ]
    }
   ],
   "source": [
    "# 파서 설정\n",
    "parser = PandasDataFrameOutputParser(dataframe=df)\n",
    "# 지시사항 출력 \n",
    "print(parser.get_format_instructions()) # 데이터프레임을 쓰기 위한 지침이 정의돼있음 "
   ]
  },
  {
   "cell_type": "markdown",
   "metadata": {},
   "source": [
    "4. 컬럼에 대해 값 조회"
   ]
  },
  {
   "cell_type": "code",
   "execution_count": 9,
   "metadata": {},
   "outputs": [],
   "source": [
    "# 칼럼 작업 예시 \n",
    "user_query = 'Name칼럼을 조회해주세요.'\n",
    "template = \"\"\"\n",
    "사용자의 질문에 대답하세요.\n",
    "\n",
    "{format_instructions}\n",
    "\n",
    "--사용자 질문--\n",
    "{query}\n",
    "\"\"\"\n",
    "\n",
    "# 프롬프트 작성\n",
    "prompt = PromptTemplate(\n",
    "    template = template,\n",
    "    input_variables=['query'],\n",
    "    partial_variables={'format_instructions': parser.get_format_instructions()}\n",
    ")"
   ]
  },
  {
   "cell_type": "markdown",
   "metadata": {},
   "source": [
    "5. chain 생성 및 실행\n",
    "    - 작동 원리 : llm이 사용자 입력을 보고 dataframe에 실행할 쿼리문을 생성해서 실행 후 그 결과를 반환해줌 \n",
    "    - Dataframe을 입력값으로 주고 그걸 보고 판단을 해서 결과를 주는 게 아니라 llm은 사용자의 질문만 쿼리로 바꿔서 parser객체에 준 df에서 실행 시킨 후 그 결과르 반환하게 됨"
   ]
  },
  {
   "cell_type": "code",
   "execution_count": 10,
   "metadata": {},
   "outputs": [
    {
     "data": {
      "text/plain": [
       "{'Name': 0                                Braund, Mr. Owen Harris\n",
       " 1      Cumings, Mrs. John Bradley (Florence Briggs Th...\n",
       " 2                                 Heikkinen, Miss. Laina\n",
       " 3           Futrelle, Mrs. Jacques Heath (Lily May Peel)\n",
       " 4                               Allen, Mr. William Henry\n",
       "                              ...                        \n",
       " 886                                Montvila, Rev. Juozas\n",
       " 887                         Graham, Miss. Margaret Edith\n",
       " 888             Johnston, Miss. Catherine Helen \"Carrie\"\n",
       " 889                                Behr, Mr. Karl Howell\n",
       " 890                                  Dooley, Mr. Patrick\n",
       " Name: Name, Length: 891, dtype: object}"
      ]
     },
     "execution_count": 10,
     "metadata": {},
     "output_type": "execute_result"
    }
   ],
   "source": [
    "chain = prompt | llm | parser \n",
    "\n",
    "parser_output = chain.invoke({'query': user_query})\n",
    "parser_output"
   ]
  },
  {
   "cell_type": "code",
   "execution_count": 11,
   "metadata": {},
   "outputs": [
    {
     "name": "stdout",
     "output_type": "stream",
     "text": [
      "<class 'dict'>\n",
      "<class 'pandas.core.series.Series'>\n"
     ]
    }
   ],
   "source": [
    "print(type(parser_output))\n",
    "print(type(parser_output['Name']))"
   ]
  },
  {
   "cell_type": "code",
   "execution_count": 12,
   "metadata": {},
   "outputs": [
    {
     "name": "stdout",
     "output_type": "stream",
     "text": [
      "Braund, Mr. Owen Harris\n"
     ]
    }
   ],
   "source": [
    "print(parser_output['Name'][0])"
   ]
  }
 ],
 "metadata": {
  "kernelspec": {
   "display_name": "langchain_env",
   "language": "python",
   "name": "python3"
  },
  "language_info": {
   "codemirror_mode": {
    "name": "ipython",
    "version": 3
   },
   "file_extension": ".py",
   "mimetype": "text/x-python",
   "name": "python",
   "nbconvert_exporter": "python",
   "pygments_lexer": "ipython3",
   "version": "3.11.9"
  }
 },
 "nbformat": 4,
 "nbformat_minor": 2
}
