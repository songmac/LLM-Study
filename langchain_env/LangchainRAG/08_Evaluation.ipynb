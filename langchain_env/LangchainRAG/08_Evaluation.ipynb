{
 "cells": [
  {
   "cell_type": "code",
   "execution_count": 10,
   "metadata": {},
   "outputs": [
    {
     "data": {
      "text/plain": [
       "True"
      ]
     },
     "execution_count": 10,
     "metadata": {},
     "output_type": "execute_result"
    }
   ],
   "source": [
    "from dotenv import load_dotenv\n",
    "\n",
    "load_dotenv()"
   ]
  },
  {
   "cell_type": "markdown",
   "metadata": {},
   "source": [
    "# 1. RAGAS 설치 "
   ]
  },
  {
   "cell_type": "code",
   "execution_count": 1,
   "metadata": {},
   "outputs": [
    {
     "name": "stdout",
     "output_type": "stream",
     "text": [
      "Requirement already satisfied: ragas in c:\\users\\holly\\appdata\\local\\pypoetry\\cache\\virtualenvs\\lang-chain-1u0z6gle-py3.11\\lib\\site-packages (0.1.16)\n",
      "Requirement already satisfied: numpy in c:\\users\\holly\\appdata\\local\\pypoetry\\cache\\virtualenvs\\lang-chain-1u0z6gle-py3.11\\lib\\site-packages (from ragas) (1.26.4)\n",
      "Requirement already satisfied: datasets in c:\\users\\holly\\appdata\\local\\pypoetry\\cache\\virtualenvs\\lang-chain-1u0z6gle-py3.11\\lib\\site-packages (from ragas) (2.21.0)\n",
      "Requirement already satisfied: tiktoken in c:\\users\\holly\\appdata\\local\\pypoetry\\cache\\virtualenvs\\lang-chain-1u0z6gle-py3.11\\lib\\site-packages (from ragas) (0.7.0)\n",
      "Requirement already satisfied: langchain in c:\\users\\holly\\appdata\\local\\pypoetry\\cache\\virtualenvs\\lang-chain-1u0z6gle-py3.11\\lib\\site-packages (from ragas) (0.2.15)\n",
      "Requirement already satisfied: langchain-core in c:\\users\\holly\\appdata\\local\\pypoetry\\cache\\virtualenvs\\lang-chain-1u0z6gle-py3.11\\lib\\site-packages (from ragas) (0.2.37)\n",
      "Requirement already satisfied: langchain-community in c:\\users\\holly\\appdata\\local\\pypoetry\\cache\\virtualenvs\\lang-chain-1u0z6gle-py3.11\\lib\\site-packages (from ragas) (0.2.15)\n",
      "Requirement already satisfied: langchain-openai in c:\\users\\holly\\appdata\\local\\pypoetry\\cache\\virtualenvs\\lang-chain-1u0z6gle-py3.11\\lib\\site-packages (from ragas) (0.1.23)\n",
      "Requirement already satisfied: openai>1 in c:\\users\\holly\\appdata\\local\\pypoetry\\cache\\virtualenvs\\lang-chain-1u0z6gle-py3.11\\lib\\site-packages (from ragas) (1.43.0)\n",
      "Requirement already satisfied: pysbd>=0.3.4 in c:\\users\\holly\\appdata\\local\\pypoetry\\cache\\virtualenvs\\lang-chain-1u0z6gle-py3.11\\lib\\site-packages (from ragas) (0.3.4)\n",
      "Requirement already satisfied: nest-asyncio in c:\\users\\holly\\appdata\\local\\pypoetry\\cache\\virtualenvs\\lang-chain-1u0z6gle-py3.11\\lib\\site-packages (from ragas) (1.6.0)\n",
      "Requirement already satisfied: appdirs in c:\\users\\holly\\appdata\\local\\pypoetry\\cache\\virtualenvs\\lang-chain-1u0z6gle-py3.11\\lib\\site-packages (from ragas) (1.4.4)\n",
      "Requirement already satisfied: anyio<5,>=3.5.0 in c:\\users\\holly\\appdata\\local\\pypoetry\\cache\\virtualenvs\\lang-chain-1u0z6gle-py3.11\\lib\\site-packages (from openai>1->ragas) (4.4.0)\n",
      "Requirement already satisfied: distro<2,>=1.7.0 in c:\\users\\holly\\appdata\\local\\pypoetry\\cache\\virtualenvs\\lang-chain-1u0z6gle-py3.11\\lib\\site-packages (from openai>1->ragas) (1.9.0)\n",
      "Requirement already satisfied: httpx<1,>=0.23.0 in c:\\users\\holly\\appdata\\local\\pypoetry\\cache\\virtualenvs\\lang-chain-1u0z6gle-py3.11\\lib\\site-packages (from openai>1->ragas) (0.27.2)\n",
      "Requirement already satisfied: jiter<1,>=0.4.0 in c:\\users\\holly\\appdata\\local\\pypoetry\\cache\\virtualenvs\\lang-chain-1u0z6gle-py3.11\\lib\\site-packages (from openai>1->ragas) (0.5.0)\n",
      "Requirement already satisfied: pydantic<3,>=1.9.0 in c:\\users\\holly\\appdata\\local\\pypoetry\\cache\\virtualenvs\\lang-chain-1u0z6gle-py3.11\\lib\\site-packages (from openai>1->ragas) (2.9.0b2)\n",
      "Requirement already satisfied: sniffio in c:\\users\\holly\\appdata\\local\\pypoetry\\cache\\virtualenvs\\lang-chain-1u0z6gle-py3.11\\lib\\site-packages (from openai>1->ragas) (1.3.1)\n",
      "Requirement already satisfied: tqdm>4 in c:\\users\\holly\\appdata\\local\\pypoetry\\cache\\virtualenvs\\lang-chain-1u0z6gle-py3.11\\lib\\site-packages (from openai>1->ragas) (4.66.5)\n",
      "Requirement already satisfied: typing-extensions<5,>=4.11 in c:\\users\\holly\\appdata\\local\\pypoetry\\cache\\virtualenvs\\lang-chain-1u0z6gle-py3.11\\lib\\site-packages (from openai>1->ragas) (4.12.2)\n",
      "Requirement already satisfied: filelock in c:\\users\\holly\\appdata\\local\\pypoetry\\cache\\virtualenvs\\lang-chain-1u0z6gle-py3.11\\lib\\site-packages (from datasets->ragas) (3.15.4)\n",
      "Requirement already satisfied: pyarrow>=15.0.0 in c:\\users\\holly\\appdata\\local\\pypoetry\\cache\\virtualenvs\\lang-chain-1u0z6gle-py3.11\\lib\\site-packages (from datasets->ragas) (17.0.0)\n",
      "Requirement already satisfied: dill<0.3.9,>=0.3.0 in c:\\users\\holly\\appdata\\local\\pypoetry\\cache\\virtualenvs\\lang-chain-1u0z6gle-py3.11\\lib\\site-packages (from datasets->ragas) (0.3.8)\n",
      "Requirement already satisfied: pandas in c:\\users\\holly\\appdata\\local\\pypoetry\\cache\\virtualenvs\\lang-chain-1u0z6gle-py3.11\\lib\\site-packages (from datasets->ragas) (2.2.2)\n",
      "Requirement already satisfied: requests>=2.32.2 in c:\\users\\holly\\appdata\\local\\pypoetry\\cache\\virtualenvs\\lang-chain-1u0z6gle-py3.11\\lib\\site-packages (from datasets->ragas) (2.32.3)\n",
      "Requirement already satisfied: xxhash in c:\\users\\holly\\appdata\\local\\pypoetry\\cache\\virtualenvs\\lang-chain-1u0z6gle-py3.11\\lib\\site-packages (from datasets->ragas) (3.5.0)\n",
      "Requirement already satisfied: multiprocess in c:\\users\\holly\\appdata\\local\\pypoetry\\cache\\virtualenvs\\lang-chain-1u0z6gle-py3.11\\lib\\site-packages (from datasets->ragas) (0.70.16)\n",
      "Requirement already satisfied: fsspec<=2024.6.1,>=2023.1.0 in c:\\users\\holly\\appdata\\local\\pypoetry\\cache\\virtualenvs\\lang-chain-1u0z6gle-py3.11\\lib\\site-packages (from fsspec[http]<=2024.6.1,>=2023.1.0->datasets->ragas) (2024.6.1)\n",
      "Requirement already satisfied: aiohttp in c:\\users\\holly\\appdata\\local\\pypoetry\\cache\\virtualenvs\\lang-chain-1u0z6gle-py3.11\\lib\\site-packages (from datasets->ragas) (3.10.5)\n",
      "Requirement already satisfied: huggingface-hub>=0.21.2 in c:\\users\\holly\\appdata\\local\\pypoetry\\cache\\virtualenvs\\lang-chain-1u0z6gle-py3.11\\lib\\site-packages (from datasets->ragas) (0.23.5)\n",
      "Requirement already satisfied: packaging in c:\\users\\holly\\appdata\\local\\pypoetry\\cache\\virtualenvs\\lang-chain-1u0z6gle-py3.11\\lib\\site-packages (from datasets->ragas) (24.1)\n",
      "Requirement already satisfied: pyyaml>=5.1 in c:\\users\\holly\\appdata\\local\\pypoetry\\cache\\virtualenvs\\lang-chain-1u0z6gle-py3.11\\lib\\site-packages (from datasets->ragas) (6.0.2)\n",
      "Requirement already satisfied: SQLAlchemy<3,>=1.4 in c:\\users\\holly\\appdata\\local\\pypoetry\\cache\\virtualenvs\\lang-chain-1u0z6gle-py3.11\\lib\\site-packages (from langchain->ragas) (2.0.32)\n",
      "Requirement already satisfied: langchain-text-splitters<0.3.0,>=0.2.0 in c:\\users\\holly\\appdata\\local\\pypoetry\\cache\\virtualenvs\\lang-chain-1u0z6gle-py3.11\\lib\\site-packages (from langchain->ragas) (0.2.2)\n",
      "Requirement already satisfied: langsmith<0.2.0,>=0.1.17 in c:\\users\\holly\\appdata\\local\\pypoetry\\cache\\virtualenvs\\lang-chain-1u0z6gle-py3.11\\lib\\site-packages (from langchain->ragas) (0.1.108)\n",
      "Requirement already satisfied: tenacity!=8.4.0,<9.0.0,>=8.1.0 in c:\\users\\holly\\appdata\\local\\pypoetry\\cache\\virtualenvs\\lang-chain-1u0z6gle-py3.11\\lib\\site-packages (from langchain->ragas) (8.3.0)\n",
      "Requirement already satisfied: jsonpatch<2.0,>=1.33 in c:\\users\\holly\\appdata\\local\\pypoetry\\cache\\virtualenvs\\lang-chain-1u0z6gle-py3.11\\lib\\site-packages (from langchain-core->ragas) (1.33)\n",
      "Requirement already satisfied: dataclasses-json<0.7,>=0.5.7 in c:\\users\\holly\\appdata\\local\\pypoetry\\cache\\virtualenvs\\lang-chain-1u0z6gle-py3.11\\lib\\site-packages (from langchain-community->ragas) (0.6.7)\n",
      "Requirement already satisfied: regex>=2022.1.18 in c:\\users\\holly\\appdata\\local\\pypoetry\\cache\\virtualenvs\\lang-chain-1u0z6gle-py3.11\\lib\\site-packages (from tiktoken->ragas) (2024.7.24)\n",
      "Requirement already satisfied: aiohappyeyeballs>=2.3.0 in c:\\users\\holly\\appdata\\local\\pypoetry\\cache\\virtualenvs\\lang-chain-1u0z6gle-py3.11\\lib\\site-packages (from aiohttp->datasets->ragas) (2.4.0)\n",
      "Requirement already satisfied: aiosignal>=1.1.2 in c:\\users\\holly\\appdata\\local\\pypoetry\\cache\\virtualenvs\\lang-chain-1u0z6gle-py3.11\\lib\\site-packages (from aiohttp->datasets->ragas) (1.3.1)\n",
      "Requirement already satisfied: attrs>=17.3.0 in c:\\users\\holly\\appdata\\local\\pypoetry\\cache\\virtualenvs\\lang-chain-1u0z6gle-py3.11\\lib\\site-packages (from aiohttp->datasets->ragas) (24.2.0)\n",
      "Requirement already satisfied: frozenlist>=1.1.1 in c:\\users\\holly\\appdata\\local\\pypoetry\\cache\\virtualenvs\\lang-chain-1u0z6gle-py3.11\\lib\\site-packages (from aiohttp->datasets->ragas) (1.4.1)\n",
      "Requirement already satisfied: multidict<7.0,>=4.5 in c:\\users\\holly\\appdata\\local\\pypoetry\\cache\\virtualenvs\\lang-chain-1u0z6gle-py3.11\\lib\\site-packages (from aiohttp->datasets->ragas) (6.0.5)\n",
      "Requirement already satisfied: yarl<2.0,>=1.0 in c:\\users\\holly\\appdata\\local\\pypoetry\\cache\\virtualenvs\\lang-chain-1u0z6gle-py3.11\\lib\\site-packages (from aiohttp->datasets->ragas) (1.9.7)\n",
      "Requirement already satisfied: idna>=2.8 in c:\\users\\holly\\appdata\\local\\pypoetry\\cache\\virtualenvs\\lang-chain-1u0z6gle-py3.11\\lib\\site-packages (from anyio<5,>=3.5.0->openai>1->ragas) (3.8)\n",
      "Requirement already satisfied: marshmallow<4.0.0,>=3.18.0 in c:\\users\\holly\\appdata\\local\\pypoetry\\cache\\virtualenvs\\lang-chain-1u0z6gle-py3.11\\lib\\site-packages (from dataclasses-json<0.7,>=0.5.7->langchain-community->ragas) (3.22.0)\n",
      "Requirement already satisfied: typing-inspect<1,>=0.4.0 in c:\\users\\holly\\appdata\\local\\pypoetry\\cache\\virtualenvs\\lang-chain-1u0z6gle-py3.11\\lib\\site-packages (from dataclasses-json<0.7,>=0.5.7->langchain-community->ragas) (0.9.0)\n",
      "Requirement already satisfied: certifi in c:\\users\\holly\\appdata\\local\\pypoetry\\cache\\virtualenvs\\lang-chain-1u0z6gle-py3.11\\lib\\site-packages (from httpx<1,>=0.23.0->openai>1->ragas) (2024.8.30)\n",
      "Requirement already satisfied: httpcore==1.* in c:\\users\\holly\\appdata\\local\\pypoetry\\cache\\virtualenvs\\lang-chain-1u0z6gle-py3.11\\lib\\site-packages (from httpx<1,>=0.23.0->openai>1->ragas) (1.0.5)\n",
      "Requirement already satisfied: h11<0.15,>=0.13 in c:\\users\\holly\\appdata\\local\\pypoetry\\cache\\virtualenvs\\lang-chain-1u0z6gle-py3.11\\lib\\site-packages (from httpcore==1.*->httpx<1,>=0.23.0->openai>1->ragas) (0.14.0)\n",
      "Requirement already satisfied: jsonpointer>=1.9 in c:\\users\\holly\\appdata\\local\\pypoetry\\cache\\virtualenvs\\lang-chain-1u0z6gle-py3.11\\lib\\site-packages (from jsonpatch<2.0,>=1.33->langchain-core->ragas) (3.0.0)\n",
      "Requirement already satisfied: orjson<4.0.0,>=3.9.14 in c:\\users\\holly\\appdata\\local\\pypoetry\\cache\\virtualenvs\\lang-chain-1u0z6gle-py3.11\\lib\\site-packages (from langsmith<0.2.0,>=0.1.17->langchain->ragas) (3.10.7)\n",
      "Requirement already satisfied: annotated-types>=0.4.0 in c:\\users\\holly\\appdata\\local\\pypoetry\\cache\\virtualenvs\\lang-chain-1u0z6gle-py3.11\\lib\\site-packages (from pydantic<3,>=1.9.0->openai>1->ragas) (0.7.0)\n",
      "Requirement already satisfied: pydantic-core==2.23.1 in c:\\users\\holly\\appdata\\local\\pypoetry\\cache\\virtualenvs\\lang-chain-1u0z6gle-py3.11\\lib\\site-packages (from pydantic<3,>=1.9.0->openai>1->ragas) (2.23.1)\n",
      "Requirement already satisfied: tzdata in c:\\users\\holly\\appdata\\local\\pypoetry\\cache\\virtualenvs\\lang-chain-1u0z6gle-py3.11\\lib\\site-packages (from pydantic<3,>=1.9.0->openai>1->ragas) (2024.1)\n",
      "Requirement already satisfied: charset-normalizer<4,>=2 in c:\\users\\holly\\appdata\\local\\pypoetry\\cache\\virtualenvs\\lang-chain-1u0z6gle-py3.11\\lib\\site-packages (from requests>=2.32.2->datasets->ragas) (3.3.2)\n",
      "Requirement already satisfied: urllib3<3,>=1.21.1 in c:\\users\\holly\\appdata\\local\\pypoetry\\cache\\virtualenvs\\lang-chain-1u0z6gle-py3.11\\lib\\site-packages (from requests>=2.32.2->datasets->ragas) (2.2.2)\n",
      "Requirement already satisfied: greenlet!=0.4.17 in c:\\users\\holly\\appdata\\local\\pypoetry\\cache\\virtualenvs\\lang-chain-1u0z6gle-py3.11\\lib\\site-packages (from SQLAlchemy<3,>=1.4->langchain->ragas) (3.0.3)\n",
      "Requirement already satisfied: colorama in c:\\users\\holly\\appdata\\local\\pypoetry\\cache\\virtualenvs\\lang-chain-1u0z6gle-py3.11\\lib\\site-packages (from tqdm>4->openai>1->ragas) (0.4.6)\n",
      "Requirement already satisfied: python-dateutil>=2.8.2 in c:\\users\\holly\\appdata\\local\\pypoetry\\cache\\virtualenvs\\lang-chain-1u0z6gle-py3.11\\lib\\site-packages (from pandas->datasets->ragas) (2.9.0.post0)\n",
      "Requirement already satisfied: pytz>=2020.1 in c:\\users\\holly\\appdata\\local\\pypoetry\\cache\\virtualenvs\\lang-chain-1u0z6gle-py3.11\\lib\\site-packages (from pandas->datasets->ragas) (2024.1)\n",
      "Requirement already satisfied: six>=1.5 in c:\\users\\holly\\appdata\\local\\pypoetry\\cache\\virtualenvs\\lang-chain-1u0z6gle-py3.11\\lib\\site-packages (from python-dateutil>=2.8.2->pandas->datasets->ragas) (1.16.0)\n",
      "Requirement already satisfied: mypy-extensions>=0.3.0 in c:\\users\\holly\\appdata\\local\\pypoetry\\cache\\virtualenvs\\lang-chain-1u0z6gle-py3.11\\lib\\site-packages (from typing-inspect<1,>=0.4.0->dataclasses-json<0.7,>=0.5.7->langchain-community->ragas) (1.0.0)\n"
     ]
    },
    {
     "name": "stderr",
     "output_type": "stream",
     "text": [
      "\n",
      "[notice] A new release of pip is available: 24.1 -> 24.2\n",
      "[notice] To update, run: python.exe -m pip install --upgrade pip\n"
     ]
    }
   ],
   "source": [
    "# ! pip install ragas"
   ]
  },
  {
   "cell_type": "markdown",
   "metadata": {},
   "source": [
    "# 2. 합성 테스트 데이터셋 생성 \n",
    "- RAGAS: https://docs.ragas.io/en/stable/getstarted/rag_testset_generation/"
   ]
  },
  {
   "cell_type": "markdown",
   "metadata": {},
   "source": [
    "## 2.1 기본 세팅"
   ]
  },
  {
   "cell_type": "markdown",
   "metadata": {},
   "source": [
    "1. 문서 로드"
   ]
  },
  {
   "cell_type": "code",
   "execution_count": 49,
   "metadata": {},
   "outputs": [
    {
     "name": "stdout",
     "output_type": "stream",
     "text": [
      "21\n"
     ]
    }
   ],
   "source": [
    "from langchain_community.document_loaders import PDFPlumberLoader\n",
    "\n",
    "loader = PDFPlumberLoader('./data/SPRi AI Brief_10월호_산업동향_F.pdf')\n",
    "docs = loader.load()[3:-1]\n",
    "\n",
    "print(len(docs))"
   ]
  },
  {
   "cell_type": "markdown",
   "metadata": {},
   "source": [
    "2. 로드된 문서의 각 metadata에 filename 속성 추가\n",
    "    - filename속성은 Test Datasets 생성 프로세스에서 활용됨\n",
    "    - 동일한 문서에 속한 청크를 식별하는 데 사용 됨 (source와 같은 역할)\n",
    "    - source의 내용을 filename속성에 복사해주기"
   ]
  },
  {
   "cell_type": "code",
   "execution_count": 50,
   "metadata": {},
   "outputs": [
    {
     "data": {
      "text/plain": [
       "{'source': './data/SPRi AI Brief_10월호_산업동향_F.pdf',\n",
       " 'file_path': './data/SPRi AI Brief_10월호_산업동향_F.pdf',\n",
       " 'page': 3,\n",
       " 'total_pages': 25,\n",
       " 'Author': 'dj',\n",
       " 'Creator': 'Hwp 2018 10.0.0.13947',\n",
       " 'Producer': 'Hancom PDF 1.3.0.547',\n",
       " 'CreationDate': \"D:20241007090546+09'00'\",\n",
       " 'ModDate': \"D:20241007090546+09'00'\",\n",
       " 'PDFVersion': '1.4'}"
      ]
     },
     "execution_count": 50,
     "metadata": {},
     "output_type": "execute_result"
    }
   ],
   "source": [
    "# 메타데이터 확인\n",
    "docs[0].metadata"
   ]
  },
  {
   "cell_type": "code",
   "execution_count": 51,
   "metadata": {},
   "outputs": [],
   "source": [
    "# 각 Document객체의 metadata에 filename속성 추가\n",
    "for doc in docs:\n",
    "    doc.metadata['filename'] = doc.metadata['source']"
   ]
  },
  {
   "cell_type": "code",
   "execution_count": 52,
   "metadata": {},
   "outputs": [
    {
     "data": {
      "text/plain": [
       "{'source': './data/SPRi AI Brief_10월호_산업동향_F.pdf',\n",
       " 'file_path': './data/SPRi AI Brief_10월호_산업동향_F.pdf',\n",
       " 'page': 3,\n",
       " 'total_pages': 25,\n",
       " 'Author': 'dj',\n",
       " 'Creator': 'Hwp 2018 10.0.0.13947',\n",
       " 'Producer': 'Hancom PDF 1.3.0.547',\n",
       " 'CreationDate': \"D:20241007090546+09'00'\",\n",
       " 'ModDate': \"D:20241007090546+09'00'\",\n",
       " 'PDFVersion': '1.4',\n",
       " 'filename': './data/SPRi AI Brief_10월호_산업동향_F.pdf'}"
      ]
     },
     "execution_count": 52,
     "metadata": {},
     "output_type": "execute_result"
    }
   ],
   "source": [
    "# filename 추가됐는지 확인\n",
    "docs[0].metadata"
   ]
  },
  {
   "cell_type": "markdown",
   "metadata": {},
   "source": [
    "## 2.2 데이터셋 생성\n",
    "- Q&A dataset 종류\n",
    "    - simple: 단순 질의응답 데이터셋\n",
    "    - reasioning: 추론 능력을 확인할 수 있는 데이터셋\n",
    "    - multi_context: 여러 문맥을 고려하여 답 생성하는 데이터셋 \n",
    "    - conditional: 조건부 질의 응답 "
   ]
  },
  {
   "cell_type": "markdown",
   "metadata": {},
   "source": [
    "1. 모델 생성"
   ]
  },
  {
   "cell_type": "code",
   "execution_count": 53,
   "metadata": {},
   "outputs": [],
   "source": [
    "from ragas.testset.generator import TestsetGenerator\n",
    "from ragas.testset.evolutions import simple, reasoning, multi_context, conditional\n",
    "from ragas.llms import LangchainLLMWrapper\n",
    "from ragas.embeddings import LangchainEmbeddingsWrapper\n",
    "from ragas.testset.extractor import KeyphraseExtractor\n",
    "from ragas.testset.docstore import InMemoryDocumentStore\n",
    "from langchain_openai import ChatOpenAI, OpenAIEmbeddings\n",
    "from langchain.text_splitter import RecursiveCharacterTextSplitter\n",
    "\n",
    "# 데이터셋 생성기 생성 (llm으로 데이터셋/질문 생성)\n",
    "generator_llm = ChatOpenAI(model='gpt-4o-mini')\n",
    "\n",
    "# 데이터셋 비평기 생성 (llm으로 질문이 적합한 질문인지 평가)\n",
    "critic_llm = ChatOpenAI(model='gpt-4o-mini')\n",
    "\n",
    "# 임베딩 모델 객체 생성\n",
    "embeddings = OpenAIEmbeddings(model='text-embedding-3-small')"
   ]
  },
  {
   "cell_type": "markdown",
   "metadata": {},
   "source": [
    "2. 메모리 객체 생성 준비 (InMemory객체 옵션에 필요한 객체 생성)"
   ]
  },
  {
   "cell_type": "code",
   "execution_count": 54,
   "metadata": {},
   "outputs": [],
   "source": [
    "# splitter 생성\n",
    "splitter = RecursiveCharacterTextSplitter(\n",
    "    chunk_size=550,\n",
    "    chunk_overlap=150\n",
    ")\n",
    "\n",
    "# ragas와 호환되는 llm 생성\n",
    "# Lanchain의 ChatOpenAI 모델을 LangchainLLMWrapper로 감싸 RAGAS와 호환되도록 함\n",
    "langchain_llm = LangchainLLMWrapper(ChatOpenAI(model='gpt-4o-mini'))\n",
    "\n",
    "# 문서에서 주요 구문(KeyPhrase)를 먼저 뽑기 위한 객체 생성(ragas와 호환되는 llm 사용)\n",
    "# 즉, 문서의 주요 구문에서 질문과 답변을 뽑아냄\n",
    "keyphrase_extractor = KeyphraseExtractor(llm=langchain_llm)\n",
    "\n",
    "# ragas와 호환되는 embeddings 객체 생성\n",
    "ragas_embeddings = LangchainEmbeddingsWrapper(embeddings)\n",
    "\n",
    "# InMemoryDocumentStore 객체 생성 (key phrase를 메모리에 올리는 역할)\n",
    "docstore = InMemoryDocumentStore(\n",
    "    splitter=splitter,\n",
    "    embeddings=ragas_embeddings,\n",
    "    extractor=keyphrase_extractor\n",
    ")"
   ]
  },
  {
   "cell_type": "markdown",
   "metadata": {},
   "source": [
    "3. TestSet 생성해주는 생성기 생성"
   ]
  },
  {
   "cell_type": "code",
   "execution_count": 55,
   "metadata": {},
   "outputs": [],
   "source": [
    "generator = TestsetGenerator.from_langchain(\n",
    "    generator_llm,\n",
    "    critic_llm,\n",
    "    ragas_embeddings,\n",
    "    docstore\n",
    ")"
   ]
  },
  {
   "cell_type": "markdown",
   "metadata": {},
   "source": [
    "4. 질의응답 유형별 분포 "
   ]
  },
  {
   "cell_type": "code",
   "execution_count": 56,
   "metadata": {},
   "outputs": [],
   "source": [
    "# 질문 유형별 분포 설정\n",
    "# 질문을 10개 생성할 경우 각각 4개, 2개, 2개, 2개씩 생성\n",
    "distributions = {simple: 0.4, reasoning: 0.2, multi_context: 0.2, conditional: 0.2}"
   ]
  },
  {
   "cell_type": "markdown",
   "metadata": {},
   "source": [
    "5. TestDataSet 생성"
   ]
  },
  {
   "cell_type": "code",
   "execution_count": 57,
   "metadata": {},
   "outputs": [
    {
     "data": {
      "application/vnd.jupyter.widget-view+json": {
       "model_id": "7120588a10784c328272c5337ec2b8cf",
       "version_major": 2,
       "version_minor": 0
      },
      "text/plain": [
       "embedding nodes:   0%|          | 0/158 [00:00<?, ?it/s]"
      ]
     },
     "metadata": {},
     "output_type": "display_data"
    },
    {
     "name": "stderr",
     "output_type": "stream",
     "text": [
      "[ragas.testset.extractor.DEBUG] topics: {'keyphrases': ['GPU utilization', 'AI training', 'Compute Desert', 'Compute North', 'Compute South']}\n",
      "[ragas.testset.extractor.DEBUG] topics: {'keyphrases': ['AI boost', 'UK job market', 'Workforce Skills Forecast', 'Techradar', 'Servicenow']}\n",
      "[ragas.testset.extractor.DEBUG] topics: {'keyphrases': ['UN AI Guidelines', 'Artificial Intelligence', '2024 Report', 'Global Standards', 'AI Policy Framework']}\n",
      "[ragas.testset.extractor.DEBUG] topics: {'keyphrases': ['GPT-4o', 'AI applications', 'o1 model', 'Chain of Thought', 'Advanced features']}\n",
      "[ragas.testset.extractor.DEBUG] topics: {'keyphrases': ['AI World', 'AI Congress 2024', 'ML and AI Model Development', 'EU AI Regulation', 'Governance']}\n",
      "[ragas.testset.extractor.DEBUG] topics: {'keyphrases': ['C2PA Trust List', 'AI content transparency', 'Deepmind SynthID', 'Generative AI', 'Content verification']}\n",
      "[ragas.testset.extractor.DEBUG] topics: {'keyphrases': ['Claude 3.5 Sonnet', 'AI safety research', 'Jason Kwon', 'OpenAI', 'Anthropic']}\n",
      "[ragas.testset.extractor.DEBUG] topics: {'keyphrases': ['Pre-training data', 'LLM performance', 'Non-coding tasks', 'Venturebeat', 'Code improvements']}\n",
      "[ragas.testset.extractor.DEBUG] topics: {'keyphrases': ['AI 시스템', '정책 제안', '유럽 비영리 법률 센터', 'AI 활용', '데이터 분석']}\n",
      "[ragas.testset.extractor.DEBUG] topics: {'keyphrases': ['Codeforces', 'AI applications', 'GPT-4', 'OpenAI', 'o1-preview']}\n",
      "[ragas.testset.extractor.DEBUG] topics: {'keyphrases': ['파이-3.5-MoE', '고급 모델', '모델 성능', '파이-3.5-기본', '모델 최적화']}\n",
      "[ragas.testset.extractor.DEBUG] topics: {'keyphrases': ['AI 기반 교육', 'AI 기술 발전', 'AI 정책 및 규제', 'AI 윤리', 'AI 지속 가능성']}\n",
      "[ragas.testset.extractor.DEBUG] topics: {'keyphrases': ['AI in education', 'Generative tools', 'Lesson plans and curriculums', 'Trustworthy AI technology', 'Homework marking']}\n",
      "[ragas.testset.extractor.DEBUG] topics: {'keyphrases': ['AI applications', 'AI development trends', 'AI models', 'AI ethics', 'AI industry advancements']}\n",
      "[ragas.testset.extractor.DEBUG] topics: {'keyphrases': ['NHN Cloud', 'GPU technology', 'AI governance', 'Compute-based AI', 'NVIDIA H100']}\n",
      "[ragas.testset.extractor.DEBUG] topics: {'keyphrases': ['2023년 대비 다룬로드 수가', 'Hugging Face', 'AWS', 'AI 모델', '라마 3.1-405B']}\n",
      "[ragas.testset.extractor.DEBUG] topics: {'keyphrases': ['AI in education', 'Parent and pupil attitudes', 'Research on AI usage', 'Educational technology', 'Student engagement']}\n",
      "[ragas.testset.extractor.DEBUG] topics: {'keyphrases': ['AI utilization in HR', '2026 AI adoption forecast', 'AI in decision-making', 'AI and productivity', 'AI in workforce management']}\n",
      "[ragas.testset.extractor.DEBUG] topics: {'keyphrases': ['모델의 성능', '강화 학습', 'LLM의 성능', '고급 모델', '데이터 기반']}\n",
      "[ragas.testset.extractor.DEBUG] topics: {'keyphrases': ['Judge Data', \"Meta's Self-Taught Evaluator\", 'Training data', 'RewardBench', 'LLMs']}\n",
      "[ragas.testset.extractor.DEBUG] topics: {'keyphrases': [\"Meta's Self-Taught Evaluator\", 'LLMs', 'Create training data', 'Venturebeat', '2024']}\n",
      "[ragas.testset.extractor.DEBUG] topics: {'keyphrases': ['AI technology', 'Accenture', 'ESG criteria', 'AT&T', 'DoorDash']}\n",
      "[ragas.testset.extractor.DEBUG] topics: {'keyphrases': ['AI in education', 'Parent and pupil attitudes', 'TeacherTapp survey', '2024 research', 'Peter Kyle']}\n",
      "[ragas.testset.extractor.DEBUG] topics: {'keyphrases': ['SPRi AI Brief', 'LLM', 'Pre-training', 'Cohere', 'Impact of Code']}\n",
      "[ragas.testset.extractor.DEBUG] topics: {'keyphrases': ['AI adoption', '2028 projections', 'ServiceNow', 'Northern Korea', 'Economic growth']}\n",
      "[ragas.testset.extractor.DEBUG] topics: {'keyphrases': ['Self-Taught Evaluators', 'LLM-as-a-Judge', 'Prompt engineering', 'Good Response', 'Bad Response']}\n",
      "[ragas.testset.extractor.DEBUG] topics: {'keyphrases': ['Larissa Waters', 'David Pocock', 'Territory and State', 'Political representation', 'Indigenous rights']}\n",
      "[ragas.testset.extractor.DEBUG] topics: {'keyphrases': ['UK job market', 'AI impact', '2028 projections', 'Employment growth', 'Techradar report']}\n",
      "[ragas.testset.extractor.DEBUG] topics: {'keyphrases': ['AI treaty', 'Council of Europe', 'International AI treaty', 'Global treaty on AI', 'AI applications']}\n",
      "[ragas.testset.extractor.DEBUG] topics: {'keyphrases': ['라이트 70B', 'GPT-4o', 'Claude-3.5', 'AI 모델', '성능 향상']}\n",
      "[ragas.testset.extractor.DEBUG] topics: {'keyphrases': ['SPRi AI Brief', 'Phi-3.5', 'Hugging Face', 'GPT-4o-mini', 'MoE']}\n",
      "[ragas.testset.extractor.DEBUG] topics: {'keyphrases': ['미국 AI 안전연구소', 'AI 안전성', 'AI 규제', 'AI 기술', 'AI 개발']}\n",
      "[ragas.testset.extractor.DEBUG] topics: {'keyphrases': ['C2PA', 'AI detection technology', 'Image authenticity', 'Trust List', 'Content verification']}\n",
      "[ragas.testset.extractor.DEBUG] topics: {'keyphrases': ['Impact of Code in Pre-training', 'LLM', 'Pre-training process', 'Code utilization', 'Model performance']}\n",
      "[ragas.testset.extractor.DEBUG] topics: {'keyphrases': ['AI usage statistics', '2023 trends', 'Future predictions', 'AI impact on industries', 'Growth rates']}\n",
      "[ragas.testset.extractor.DEBUG] topics: {'keyphrases': ['AI 분석', '리트리트 70B', '인공지능 모델', '데이터 분석', 'AI 연구자']}\n",
      "[ragas.testset.extractor.DEBUG] topics: {'keyphrases': ['LLM', 'AgentCourt', 'Adversarial Evolvable Lawyer Agents', 'Baidu ERNIE-Speed-128k', 'Legal simulation']}\n",
      "[ragas.testset.extractor.DEBUG] topics: {'keyphrases': ['GPT 시리얼 모델', '사고 연쇄(Chain of Thought)', 'AI 활용', 'IMO 추천 문제', 'Codeforces']}\n",
      "[ragas.testset.extractor.DEBUG] topics: {'keyphrases': ['Criminal Code Amendment', 'Deepfake Sexual Material Bill 2024', 'Mark Dreyfus', 'Ancient fortifications', 'Legislation on deepfake content']}\n",
      "[ragas.testset.extractor.DEBUG] topics: {'keyphrases': ['AI regulations', 'California Legislature', 'Bill SB 1047', 'AI safety', 'Gavin Newsom']}\n",
      "[ragas.testset.extractor.DEBUG] topics: {'keyphrases': ['AI technology', 'Data analysis', 'Machine learning', 'Artificial intelligence applications', 'AI development strategies']}\n",
      "[ragas.testset.extractor.DEBUG] topics: {'keyphrases': ['Generative AI', 'Human potential', 'IBM', 'Future strategies', 'Digital transformation']}\n",
      "[ragas.testset.extractor.DEBUG] topics: {'keyphrases': ['AI industry', 'Chatbot Arena', 'LMSYS-Chat-1M', 'TechCrunch', 'Benchmark']}\n",
      "[ragas.testset.extractor.DEBUG] topics: {'keyphrases': ['AI innovation', 'Llama engine', 'AWS utilization', 'Zoom applications', 'Companion AI']}\n",
      "[ragas.testset.extractor.DEBUG] topics: {'keyphrases': ['LMSYS', '2024년 3월', 'LMSYS-Chat-1M', 'AI 기술', '사용자 경험']}\n",
      "[ragas.testset.extractor.DEBUG] topics: {'keyphrases': ['2024년 2월', '이미지 생성', '구글', '제미니', '커스텀 젬']}\n",
      "[ragas.testset.extractor.DEBUG] topics: {'keyphrases': ['AI regulation', 'Council of Europe', 'Framework Convention on Artificial Intelligence', 'Human rights', 'Democracy and rule of law']}\n",
      "[ragas.testset.extractor.DEBUG] topics: {'keyphrases': ['Deepfake', 'Criminal Code Amendment', 'Sexual Material', 'AI regulation', '2024 legislation']}\n",
      "[ragas.testset.extractor.DEBUG] topics: {'keyphrases': ['LLM', 'Self-Taught Evaluators', 'AI Research', 'Key Contents', 'Evaluation Criteria']}\n",
      "[ragas.testset.extractor.DEBUG] topics: {'keyphrases': ['AI usage statistics', 'YouGov survey', 'AI impact on jobs', '2024 predictions', 'Public perception of AI']}\n",
      "[ragas.testset.extractor.DEBUG] topics: {'keyphrases': [\"AI model 'Llama'\", '2023 developments', 'Meta AI', 'Hugging Face', 'Key contents']}\n",
      "[ragas.testset.extractor.DEBUG] topics: {'keyphrases': ['LMSYS', 'AI model development', 'Allen Institute for AI', '2023 advancements', '2024 plans']}\n",
      "[ragas.testset.extractor.DEBUG] topics: {'keyphrases': ['리틀프렌드 70B', 'AI 모델', 'GPT-4o', 'HyperWrite', 'Reflection 70B']}\n",
      "[ragas.testset.extractor.DEBUG] topics: {'keyphrases': ['Deepfakes', 'Criminal laws', \"Attorney-General's Department\", 'Sexually explicit content', 'Legislation']}\n",
      "[ragas.testset.extractor.DEBUG] topics: {'keyphrases': ['AI content generation', 'Text generation model', '300 million parameters', '400 million parameters', '2024 AI conference']}\n",
      "[ragas.testset.extractor.DEBUG] topics: {'keyphrases': ['HyperWrite', 'Reflection 70B', 'Open source AI model', 'Fraud accusations', 'Venturebeat']}\n",
      "[ragas.testset.extractor.DEBUG] topics: {'keyphrases': ['AI 모델', '150개 이상 국가', '데이터 활용', '2024년 2월', '정보 수집']}\n",
      "[ragas.testset.extractor.DEBUG] topics: {'keyphrases': ['LLM', 'LawBench', 'Legal analysis', 'Adversarial evolvable lawyer agents', 'Simulation of court']}\n",
      "[ragas.testset.extractor.DEBUG] topics: {'keyphrases': ['AI language models', 'LMSYS', 'Chatbot Arena', 'AI applications', 'AI performance evaluation']}\n",
      "[ragas.testset.extractor.DEBUG] topics: {'keyphrases': ['Phi-3.5 SLMs', 'Multi-Lingual', 'High-Quality', 'MMLU benchmark', 'GPT-4o-mini']}\n",
      "[ragas.testset.extractor.DEBUG] topics: {'keyphrases': ['AI safety', 'AI governance', 'NIST AI guidelines', 'U.S. AI Safety Institute', 'AI risk management']}\n",
      "[ragas.testset.extractor.DEBUG] topics: {'keyphrases': ['C2PA', 'Content Credentials', 'AI verification', 'Digital content authenticity', '2024 guidelines']}\n",
      "[ragas.testset.extractor.DEBUG] topics: {'keyphrases': ['Cypher Conference 2024', 'AI World Congress', 'AI technology advancements', 'AI applications', 'Santa Clara']}\n",
      "[ragas.testset.extractor.DEBUG] topics: {'keyphrases': ['IBM', 'Generative AI', 'AI applications', 'Key contents', 'AI technology advancements']}\n",
      "[ragas.testset.extractor.DEBUG] topics: {'keyphrases': ['AI regulation', 'SB1047', 'Artificial Intelligence', 'Gavin Newsom', '2024']}\n",
      "[ragas.testset.extractor.DEBUG] topics: {'keyphrases': ['Framework Convention on Artificial Intelligence', 'Human rights', 'Democracy and rule of law', 'EU AI regulations', 'AI governance']}\n",
      "[ragas.testset.extractor.DEBUG] topics: {'keyphrases': ['SPRi AI Brief', 'AI GPU technology', 'AI development trends', '2024 AI advancements', 'AI applications in industry']}\n",
      "[ragas.testset.extractor.DEBUG] topics: {'keyphrases': ['SPRi AI Brief', 'o1-프리토', 'AI 모델', 'GPT-4o', '2024년 10월']}\n",
      "[ragas.testset.extractor.DEBUG] topics: {'keyphrases': ['2026년 AI 활용', 'AI 도입률', 'AI 기술 발전', 'AI 적용 분야', 'AI의 경제적 영향']}\n",
      "[ragas.testset.extractor.DEBUG] topics: {'keyphrases': ['LLM', '법률적용', '법적 기준', '사례 분석', '법률 데이터']}\n",
      "[ragas.testset.extractor.DEBUG] topics: {'keyphrases': ['LLM', 'Simulation', 'Adversarial Evolvable Lawyer Agents', 'Legal framework', 'Key contents']}\n",
      "[ragas.testset.extractor.DEBUG] topics: {'keyphrases': ['C2PA', 'AI content generation', '2024 AI standards', 'Content authenticity', 'Digital content verification']}\n",
      "[ragas.testset.extractor.DEBUG] topics: {'keyphrases': ['AI impact on jobs', 'Working Americans', 'Job availability', 'YouGov survey', '2024 predictions']}\n",
      "[ragas.testset.extractor.DEBUG] topics: {'keyphrases': ['AI 국가 간 격차', '2023년 10월', 'AI 정책', 'UN', 'Global South']}\n",
      "[ragas.testset.extractor.DEBUG] topics: {'keyphrases': ['SPRi AI Brief', 'AI technology', 'Gemini AI', 'AI applications', 'Google AI advancements']}\n",
      "[ragas.testset.extractor.DEBUG] topics: {'keyphrases': ['AI governance', 'Sustainable Development Goals (SDG)', 'United Nations AI Advisory Body', 'AI for Humanity', 'AI policy framework']}\n",
      "[ragas.testset.extractor.DEBUG] topics: {'keyphrases': ['AI technology', 'Data analysis', '2028 projections', 'Economic impact', 'Artificial intelligence applications']}\n",
      "[ragas.testset.extractor.DEBUG] topics: {'keyphrases': ['AI usage statistics', '2024 projections', 'AI in various sectors', 'Public perception of AI', 'AI adoption rates']}\n",
      "[ragas.testset.extractor.DEBUG] topics: {'keyphrases': ['Gavin Newsom', 'AI regulation', 'The Safe and Secure Innovation for Frontier Artificial Intelligence Models Act', 'AI safety measures', 'Artificial intelligence governance']}\n"
     ]
    },
    {
     "data": {
      "application/vnd.jupyter.widget-view+json": {
       "model_id": "76917c3a7f2a4fc2a158589a42050014",
       "version_major": 2,
       "version_minor": 0
      },
      "text/plain": [
       "Generating:   0%|          | 0/10 [00:00<?, ?it/s]"
      ]
     },
     "metadata": {},
     "output_type": "display_data"
    },
    {
     "name": "stderr",
     "output_type": "stream",
     "text": [
      "[ragas.testset.filters.DEBUG] context scoring: {'clarity': 1, 'depth': 2, 'structure': 2, 'relevance': 3, 'score': 2.0}\n",
      "[ragas.testset.filters.DEBUG] context scoring: {'clarity': 1, 'depth': 2, 'structure': 2, 'relevance': 3, 'score': 2.0}\n",
      "[ragas.testset.evolutions.DEBUG] keyphrases in merged node: ['AI regulations', 'California Legislature', 'Bill SB 1047', 'AI safety', 'Gavin Newsom']\n",
      "[ragas.testset.evolutions.DEBUG] keyphrases in merged node: ['AI regulations', 'California Legislature', 'Bill SB 1047', 'AI safety', 'Gavin Newsom']\n",
      "[ragas.testset.filters.DEBUG] context scoring: {'clarity': 1, 'depth': 2, 'structure': 1, 'relevance': 2, 'score': 1.5}\n",
      "[ragas.testset.filters.DEBUG] context scoring: {'clarity': 1, 'depth': 2, 'structure': 1, 'relevance': 2, 'score': 1.5}\n",
      "[ragas.testset.evolutions.DEBUG] keyphrases in merged node: ['Cypher Conference 2024', 'AI World Congress', 'AI technology advancements', 'AI applications', 'Santa Clara']\n",
      "[ragas.testset.evolutions.DEBUG] keyphrases in merged node: ['Cypher Conference 2024', 'AI World Congress', 'AI technology advancements', 'AI applications', 'Santa Clara']\n",
      "[ragas.testset.filters.DEBUG] context scoring: {'clarity': 1, 'depth': 2, 'structure': 1, 'relevance': 2, 'score': 1.5}\n",
      "[ragas.testset.filters.DEBUG] context scoring: {'clarity': 1, 'depth': 2, 'structure': 1, 'relevance': 2, 'score': 1.5}\n",
      "[ragas.testset.evolutions.DEBUG] keyphrases in merged node: ['AI industry', 'Chatbot Arena', 'LMSYS-Chat-1M', 'TechCrunch', 'Benchmark']\n",
      "[ragas.testset.evolutions.DEBUG] keyphrases in merged node: ['AI industry', 'Chatbot Arena', 'LMSYS-Chat-1M', 'TechCrunch', 'Benchmark']\n",
      "[ragas.testset.filters.DEBUG] context scoring: {'clarity': 1, 'depth': 2, 'structure': 2, 'relevance': 3, 'score': 2.0}\n",
      "[ragas.testset.filters.DEBUG] context scoring: {'clarity': 1, 'depth': 2, 'structure': 2, 'relevance': 3, 'score': 2.0}\n",
      "[ragas.testset.evolutions.DEBUG] keyphrases in merged node: ['AI in education', 'Parent and pupil attitudes', 'Research on AI usage', 'Educational technology', 'Student engagement']\n",
      "[ragas.testset.evolutions.DEBUG] keyphrases in merged node: ['AI in education', 'Parent and pupil attitudes', 'Research on AI usage', 'Educational technology', 'Student engagement']\n",
      "[ragas.testset.filters.DEBUG] context scoring: {'clarity': 1, 'depth': 2, 'structure': 2, 'relevance': 3, 'score': 2.0}\n",
      "[ragas.testset.filters.DEBUG] context scoring: {'clarity': 1, 'depth': 2, 'structure': 2, 'relevance': 3, 'score': 2.0}\n",
      "[ragas.testset.evolutions.DEBUG] keyphrases in merged node: ['AI content generation', 'Text generation model', '300 million parameters', '400 million parameters', '2024 AI conference']\n",
      "[ragas.testset.evolutions.DEBUG] keyphrases in merged node: ['AI content generation', 'Text generation model', '300 million parameters', '400 million parameters', '2024 AI conference']\n",
      "[ragas.testset.filters.DEBUG] context scoring: {'clarity': 1, 'depth': 2, 'structure': 1, 'relevance': 2, 'score': 1.5}\n",
      "[ragas.testset.filters.DEBUG] context scoring: {'clarity': 1, 'depth': 2, 'structure': 1, 'relevance': 2, 'score': 1.5}\n",
      "[ragas.testset.evolutions.DEBUG] keyphrases in merged node: ['Larissa Waters', 'David Pocock', 'Territory and State', 'Political representation', 'Indigenous rights']\n",
      "[ragas.testset.evolutions.DEBUG] keyphrases in merged node: ['Larissa Waters', 'David Pocock', 'Territory and State', 'Political representation', 'Indigenous rights']\n",
      "[ragas.testset.filters.DEBUG] context scoring: {'clarity': 1, 'depth': 2, 'structure': 2, 'relevance': 3, 'score': 2.0}\n",
      "[ragas.testset.filters.DEBUG] context scoring: {'clarity': 1, 'depth': 2, 'structure': 2, 'relevance': 3, 'score': 2.0}\n",
      "[ragas.testset.evolutions.DEBUG] keyphrases in merged node: ['C2PA Trust List', 'AI content transparency', 'Deepmind SynthID', 'Generative AI', 'Content verification']\n",
      "[ragas.testset.evolutions.DEBUG] keyphrases in merged node: ['C2PA Trust List', 'AI content transparency', 'Deepmind SynthID', 'Generative AI', 'Content verification']\n",
      "[ragas.testset.filters.DEBUG] context scoring: {'clarity': 1, 'depth': 2, 'structure': 1, 'relevance': 2, 'score': 1.5}\n",
      "[ragas.testset.filters.DEBUG] context scoring: {'clarity': 1, 'depth': 2, 'structure': 1, 'relevance': 2, 'score': 1.5}\n",
      "[ragas.testset.evolutions.DEBUG] keyphrases in merged node: ['Cypher Conference 2024', 'AI World Congress', 'AI technology advancements', 'AI applications', 'Santa Clara']\n",
      "[ragas.testset.evolutions.DEBUG] keyphrases in merged node: ['Cypher Conference 2024', 'AI World Congress', 'AI technology advancements', 'AI applications', 'Santa Clara']\n",
      "[ragas.testset.filters.DEBUG] context scoring: {'clarity': 2, 'depth': 2, 'structure': 2, 'relevance': 3, 'score': 2.25}\n",
      "[ragas.testset.filters.DEBUG] context scoring: {'clarity': 2, 'depth': 2, 'structure': 2, 'relevance': 3, 'score': 2.25}\n",
      "[ragas.testset.evolutions.DEBUG] keyphrases in merged node: ['AI impact on jobs', 'Working Americans', 'Job availability', 'YouGov survey', '2024 predictions']\n",
      "[ragas.testset.evolutions.DEBUG] keyphrases in merged node: ['AI impact on jobs', 'Working Americans', 'Job availability', 'YouGov survey', '2024 predictions']\n",
      "[ragas.testset.filters.DEBUG] context scoring: {'clarity': 1, 'depth': 2, 'structure': 2, 'relevance': 3, 'score': 2.0}\n",
      "[ragas.testset.filters.DEBUG] context scoring: {'clarity': 1, 'depth': 2, 'structure': 2, 'relevance': 3, 'score': 2.0}\n",
      "[ragas.testset.evolutions.DEBUG] keyphrases in merged node: ['AI regulations', 'California Legislature', 'Bill SB 1047', 'AI safety', 'Gavin Newsom']\n",
      "[ragas.testset.evolutions.DEBUG] keyphrases in merged node: ['AI regulations', 'California Legislature', 'Bill SB 1047', 'AI safety', 'Gavin Newsom']\n",
      "[ragas.testset.evolutions.INFO] seed question generated: \"What is the significance of the 400 million parameters in the context of AI model development?\"\n",
      "[ragas.testset.evolutions.INFO] seed question generated: \"What is the significance of the 400 million parameters in the context of AI model development?\"\n",
      "[ragas.testset.evolutions.INFO] seed question generated: \"What was the outcome of the Bill SB 1047 proposed in California regarding AI restrictions?\"\n",
      "[ragas.testset.evolutions.INFO] seed question generated: \"What was the outcome of the Bill SB 1047 proposed in California regarding AI restrictions?\"\n",
      "[ragas.testset.evolutions.INFO] seed question generated: \"What is the current focus of the AI industry according to the context provided?\"\n",
      "[ragas.testset.evolutions.INFO] seed question generated: \"What is the current focus of the AI industry according to the context provided?\"\n",
      "[ragas.testset.evolutions.INFO] seed question generated: \"What is the significance of political representation in the context of governance and decision-making?\"\n",
      "[ragas.testset.evolutions.INFO] seed question generated: \"What is the significance of political representation in the context of governance and decision-making?\"\n",
      "[ragas.testset.evolutions.INFO] seed question generated: \"What role does student engagement play in the use of AI in education?\"\n",
      "[ragas.testset.evolutions.INFO] seed question generated: \"What role does student engagement play in the use of AI in education?\"\n",
      "[ragas.testset.evolutions.INFO] seed question generated: \"What is the purpose of Deepmind's SynthID in relation to AI-generated content?\"\n",
      "[ragas.testset.evolutions.INFO] seed question generated: \"What is the purpose of Deepmind's SynthID in relation to AI-generated content?\"\n",
      "[ragas.testset.evolutions.INFO] seed question generated: \"What is the focus of the AI World Congress scheduled for November 21-22, 2024?\"\n",
      "[ragas.testset.evolutions.INFO] seed question generated: \"What is the focus of the AI World Congress scheduled for November 21-22, 2024?\"\n",
      "[ragas.testset.evolutions.INFO] seed question generated: \"What event related to AI is taking place in Santa Clara in November 2024?\"\n",
      "[ragas.testset.evolutions.INFO] seed question generated: \"What event related to AI is taking place in Santa Clara in November 2024?\"\n",
      "[ragas.testset.evolutions.INFO] seed question generated: \"What do working Americans believe about the impact of AI on job availability in their industry?\"\n",
      "[ragas.testset.evolutions.INFO] seed question generated: \"What do working Americans believe about the impact of AI on job availability in their industry?\"\n",
      "[ragas.testset.evolutions.INFO] seed question generated: \"What was the outcome of the proposed Bill SB 1047 regarding AI restrictions in California?\"\n",
      "[ragas.testset.evolutions.INFO] seed question generated: \"What was the outcome of the proposed Bill SB 1047 regarding AI restrictions in California?\"\n",
      "[ragas.testset.filters.DEBUG] filtered question: {'feedback': 'The question is clear and specific, asking about a particular event related to AI in a specific location (Santa Clara) and time frame (November 2024). It does not rely on external references or additional context, making it independent and understandable. The intent is straightforward, seeking information about an event. Therefore, it meets all the criteria for clarity and answerability.', 'verdict': 1}\n",
      "[ragas.testset.filters.DEBUG] filtered question: {'feedback': 'The question is clear and specific, asking about a particular event related to AI in a specific location (Santa Clara) and time frame (November 2024). It does not rely on external references or additional context, making it independent and understandable. The intent is straightforward, seeking information about an event. Therefore, it meets all the criteria for clarity and answerability.', 'verdict': 1}\n",
      "[ragas.testset.evolutions.DEBUG] [ReasoningEvolution] simple question generated: \"What event related to AI is taking place in Santa Clara in November 2024?\"\n",
      "[ragas.testset.evolutions.DEBUG] [ReasoningEvolution] simple question generated: \"What event related to AI is taking place in Santa Clara in November 2024?\"\n",
      "[ragas.testset.filters.DEBUG] filtered question: {'feedback': 'The question asks about the significance of having 400 million parameters in AI model development, which is a specific and clear inquiry. It does not rely on external references or context, making it independent and self-contained. The intent is clear, as it seeks to understand the implications or importance of this specific parameter count in the development of AI models. Therefore, it meets the criteria for clarity and answerability.', 'verdict': 1}\n",
      "[ragas.testset.filters.DEBUG] filtered question: {'feedback': 'The question asks about the significance of having 400 million parameters in AI model development, which is a specific and clear inquiry. It does not rely on external references or context, making it independent and self-contained. The intent is clear, as it seeks to understand the implications or importance of this specific parameter count in the development of AI models. Therefore, it meets the criteria for clarity and answerability.', 'verdict': 1}\n",
      "[ragas.testset.evolutions.DEBUG] [ConditionalEvolution] simple question generated: \"What is the significance of the 400 million parameters in the context of AI model development?\"\n",
      "[ragas.testset.evolutions.DEBUG] [ConditionalEvolution] simple question generated: \"What is the significance of the 400 million parameters in the context of AI model development?\"\n",
      "[ragas.testset.filters.DEBUG] filtered question: {'feedback': \"The question asks about the purpose of DeepMind's SynthID specifically in relation to AI-generated content. It is clear and specific, indicating the subject (DeepMind's SynthID) and the context (AI-generated content). This makes the question understandable and answerable without needing additional context or references. Therefore, it meets the criteria for clarity and intent.\", 'verdict': 1}\n",
      "[ragas.testset.filters.DEBUG] filtered question: {'feedback': \"The question asks about the purpose of DeepMind's SynthID specifically in relation to AI-generated content. It is clear and specific, indicating the subject (DeepMind's SynthID) and the context (AI-generated content). This makes the question understandable and answerable without needing additional context or references. Therefore, it meets the criteria for clarity and intent.\", 'verdict': 1}\n",
      "[ragas.testset.filters.DEBUG] filtered question: {'feedback': 'The question asks about the focus of the AI World Congress scheduled for specific dates, which is clear and specific. It does not rely on external references or additional context, making it independent and self-contained. The intent is also clear, as it seeks information about the themes or topics that will be addressed at the event. Therefore, the question meets the criteria for clarity and answerability.', 'verdict': 1}\n",
      "[ragas.testset.filters.DEBUG] filtered question: {'feedback': 'The question asks about the focus of the AI World Congress scheduled for specific dates, which is clear and specific. It does not rely on external references or additional context, making it independent and self-contained. The intent is also clear, as it seeks information about the themes or topics that will be addressed at the event. Therefore, the question meets the criteria for clarity and answerability.', 'verdict': 1}\n",
      "[ragas.testset.evolutions.DEBUG] [MultiContextEvolution] simple question generated: \"What is the focus of the AI World Congress scheduled for November 21-22, 2024?\"\n",
      "[ragas.testset.evolutions.DEBUG] [MultiContextEvolution] simple question generated: \"What is the focus of the AI World Congress scheduled for November 21-22, 2024?\"\n",
      "[ragas.testset.evolutions.INFO] retrying evolution: 1 times\n",
      "[ragas.testset.evolutions.INFO] retrying evolution: 1 times\n",
      "[ragas.testset.filters.DEBUG] filtered question: {'feedback': 'The question asks for the outcome of Bill SB 1047 proposed in California concerning AI restrictions. It is specific and seeks a clear piece of information regarding the legislative outcome of a particular bill. However, it assumes that the reader has prior knowledge of what Bill SB 1047 entails and its context, which may not be universally known. To improve clarity and answerability, the question could briefly mention the key aspects of the bill or the specific AI restrictions it proposed, allowing for a more informed response.', 'verdict': 1}\n",
      "[ragas.testset.filters.DEBUG] filtered question: {'feedback': 'The question asks for the outcome of Bill SB 1047 proposed in California concerning AI restrictions. It is specific and seeks a clear piece of information regarding the legislative outcome of a particular bill. However, it assumes that the reader has prior knowledge of what Bill SB 1047 entails and its context, which may not be universally known. To improve clarity and answerability, the question could briefly mention the key aspects of the bill or the specific AI restrictions it proposed, allowing for a more informed response.', 'verdict': 1}\n",
      "[ragas.testset.evolutions.DEBUG] [ConditionalEvolution] simple question generated: \"What was the outcome of the Bill SB 1047 proposed in California regarding AI restrictions?\"\n",
      "[ragas.testset.evolutions.DEBUG] [ConditionalEvolution] simple question generated: \"What was the outcome of the Bill SB 1047 proposed in California regarding AI restrictions?\"\n",
      "[ragas.testset.filters.DEBUG] filtered question: {'feedback': \"The question asks about the current focus of the AI industry, referencing 'the context provided' without actually including or describing this context within the query. This reliance on unspecified context makes the question unclear and unanswerable for those who do not have access to that context. To improve clarity and answerability, the question should either include the relevant context directly or be rephrased to ask about general trends or focuses in the AI industry without needing specific external information. For example, it could ask, 'What are the current trends in the AI industry?' which would be more self-contained.\", 'verdict': 0}\n",
      "[ragas.testset.filters.DEBUG] filtered question: {'feedback': \"The question asks about the current focus of the AI industry, referencing 'the context provided' without actually including or describing this context within the query. This reliance on unspecified context makes the question unclear and unanswerable for those who do not have access to that context. To improve clarity and answerability, the question should either include the relevant context directly or be rephrased to ask about general trends or focuses in the AI industry without needing specific external information. For example, it could ask, 'What are the current trends in the AI industry?' which would be more self-contained.\", 'verdict': 0}\n",
      "[ragas.testset.filters.DEBUG] filtered question: {'feedback': \"The question asks about the significance of political representation in governance and decision-making, which is a clear and specific inquiry. It does not rely on external references and can be understood independently. However, the term 'significance' could be interpreted in various ways (e.g., social, economic, ethical implications), which may introduce some ambiguity in intent. To enhance clarity, the question could specify the aspects of significance being considered, such as its impact on policy outcomes, citizen engagement, or equity in representation.\", 'verdict': 1}\n",
      "[ragas.testset.filters.DEBUG] filtered question: {'feedback': \"The question asks about the significance of political representation in governance and decision-making, which is a clear and specific inquiry. It does not rely on external references and can be understood independently. However, the term 'significance' could be interpreted in various ways (e.g., social, economic, ethical implications), which may introduce some ambiguity in intent. To enhance clarity, the question could specify the aspects of significance being considered, such as its impact on policy outcomes, citizen engagement, or equity in representation.\", 'verdict': 1}\n",
      "[ragas.testset.filters.DEBUG] filtered question: {'feedback': \"The question asks for the outcome of Bill SB 1047 concerning AI restrictions in California. It is specific and clear in its intent, seeking a straightforward answer about the bill's status or results. However, it assumes that the reader has knowledge of what Bill SB 1047 entails and its implications, which may not be universally known. To enhance clarity and answerability, the question could briefly mention the key aspects of the bill or its purpose, allowing for a more informed response.\", 'verdict': 1}\n",
      "[ragas.testset.filters.DEBUG] filtered question: {'feedback': \"The question asks for the outcome of Bill SB 1047 concerning AI restrictions in California. It is specific and clear in its intent, seeking a straightforward answer about the bill's status or results. However, it assumes that the reader has knowledge of what Bill SB 1047 entails and its implications, which may not be universally known. To enhance clarity and answerability, the question could briefly mention the key aspects of the bill or its purpose, allowing for a more informed response.\", 'verdict': 1}\n",
      "[ragas.testset.filters.DEBUG] filtered question: {'feedback': 'The question asks about the role of student engagement in the context of AI in education. It is specific and independent, as it does not rely on external references or additional context to be understood. The intent is clear, seeking to explore the relationship between student engagement and the application of AI in educational settings. However, to enhance clarity and answerability, the question could specify what aspects of student engagement are being considered (e.g., motivation, participation, learning outcomes) or how AI is being utilized in education (e.g., personalized learning, assessment tools). This would provide a more focused framework for the response.', 'verdict': 1}\n",
      "[ragas.testset.filters.DEBUG] filtered question: {'feedback': 'The question asks about the role of student engagement in the context of AI in education. It is specific and independent, as it does not rely on external references or additional context to be understood. The intent is clear, seeking to explore the relationship between student engagement and the application of AI in educational settings. However, to enhance clarity and answerability, the question could specify what aspects of student engagement are being considered (e.g., motivation, participation, learning outcomes) or how AI is being utilized in education (e.g., personalized learning, assessment tools). This would provide a more focused framework for the response.', 'verdict': 1}\n",
      "[ragas.testset.evolutions.DEBUG] [ReasoningEvolution] simple question generated: \"What role does student engagement play in the use of AI in education?\"\n",
      "[ragas.testset.evolutions.DEBUG] [ReasoningEvolution] simple question generated: \"What role does student engagement play in the use of AI in education?\"\n",
      "[ragas.testset.filters.DEBUG] filtered question: {'feedback': \"The question asks about the beliefs of working Americans regarding the impact of AI on job availability within their industry. It is specific in its focus on 'working Americans' and the context of 'AI's impact on job availability', making the intent clear. However, the question could be improved by specifying whether it seeks qualitative insights (opinions, attitudes) or quantitative data (statistics, survey results) regarding these beliefs. Additionally, it could clarify if it is looking for a general overview or specific examples. Overall, while the question is understandable and answerable, refining the type of information sought would enhance clarity.\", 'verdict': 1}\n",
      "[ragas.testset.filters.DEBUG] filtered question: {'feedback': \"The question asks about the beliefs of working Americans regarding the impact of AI on job availability within their industry. It is specific in its focus on 'working Americans' and the context of 'AI's impact on job availability', making the intent clear. However, the question could be improved by specifying whether it seeks qualitative insights (opinions, attitudes) or quantitative data (statistics, survey results) regarding these beliefs. Additionally, it could clarify if it is looking for a general overview or specific examples. Overall, while the question is understandable and answerable, refining the type of information sought would enhance clarity.\", 'verdict': 1}\n",
      "[ragas.testset.evolutions.INFO] rewritten question: \"What are the current trends in the AI industry as mentioned in the context?\"\n",
      "[ragas.testset.evolutions.INFO] rewritten question: \"What are the current trends in the AI industry as mentioned in the context?\"\n",
      "[ragas.testset.filters.DEBUG] context scoring: {'clarity': 1, 'depth': 2, 'structure': 2, 'relevance': 3, 'score': 2.0}\n",
      "[ragas.testset.filters.DEBUG] context scoring: {'clarity': 1, 'depth': 2, 'structure': 2, 'relevance': 3, 'score': 2.0}\n",
      "[ragas.testset.evolutions.DEBUG] keyphrases in merged node: ['AI applications', 'AI development trends', 'AI models', 'AI ethics', 'AI industry advancements']\n",
      "[ragas.testset.evolutions.DEBUG] keyphrases in merged node: ['AI applications', 'AI development trends', 'AI models', 'AI ethics', 'AI industry advancements']\n",
      "[ragas.testset.evolutions.DEBUG] answer generated: {'answer': 'The answer to given question is not present in context', 'verdict': -1}\n",
      "[ragas.testset.evolutions.DEBUG] answer generated: {'answer': 'The answer to given question is not present in context', 'verdict': -1}\n",
      "[ragas.testset.evolutions.DEBUG] answer generated: {'answer': 'About half of working Americans believe that AI will decrease the number of available jobs in their industry.', 'verdict': 1}\n",
      "[ragas.testset.evolutions.DEBUG] answer generated: {'answer': 'About half of working Americans believe that AI will decrease the number of available jobs in their industry.', 'verdict': 1}\n",
      "[ragas.testset.evolutions.DEBUG] answer generated: {'answer': \"The purpose of Deepmind's SynthID in relation to AI-generated content is to enhance the transparency of such content by providing a method for identifying and verifying AI-generated materials.\", 'verdict': 1}\n",
      "[ragas.testset.evolutions.DEBUG] answer generated: {'answer': \"The purpose of Deepmind's SynthID in relation to AI-generated content is to enhance the transparency of such content by providing a method for identifying and verifying AI-generated materials.\", 'verdict': 1}\n",
      "[ragas.testset.evolutions.INFO] seed question generated: \"What are some examples of AI applications mentioned in the context?\"\n",
      "[ragas.testset.evolutions.INFO] seed question generated: \"What are some examples of AI applications mentioned in the context?\"\n",
      "[ragas.testset.filters.DEBUG] filtered question: {'feedback': \"The question asks about a specific AI event in November 2024 that connects Cypher and AI World Congress in Santa Clara. It is clear in its intent to identify a particular event and specifies the time frame and locations involved. However, the phrasing could be improved for clarity. The use of 'connects' may be ambiguous; it could refer to a joint event, a collaboration, or a thematic link. To enhance clarity, the question could specify what kind of connection is being sought (e.g., a joint event, a shared theme, or a partnership).\", 'verdict': 1}\n",
      "[ragas.testset.filters.DEBUG] filtered question: {'feedback': \"The question asks about a specific AI event in November 2024 that connects Cypher and AI World Congress in Santa Clara. It is clear in its intent to identify a particular event and specifies the time frame and locations involved. However, the phrasing could be improved for clarity. The use of 'connects' may be ambiguous; it could refer to a joint event, a collaboration, or a thematic link. To enhance clarity, the question could specify what kind of connection is being sought (e.g., a joint event, a shared theme, or a partnership).\", 'verdict': 1}\n",
      "[ragas.testset.evolutions.DEBUG] answer generated: {'answer': 'The proposed Bill SB 1047 regarding AI restrictions in California was shot down by Governor Gavin Newsom.', 'verdict': 1}\n",
      "[ragas.testset.evolutions.DEBUG] answer generated: {'answer': 'The proposed Bill SB 1047 regarding AI restrictions in California was shot down by Governor Gavin Newsom.', 'verdict': 1}\n",
      "[ragas.testset.filters.DEBUG] filtered question: {'feedback': \"The question asks about the impact of including 400 million parameters on the performance of an AI model across various applications. It is specific in terms of the number of parameters and the general area of AI model performance. However, it lacks clarity regarding what specific applications are being referred to, as 'various applications' is vague and could encompass a wide range of fields (e.g., natural language processing, computer vision, etc.). To improve clarity and answerability, the question could specify particular applications or domains of interest, or clarify the type of performance metrics being considered (e.g., accuracy, speed, resource consumption).\", 'verdict': 0}\n",
      "[ragas.testset.filters.DEBUG] filtered question: {'feedback': \"The question asks about the impact of including 400 million parameters on the performance of an AI model across various applications. It is specific in terms of the number of parameters and the general area of AI model performance. However, it lacks clarity regarding what specific applications are being referred to, as 'various applications' is vague and could encompass a wide range of fields (e.g., natural language processing, computer vision, etc.). To improve clarity and answerability, the question could specify particular applications or domains of interest, or clarify the type of performance metrics being considered (e.g., accuracy, speed, resource consumption).\", 'verdict': 0}\n",
      "[ragas.testset.filters.DEBUG] filtered question: {'feedback': \"The question asks about the implications of California's Bill SB 1047 on AI restrictions had it been approved. It is specific in its focus on a particular bill and its potential consequences, which provides a clear intent for the type of information sought. However, the question assumes familiarity with the content and context of Bill SB 1047, which may not be known to all audiences. To improve clarity and answerability, the question could briefly summarize the key provisions of the bill or specify the areas of AI restrictions it addresses, allowing for a more informed response.\", 'verdict': 0}\n",
      "[ragas.testset.filters.DEBUG] filtered question: {'feedback': \"The question asks about the implications of California's Bill SB 1047 on AI restrictions had it been approved. It is specific in its focus on a particular bill and its potential consequences, which provides a clear intent for the type of information sought. However, the question assumes familiarity with the content and context of Bill SB 1047, which may not be known to all audiences. To improve clarity and answerability, the question could briefly summarize the key provisions of the bill or specify the areas of AI restrictions it addresses, allowing for a more informed response.\", 'verdict': 0}\n",
      "[ragas.testset.filters.DEBUG] filtered question: {'feedback': \"The question asks about current trends in the AI industry, referencing 'the context' without providing any specific details or information about what that context entails. This reliance on unspecified external information makes the question unclear and unanswerable for those who do not have access to the mentioned context. To improve clarity and answerability, the question could be reframed to specify the trends of interest or to provide a brief overview of the context being referred to. For example, it could ask about specific trends in AI technology, applications, or ethical considerations, making it more self-contained.\", 'verdict': 0}\n",
      "[ragas.testset.filters.DEBUG] filtered question: {'feedback': \"The question asks about current trends in the AI industry, referencing 'the context' without providing any specific details or information about what that context entails. This reliance on unspecified external information makes the question unclear and unanswerable for those who do not have access to the mentioned context. To improve clarity and answerability, the question could be reframed to specify the trends of interest or to provide a brief overview of the context being referred to. For example, it could ask about specific trends in AI technology, applications, or ethical considerations, making it more self-contained.\", 'verdict': 0}\n",
      "[ragas.testset.evolutions.INFO] retrying evolution: 1 times\n",
      "[ragas.testset.evolutions.INFO] retrying evolution: 1 times\n",
      "[ragas.testset.evolutions.DEBUG] [ReasoningEvolution] question compressed: \"What AI event in Nov 2024 connects Cypher and AI World Congress in Santa Clara?\"\n",
      "[ragas.testset.evolutions.DEBUG] [ReasoningEvolution] question compressed: \"What AI event in Nov 2024 connects Cypher and AI World Congress in Santa Clara?\"\n",
      "[ragas.testset.evolutions.INFO] rewritten question: \"What impact would the inclusion of 400 million parameters have on the performance of an AI model in natural language processing and computer vision applications?\"\n",
      "[ragas.testset.evolutions.INFO] rewritten question: \"What impact would the inclusion of 400 million parameters have on the performance of an AI model in natural language processing and computer vision applications?\"\n",
      "[ragas.testset.filters.DEBUG] context scoring: {'clarity': 1, 'depth': 2, 'structure': 1, 'relevance': 2, 'score': 1.5}\n",
      "[ragas.testset.filters.DEBUG] context scoring: {'clarity': 1, 'depth': 2, 'structure': 1, 'relevance': 2, 'score': 1.5}\n",
      "[ragas.testset.evolutions.DEBUG] keyphrases in merged node: ['Gavin Newsom', 'AI regulation', 'The Safe and Secure Innovation for Frontier Artificial Intelligence Models Act', 'AI safety measures', 'Artificial intelligence governance']\n",
      "[ragas.testset.evolutions.DEBUG] keyphrases in merged node: ['Gavin Newsom', 'AI regulation', 'The Safe and Secure Innovation for Frontier Artificial Intelligence Models Act', 'AI safety measures', 'Artificial intelligence governance']\n",
      "[ragas.testset.filters.DEBUG] filtered question: {'feedback': \"The question asks about the connections between student engagement and the role of AI in educational outcomes. It is relatively clear in its intent, seeking to explore the relationship between two specific concepts: student engagement and AI's impact on education. However, the question could be seen as somewhat broad, as it does not specify what aspects of student engagement or AI's role are of interest. To improve clarity and answerability, the question could specify whether it is looking for empirical studies, theoretical frameworks, or practical applications. Additionally, defining what is meant by 'educational outcomes' could help narrow the focus and make the question more precise.\", 'verdict': 1}\n",
      "[ragas.testset.filters.DEBUG] filtered question: {'feedback': \"The question asks about the connections between student engagement and the role of AI in educational outcomes. It is relatively clear in its intent, seeking to explore the relationship between two specific concepts: student engagement and AI's impact on education. However, the question could be seen as somewhat broad, as it does not specify what aspects of student engagement or AI's role are of interest. To improve clarity and answerability, the question could specify whether it is looking for empirical studies, theoretical frameworks, or practical applications. Additionally, defining what is meant by 'educational outcomes' could help narrow the focus and make the question more precise.\", 'verdict': 1}\n",
      "[ragas.testset.filters.DEBUG] evolution filter: {'reason': 'Both questions inquire about an AI event occurring in Santa Clara in November 2024, focusing on the same event and its details, thus sharing the same constraints and depth of inquiry.', 'verdict': 1}\n",
      "[ragas.testset.filters.DEBUG] evolution filter: {'reason': 'Both questions inquire about an AI event occurring in Santa Clara in November 2024, focusing on the same event and its details, thus sharing the same constraints and depth of inquiry.', 'verdict': 1}\n",
      "[ragas.testset.evolutions.DEBUG] evolution_filter failed, retrying with 1\n",
      "[ragas.testset.evolutions.DEBUG] evolution_filter failed, retrying with 1\n",
      "[ragas.testset.evolutions.INFO] retrying evolution: 1 times\n",
      "[ragas.testset.evolutions.INFO] retrying evolution: 1 times\n",
      "[ragas.testset.evolutions.INFO] rewritten question: \"What would have been the implications if California's Bill SB 1047, which proposed sweeping restrictions on AI technologies, had been approved?\"\n",
      "[ragas.testset.evolutions.INFO] rewritten question: \"What would have been the implications if California's Bill SB 1047, which proposed sweeping restrictions on AI technologies, had been approved?\"\n",
      "[ragas.testset.evolutions.DEBUG] [ReasoningEvolution] question compressed: \"What connections exist between student engagement and AI's role in educational outcomes?\"\n",
      "[ragas.testset.evolutions.DEBUG] [ReasoningEvolution] question compressed: \"What connections exist between student engagement and AI's role in educational outcomes?\"\n",
      "[ragas.testset.filters.DEBUG] filtered question: {'feedback': \"The question asks for examples of AI applications but refers to 'the context' without providing any specific details about what that context entails. This reliance on unspecified external information makes the question unclear and unanswerable for someone who does not have access to that context. To improve clarity and answerability, the question could specify the context it refers to (e.g., a particular article, study, or industry) or provide a brief description of the context within the question itself. This would help ensure that the question is self-contained and understandable.\", 'verdict': 0}\n",
      "[ragas.testset.filters.DEBUG] filtered question: {'feedback': \"The question asks for examples of AI applications but refers to 'the context' without providing any specific details about what that context entails. This reliance on unspecified external information makes the question unclear and unanswerable for someone who does not have access to that context. To improve clarity and answerability, the question could specify the context it refers to (e.g., a particular article, study, or industry) or provide a brief description of the context within the question itself. This would help ensure that the question is self-contained and understandable.\", 'verdict': 0}\n",
      "[ragas.testset.filters.DEBUG] context scoring: {'clarity': 2, 'depth': 2, 'structure': 2, 'relevance': 3, 'score': 2.25}\n",
      "[ragas.testset.filters.DEBUG] context scoring: {'clarity': 2, 'depth': 2, 'structure': 2, 'relevance': 3, 'score': 2.25}\n",
      "[ragas.testset.evolutions.DEBUG] keyphrases in merged node: ['AI usage statistics', 'YouGov survey', 'AI impact on jobs', '2024 predictions', 'Public perception of AI']\n",
      "[ragas.testset.evolutions.DEBUG] keyphrases in merged node: ['AI usage statistics', 'YouGov survey', 'AI impact on jobs', '2024 predictions', 'Public perception of AI']\n",
      "[ragas.testset.evolutions.INFO] rewritten question: \"What are some examples of AI applications mentioned in the context of the discussion on 'Exploring Zero-Shot Learning in Neural Networks'?\"\n",
      "[ragas.testset.evolutions.INFO] rewritten question: \"What are some examples of AI applications mentioned in the context of the discussion on 'Exploring Zero-Shot Learning in Neural Networks'?\"\n",
      "[ragas.testset.filters.DEBUG] evolution filter: {'reason': 'The first question focuses on the role of student engagement in the context of AI in education, while the second question examines the impact of AI on student engagement. This indicates a difference in perspective and depth of inquiry, leading to different requirements.', 'verdict': 0}\n",
      "[ragas.testset.filters.DEBUG] evolution filter: {'reason': 'The first question focuses on the role of student engagement in the context of AI in education, while the second question examines the impact of AI on student engagement. This indicates a difference in perspective and depth of inquiry, leading to different requirements.', 'verdict': 0}\n",
      "[ragas.testset.evolutions.INFO] seed question generated: \"What findings were reported in the YouGov survey conducted in August 2024 regarding AI usage among respondents?\"\n",
      "[ragas.testset.evolutions.INFO] seed question generated: \"What findings were reported in the YouGov survey conducted in August 2024 regarding AI usage among respondents?\"\n",
      "[ragas.testset.filters.DEBUG] filtered question: {'feedback': \"The question is clear and specific, asking about the implications of California's Bill SB 1047 regarding AI technologies, assuming it had been approved. It does not rely on external references or additional context, making it independent and understandable. The intent is also clear, as it seeks to explore the potential consequences of the bill's approval. Therefore, it meets the criteria for clarity and answerability.\", 'verdict': 1}\n",
      "[ragas.testset.filters.DEBUG] filtered question: {'feedback': \"The question is clear and specific, asking about the implications of California's Bill SB 1047 regarding AI technologies, assuming it had been approved. It does not rely on external references or additional context, making it independent and understandable. The intent is also clear, as it seeks to explore the potential consequences of the bill's approval. Therefore, it meets the criteria for clarity and answerability.\", 'verdict': 1}\n",
      "[ragas.testset.filters.DEBUG] filtered question: {'feedback': 'The question asks about the impact of including 400 million parameters on the performance of an AI model specifically in natural language processing and computer vision applications. It is clear in its intent to understand the effects of parameter count on model performance in these two domains. However, the question could benefit from being more specific about what aspects of performance are being considered (e.g., accuracy, speed, generalization) and whether it refers to a specific type of model or architecture. Additionally, it could clarify whether it seeks a general overview or specific examples. This would enhance clarity and answerability.', 'verdict': 1}\n",
      "[ragas.testset.filters.DEBUG] filtered question: {'feedback': 'The question asks about the impact of including 400 million parameters on the performance of an AI model specifically in natural language processing and computer vision applications. It is clear in its intent to understand the effects of parameter count on model performance in these two domains. However, the question could benefit from being more specific about what aspects of performance are being considered (e.g., accuracy, speed, generalization) and whether it refers to a specific type of model or architecture. Additionally, it could clarify whether it seeks a general overview or specific examples. This would enhance clarity and answerability.', 'verdict': 1}\n",
      "[ragas.testset.evolutions.INFO] seed question generated: \"What is the purpose of The Safe and Secure Innovation for Frontier Artificial Intelligence Models Act?\"\n",
      "[ragas.testset.evolutions.INFO] seed question generated: \"What is the purpose of The Safe and Secure Innovation for Frontier Artificial Intelligence Models Act?\"\n",
      "[ragas.testset.evolutions.DEBUG] [ConditionalEvolution] question compressed: \"What would have been the implications if California's Bill SB 1047, which proposed sweeping restrictions on AI technologies, had been approved?\"\n",
      "[ragas.testset.evolutions.DEBUG] [ConditionalEvolution] question compressed: \"What would have been the implications if California's Bill SB 1047, which proposed sweeping restrictions on AI technologies, had been approved?\"\n",
      "[ragas.testset.evolutions.DEBUG] [ConditionalEvolution] question compressed: \"What impact would the inclusion of 400 million parameters have on the performance of an AI model in natural language processing and computer vision applications?\"\n",
      "[ragas.testset.evolutions.DEBUG] [ConditionalEvolution] question compressed: \"What impact would the inclusion of 400 million parameters have on the performance of an AI model in natural language processing and computer vision applications?\"\n",
      "[ragas.testset.filters.DEBUG] evolution filter: {'reason': 'The first question asks for the actual outcome of a specific bill, while the second question speculates on a hypothetical scenario if the bill had passed. This leads to different depths and types of inquiry.', 'verdict': 0}\n",
      "[ragas.testset.filters.DEBUG] evolution filter: {'reason': 'The first question asks for the actual outcome of a specific bill, while the second question speculates on a hypothetical scenario if the bill had passed. This leads to different depths and types of inquiry.', 'verdict': 0}\n",
      "[ragas.testset.filters.DEBUG] filtered question: {'feedback': \"The question asks for examples of AI applications related to the discussion on 'Exploring Zero-Shot Learning in Neural Networks'. While it specifies the topic of interest (AI applications in the context of zero-shot learning), it relies on an unspecified discussion that is not included in the question. This makes it unclear and potentially unanswerable for someone who does not have access to that discussion. To improve clarity and answerability, the question could either provide a brief summary of the discussion or specify the types of AI applications being sought (e.g., in healthcare, natural language processing, etc.).\", 'verdict': 0}\n",
      "[ragas.testset.filters.DEBUG] filtered question: {'feedback': \"The question asks for examples of AI applications related to the discussion on 'Exploring Zero-Shot Learning in Neural Networks'. While it specifies the topic of interest (AI applications in the context of zero-shot learning), it relies on an unspecified discussion that is not included in the question. This makes it unclear and potentially unanswerable for someone who does not have access to that discussion. To improve clarity and answerability, the question could either provide a brief summary of the discussion or specify the types of AI applications being sought (e.g., in healthcare, natural language processing, etc.).\", 'verdict': 0}\n",
      "[ragas.testset.evolutions.INFO] retrying evolution: 2 times\n",
      "[ragas.testset.evolutions.INFO] retrying evolution: 2 times\n",
      "[ragas.testset.filters.DEBUG] evolution filter: {'reason': 'Both questions inquire about the role of 400 million parameters in AI, but the first focuses on significance in model development while the second emphasizes performance in specific applications (NLP and CV), indicating different depths and breadths of inquiry.', 'verdict': 0}\n",
      "[ragas.testset.filters.DEBUG] evolution filter: {'reason': 'Both questions inquire about the role of 400 million parameters in AI, but the first focuses on significance in model development while the second emphasizes performance in specific applications (NLP and CV), indicating different depths and breadths of inquiry.', 'verdict': 0}\n",
      "[ragas.testset.filters.DEBUG] filtered question: {'feedback': \"The question asks for specific findings from a YouGov survey about AI usage conducted in August 2024. However, it assumes access to the survey results without providing any context or details about what aspects of AI usage are of interest. This makes the question unclear for those who do not have access to the survey data. To improve clarity and answerability, the question could specify the type of findings sought (e.g., demographic trends, usage frequency, attitudes towards AI) or provide a brief overview of the survey's focus. Additionally, since the date mentioned is in the future (August 2024), it raises questions about the feasibility of answering it at this time.\", 'verdict': 0}\n",
      "[ragas.testset.filters.DEBUG] filtered question: {'feedback': \"The question asks for specific findings from a YouGov survey about AI usage conducted in August 2024. However, it assumes access to the survey results without providing any context or details about what aspects of AI usage are of interest. This makes the question unclear for those who do not have access to the survey data. To improve clarity and answerability, the question could specify the type of findings sought (e.g., demographic trends, usage frequency, attitudes towards AI) or provide a brief overview of the survey's focus. Additionally, since the date mentioned is in the future (August 2024), it raises questions about the feasibility of answering it at this time.\", 'verdict': 0}\n",
      "[ragas.testset.filters.DEBUG] filtered question: {'feedback': \"The question asks for the purpose of a specific legislative act, namely 'The Safe and Secure Innovation for Frontier Artificial Intelligence Models Act'. It is clear in its intent, seeking information about the purpose of this act without requiring additional context or references. The question is specific and independent, making it understandable and answerable based on the details provided. Therefore, it meets the criteria for clarity and answerability.\", 'verdict': 1}\n",
      "[ragas.testset.filters.DEBUG] filtered question: {'feedback': \"The question asks for the purpose of a specific legislative act, namely 'The Safe and Secure Innovation for Frontier Artificial Intelligence Models Act'. It is clear in its intent, seeking information about the purpose of this act without requiring additional context or references. The question is specific and independent, making it understandable and answerable based on the details provided. Therefore, it meets the criteria for clarity and answerability.\", 'verdict': 1}\n",
      "[ragas.testset.evolutions.DEBUG] [MultiContextEvolution] simple question generated: \"What is the purpose of The Safe and Secure Innovation for Frontier Artificial Intelligence Models Act?\"\n",
      "[ragas.testset.evolutions.DEBUG] [MultiContextEvolution] simple question generated: \"What is the purpose of The Safe and Secure Innovation for Frontier Artificial Intelligence Models Act?\"\n",
      "[ragas.testset.filters.DEBUG] context scoring: {'clarity': 1, 'depth': 2, 'structure': 1, 'relevance': 2, 'score': 1.5}\n",
      "[ragas.testset.filters.DEBUG] context scoring: {'clarity': 1, 'depth': 2, 'structure': 1, 'relevance': 2, 'score': 1.5}\n",
      "[ragas.testset.evolutions.DEBUG] keyphrases in merged node: ['AI industry', 'Chatbot Arena', 'LMSYS-Chat-1M', 'TechCrunch', 'Benchmark']\n",
      "[ragas.testset.evolutions.DEBUG] keyphrases in merged node: ['AI industry', 'Chatbot Arena', 'LMSYS-Chat-1M', 'TechCrunch', 'Benchmark']\n",
      "[ragas.testset.evolutions.DEBUG] answer generated: {'answer': 'AI impacts student engagement in education by providing personalized learning experiences and enhancing interaction through various tools. It allows for tailored educational content that can adapt to individual student needs, thereby increasing motivation and participation in learning activities.', 'verdict': 1}\n",
      "[ragas.testset.evolutions.DEBUG] answer generated: {'answer': 'AI impacts student engagement in education by providing personalized learning experiences and enhancing interaction through various tools. It allows for tailored educational content that can adapt to individual student needs, thereby increasing motivation and participation in learning activities.', 'verdict': 1}\n",
      "[ragas.testset.evolutions.INFO] rewritten question: \"What specific demographic trends and attitudes towards AI usage were reported in the YouGov survey conducted in August 2024?\"\n",
      "[ragas.testset.evolutions.INFO] rewritten question: \"What specific demographic trends and attitudes towards AI usage were reported in the YouGov survey conducted in August 2024?\"\n",
      "[ragas.testset.evolutions.DEBUG] [MultiContextEvolution] multicontext question generated: \"What key objectives does the legislation aimed at regulating advanced AI models seek to achieve, particularly in relation to safety and innovation?\"\n",
      "[ragas.testset.evolutions.DEBUG] [MultiContextEvolution] multicontext question generated: \"What key objectives does the legislation aimed at regulating advanced AI models seek to achieve, particularly in relation to safety and innovation?\"\n",
      "[ragas.testset.evolutions.DEBUG] answer generated: {'answer': 'The answer to given question is not present in context', 'verdict': -1}\n",
      "[ragas.testset.evolutions.DEBUG] answer generated: {'answer': 'The answer to given question is not present in context', 'verdict': -1}\n",
      "[ragas.testset.evolutions.DEBUG] answer generated: {'answer': 'The answer to given question is not present in context', 'verdict': -1}\n",
      "[ragas.testset.evolutions.DEBUG] answer generated: {'answer': 'The answer to given question is not present in context', 'verdict': -1}\n",
      "[ragas.testset.evolutions.INFO] seed question generated: \"What is the significance of TechCrunch in the context of the AI industry and chatbot development?\"\n",
      "[ragas.testset.evolutions.INFO] seed question generated: \"What is the significance of TechCrunch in the context of the AI industry and chatbot development?\"\n",
      "[ragas.testset.filters.DEBUG] filtered question: {'feedback': 'The question is clear and specific, asking about the key objectives of legislation that regulates advanced AI models, with a focus on safety and innovation. It does not rely on external references or context, making it independent and understandable. The intent is evident, as it seeks to identify specific goals of the legislation. Therefore, it meets the criteria for clarity and answerability.', 'verdict': 1}\n",
      "[ragas.testset.filters.DEBUG] filtered question: {'feedback': 'The question is clear and specific, asking about the key objectives of legislation that regulates advanced AI models, with a focus on safety and innovation. It does not rely on external references or context, making it independent and understandable. The intent is evident, as it seeks to identify specific goals of the legislation. Therefore, it meets the criteria for clarity and answerability.', 'verdict': 1}\n",
      "[ragas.testset.evolutions.DEBUG] [MultiContextEvolution] multicontext question compressed: \"What are the main goals of the AI regulation legislation for safety and innovation?\"\n",
      "[ragas.testset.evolutions.DEBUG] [MultiContextEvolution] multicontext question compressed: \"What are the main goals of the AI regulation legislation for safety and innovation?\"\n",
      "[ragas.testset.filters.DEBUG] filtered question: {'feedback': \"The question asks about the significance of TechCrunch specifically in relation to the AI industry and chatbot development. It is clear in its intent, specifying both the subject (TechCrunch) and the context (AI industry and chatbot development). However, the term 'significance' could be interpreted in various ways, such as its influence, coverage, or role in shaping trends. To improve clarity, the question could specify what aspect of significance is being sought (e.g., influence on industry trends, reporting on innovations, or impact on public perception).\", 'verdict': 1}\n",
      "[ragas.testset.filters.DEBUG] filtered question: {'feedback': \"The question asks about the significance of TechCrunch specifically in relation to the AI industry and chatbot development. It is clear in its intent, specifying both the subject (TechCrunch) and the context (AI industry and chatbot development). However, the term 'significance' could be interpreted in various ways, such as its influence, coverage, or role in shaping trends. To improve clarity, the question could specify what aspect of significance is being sought (e.g., influence on industry trends, reporting on innovations, or impact on public perception).\", 'verdict': 1}\n",
      "[ragas.testset.evolutions.DEBUG] [MultiContextEvolution] simple question generated: \"What is the significance of TechCrunch in the context of the AI industry and chatbot development?\"\n",
      "[ragas.testset.evolutions.DEBUG] [MultiContextEvolution] simple question generated: \"What is the significance of TechCrunch in the context of the AI industry and chatbot development?\"\n",
      "[ragas.testset.filters.DEBUG] filtered question: {'feedback': \"The question asks for specific demographic trends and attitudes towards AI usage as reported in a YouGov survey conducted in August 2024. While it specifies the source (YouGov survey) and the time frame (August 2024), it assumes access to the survey results without providing any context or details about what those trends and attitudes might entail. This reliance on external data makes the question less independent and potentially unclear for those unfamiliar with the survey. To improve clarity and answerability, the question could specify the types of demographic trends (e.g., age, gender, location) or attitudes (e.g., acceptance, concerns) being sought, or it could provide a brief summary of the survey's findings to frame the inquiry more effectively.\", 'verdict': 0}\n",
      "[ragas.testset.filters.DEBUG] filtered question: {'feedback': \"The question asks for specific demographic trends and attitudes towards AI usage as reported in a YouGov survey conducted in August 2024. While it specifies the source (YouGov survey) and the time frame (August 2024), it assumes access to the survey results without providing any context or details about what those trends and attitudes might entail. This reliance on external data makes the question less independent and potentially unclear for those unfamiliar with the survey. To improve clarity and answerability, the question could specify the types of demographic trends (e.g., age, gender, location) or attitudes (e.g., acceptance, concerns) being sought, or it could provide a brief summary of the survey's findings to frame the inquiry more effectively.\", 'verdict': 0}\n",
      "[ragas.testset.evolutions.INFO] retrying evolution: 2 times\n",
      "[ragas.testset.evolutions.INFO] retrying evolution: 2 times\n",
      "[ragas.testset.filters.DEBUG] evolution filter: {'reason': 'Both questions inquire about the objectives and intentions behind legislation related to AI safety and innovation, sharing similar constraints and depth of inquiry.', 'verdict': 1}\n",
      "[ragas.testset.filters.DEBUG] evolution filter: {'reason': 'Both questions inquire about the objectives and intentions behind legislation related to AI safety and innovation, sharing similar constraints and depth of inquiry.', 'verdict': 1}\n",
      "[ragas.testset.evolutions.INFO] retrying evolution: 1 times\n",
      "[ragas.testset.evolutions.INFO] retrying evolution: 1 times\n",
      "[ragas.testset.evolutions.DEBUG] [MultiContextEvolution] multicontext question generated: \"What role does TechCrunch play in shaping the discourse around AI advancements and the evaluation of chatbot efficacy within the industry?\"\n",
      "[ragas.testset.evolutions.DEBUG] [MultiContextEvolution] multicontext question generated: \"What role does TechCrunch play in shaping the discourse around AI advancements and the evaluation of chatbot efficacy within the industry?\"\n",
      "[ragas.testset.filters.DEBUG] context scoring: {'clarity': 1, 'depth': 2, 'structure': 2, 'relevance': 3, 'score': 2.0}\n",
      "[ragas.testset.filters.DEBUG] context scoring: {'clarity': 1, 'depth': 2, 'structure': 2, 'relevance': 3, 'score': 2.0}\n",
      "[ragas.testset.evolutions.DEBUG] keyphrases in merged node: ['SPRi AI Brief', 'AI technology', 'Gemini AI', 'AI applications', 'Google AI advancements']\n",
      "[ragas.testset.evolutions.DEBUG] keyphrases in merged node: ['SPRi AI Brief', 'AI technology', 'Gemini AI', 'AI applications', 'Google AI advancements']\n",
      "[ragas.testset.filters.DEBUG] context scoring: {'clarity': 1, 'depth': 1, 'structure': 1, 'relevance': 2, 'score': 1.25}\n",
      "[ragas.testset.filters.DEBUG] context scoring: {'clarity': 1, 'depth': 1, 'structure': 1, 'relevance': 2, 'score': 1.25}\n",
      "[ragas.testset.evolutions.INFO] retrying evolution: 1 times\n",
      "[ragas.testset.evolutions.INFO] retrying evolution: 1 times\n",
      "[ragas.testset.evolutions.INFO] seed question generated: \"What is the significance of Gemini AI in the context of AI advancements?\"\n",
      "[ragas.testset.evolutions.INFO] seed question generated: \"What is the significance of Gemini AI in the context of AI advancements?\"\n",
      "[ragas.testset.filters.DEBUG] context scoring: {'clarity': 2, 'depth': 2, 'structure': 2, 'relevance': 3, 'score': 2.25}\n",
      "[ragas.testset.filters.DEBUG] context scoring: {'clarity': 2, 'depth': 2, 'structure': 2, 'relevance': 3, 'score': 2.25}\n",
      "[ragas.testset.evolutions.DEBUG] keyphrases in merged node: ['AI in education', 'Parent and pupil attitudes', 'Research on AI usage', 'Educational technology', 'Student engagement']\n",
      "[ragas.testset.evolutions.DEBUG] keyphrases in merged node: ['AI in education', 'Parent and pupil attitudes', 'Research on AI usage', 'Educational technology', 'Student engagement']\n",
      "[ragas.testset.evolutions.INFO] seed question generated: \"What role does student engagement play in the use of AI in education?\"\n",
      "[ragas.testset.evolutions.INFO] seed question generated: \"What role does student engagement play in the use of AI in education?\"\n",
      "[ragas.testset.filters.DEBUG] filtered question: {'feedback': \"The question asks about the role of TechCrunch in influencing discussions on AI advancements and the assessment of chatbot efficacy. It is specific in its focus on TechCrunch and the topics of AI advancements and chatbot evaluation, making the intent clear. However, the question may require some background knowledge about TechCrunch's influence and the context of AI discourse, which could limit its independence. To improve clarity and answerability, the question could specify what aspects of TechCrunch's role are of interest (e.g., articles, interviews, events) or provide a brief context about the current state of AI advancements and chatbot evaluation in the industry.\", 'verdict': 1}\n",
      "[ragas.testset.filters.DEBUG] filtered question: {'feedback': \"The question asks about the role of TechCrunch in influencing discussions on AI advancements and the assessment of chatbot efficacy. It is specific in its focus on TechCrunch and the topics of AI advancements and chatbot evaluation, making the intent clear. However, the question may require some background knowledge about TechCrunch's influence and the context of AI discourse, which could limit its independence. To improve clarity and answerability, the question could specify what aspects of TechCrunch's role are of interest (e.g., articles, interviews, events) or provide a brief context about the current state of AI advancements and chatbot evaluation in the industry.\", 'verdict': 1}\n",
      "[ragas.testset.filters.DEBUG] filtered question: {'feedback': \"The question asks about the significance of Gemini AI in relation to advancements in AI. While it is somewhat clear in its intent to explore the importance of Gemini AI, it lacks specificity regarding what aspects of AI advancements are being referred to (e.g., technological breakthroughs, applications, ethical considerations). Additionally, the phrase 'in the context of AI advancements' is broad and could encompass a wide range of topics. To improve clarity and answerability, the question could specify particular advancements or areas of AI that it is interested in, such as natural language processing, machine learning techniques, or specific applications in industry.\", 'verdict': 0}\n",
      "[ragas.testset.filters.DEBUG] filtered question: {'feedback': \"The question asks about the significance of Gemini AI in relation to advancements in AI. While it is somewhat clear in its intent to explore the importance of Gemini AI, it lacks specificity regarding what aspects of AI advancements are being referred to (e.g., technological breakthroughs, applications, ethical considerations). Additionally, the phrase 'in the context of AI advancements' is broad and could encompass a wide range of topics. To improve clarity and answerability, the question could specify particular advancements or areas of AI that it is interested in, such as natural language processing, machine learning techniques, or specific applications in industry.\", 'verdict': 0}\n",
      "[ragas.testset.evolutions.DEBUG] [MultiContextEvolution] multicontext question compressed: \"How does TechCrunch influence AI discussions and chatbot evaluations?\"\n",
      "[ragas.testset.evolutions.DEBUG] [MultiContextEvolution] multicontext question compressed: \"How does TechCrunch influence AI discussions and chatbot evaluations?\"\n",
      "[ragas.testset.evolutions.INFO] rewritten question: \"What specific advancements in natural language processing and machine learning techniques does Gemini AI contribute to in the field of artificial intelligence?\"\n",
      "[ragas.testset.evolutions.INFO] rewritten question: \"What specific advancements in natural language processing and machine learning techniques does Gemini AI contribute to in the field of artificial intelligence?\"\n",
      "[ragas.testset.filters.DEBUG] evolution filter: {'reason': 'Both questions explore the role of TechCrunch in relation to the AI industry and chatbot development, but they focus on different aspects: one emphasizes significance while the other highlights influence, leading to a difference in depth and breadth of inquiry.', 'verdict': 0}\n",
      "[ragas.testset.filters.DEBUG] evolution filter: {'reason': 'Both questions explore the role of TechCrunch in relation to the AI industry and chatbot development, but they focus on different aspects: one emphasizes significance while the other highlights influence, leading to a difference in depth and breadth of inquiry.', 'verdict': 0}\n",
      "[ragas.testset.filters.DEBUG] filtered question: {'feedback': 'The question asks about the role of student engagement in the context of AI in education. It is clear in its intent, seeking to understand how student engagement interacts with or influences the use of AI technologies in educational settings. However, the question could be considered somewhat broad, as it does not specify particular aspects of student engagement or types of AI applications in education. To improve clarity and answerability, the question could be reframed to focus on specific dimensions of student engagement (e.g., motivation, participation) or particular AI tools or methods (e.g., adaptive learning systems, AI tutoring) to provide a more targeted inquiry.', 'verdict': 1}\n",
      "[ragas.testset.filters.DEBUG] filtered question: {'feedback': 'The question asks about the role of student engagement in the context of AI in education. It is clear in its intent, seeking to understand how student engagement interacts with or influences the use of AI technologies in educational settings. However, the question could be considered somewhat broad, as it does not specify particular aspects of student engagement or types of AI applications in education. To improve clarity and answerability, the question could be reframed to focus on specific dimensions of student engagement (e.g., motivation, participation) or particular AI tools or methods (e.g., adaptive learning systems, AI tutoring) to provide a more targeted inquiry.', 'verdict': 1}\n",
      "[ragas.testset.evolutions.DEBUG] [MultiContextEvolution] simple question generated: \"What role does student engagement play in the use of AI in education?\"\n",
      "[ragas.testset.evolutions.DEBUG] [MultiContextEvolution] simple question generated: \"What role does student engagement play in the use of AI in education?\"\n",
      "[ragas.testset.evolutions.DEBUG] [MultiContextEvolution] multicontext question generated: \"What impact does student involvement have on the integration of AI tools in educational settings, considering both the pedagogical strategies employed and the attitudes of parents and students towards such technologies?\"\n",
      "[ragas.testset.evolutions.DEBUG] [MultiContextEvolution] multicontext question generated: \"What impact does student involvement have on the integration of AI tools in educational settings, considering both the pedagogical strategies employed and the attitudes of parents and students towards such technologies?\"\n",
      "[ragas.testset.evolutions.DEBUG] answer generated: {'answer': 'The answer to given question is not present in context', 'verdict': -1}\n",
      "[ragas.testset.evolutions.DEBUG] answer generated: {'answer': 'The answer to given question is not present in context', 'verdict': -1}\n",
      "[ragas.testset.filters.DEBUG] filtered question: {'feedback': \"The question asks about specific advancements made by Gemini AI in the areas of natural language processing and machine learning within the broader field of artificial intelligence. It is clear in its intent, specifying the focus on advancements and the relevant fields. However, the term 'Gemini AI' may require additional context for those unfamiliar with it, as it could refer to various projects or systems. To enhance clarity and answerability, the question could specify which Gemini AI is being referred to (e.g., a particular model, framework, or research initiative) and perhaps provide a brief context about its significance or the specific areas of NLP and machine learning it addresses.\", 'verdict': 1}\n",
      "[ragas.testset.filters.DEBUG] filtered question: {'feedback': \"The question asks about specific advancements made by Gemini AI in the areas of natural language processing and machine learning within the broader field of artificial intelligence. It is clear in its intent, specifying the focus on advancements and the relevant fields. However, the term 'Gemini AI' may require additional context for those unfamiliar with it, as it could refer to various projects or systems. To enhance clarity and answerability, the question could specify which Gemini AI is being referred to (e.g., a particular model, framework, or research initiative) and perhaps provide a brief context about its significance or the specific areas of NLP and machine learning it addresses.\", 'verdict': 1}\n",
      "[ragas.testset.evolutions.DEBUG] [ReasoningEvolution] simple question generated: \"What specific advancements in natural language processing and machine learning techniques does Gemini AI contribute to in the field of artificial intelligence?\"\n",
      "[ragas.testset.evolutions.DEBUG] [ReasoningEvolution] simple question generated: \"What specific advancements in natural language processing and machine learning techniques does Gemini AI contribute to in the field of artificial intelligence?\"\n",
      "[ragas.testset.filters.DEBUG] filtered question: {'feedback': \"The question explores the impact of student involvement on the integration of AI tools in education, specifically considering pedagogical strategies and the attitudes of parents and students. While it is specific in its focus, the question is somewhat complex and may require additional context to fully understand the parameters of 'student involvement' and 'integration of AI tools'. It is also broad, as it encompasses multiple factors (pedagogical strategies, attitudes of parents and students) without clearly defining how these factors will be assessed or measured. To improve clarity and answerability, the question could be reframed to specify the type of impact being investigated (e.g., academic performance, engagement) and how the attitudes and strategies will be evaluated. Additionally, simplifying the structure could help in making the intent clearer.\", 'verdict': 0}\n",
      "[ragas.testset.filters.DEBUG] filtered question: {'feedback': \"The question explores the impact of student involvement on the integration of AI tools in education, specifically considering pedagogical strategies and the attitudes of parents and students. While it is specific in its focus, the question is somewhat complex and may require additional context to fully understand the parameters of 'student involvement' and 'integration of AI tools'. It is also broad, as it encompasses multiple factors (pedagogical strategies, attitudes of parents and students) without clearly defining how these factors will be assessed or measured. To improve clarity and answerability, the question could be reframed to specify the type of impact being investigated (e.g., academic performance, engagement) and how the attitudes and strategies will be evaluated. Additionally, simplifying the structure could help in making the intent clearer.\", 'verdict': 0}\n",
      "[ragas.testset.filters.DEBUG] filtered question: {'feedback': \"The question asks about the role of advancements in Natural Language Processing (NLP) and Machine Learning (ML) in the innovations of Gemini AI. It is specific in its focus on the relationship between technological advancements and a particular entity (Gemini AI). However, the question could be clearer by specifying what aspects of AI innovations are being referred to (e.g., specific technologies, applications, or outcomes). Additionally, the term 'role' could be interpreted in various ways (e.g., influence, contribution, implementation), which may lead to ambiguity in the response. To improve clarity and answerability, the question could be reframed to specify the types of innovations or outcomes of interest and clarify what is meant by 'role'.\", 'verdict': 1}\n",
      "[ragas.testset.filters.DEBUG] filtered question: {'feedback': \"The question asks about the role of advancements in Natural Language Processing (NLP) and Machine Learning (ML) in the innovations of Gemini AI. It is specific in its focus on the relationship between technological advancements and a particular entity (Gemini AI). However, the question could be clearer by specifying what aspects of AI innovations are being referred to (e.g., specific technologies, applications, or outcomes). Additionally, the term 'role' could be interpreted in various ways (e.g., influence, contribution, implementation), which may lead to ambiguity in the response. To improve clarity and answerability, the question could be reframed to specify the types of innovations or outcomes of interest and clarify what is meant by 'role'.\", 'verdict': 1}\n",
      "[ragas.testset.evolutions.INFO] rewritten question: \"What specific effects does student involvement have on the academic performance and engagement in educational settings that integrate AI tools, and how are the attitudes of parents and students towards these technologies evaluated?\"\n",
      "[ragas.testset.evolutions.INFO] rewritten question: \"What specific effects does student involvement have on the academic performance and engagement in educational settings that integrate AI tools, and how are the attitudes of parents and students towards these technologies evaluated?\"\n",
      "[ragas.testset.evolutions.DEBUG] [ReasoningEvolution] question compressed: \"What role do advancements in NLP and ML play in Gemini AI's AI innovations?\"\n",
      "[ragas.testset.evolutions.DEBUG] [ReasoningEvolution] question compressed: \"What role do advancements in NLP and ML play in Gemini AI's AI innovations?\"\n",
      "[ragas.testset.filters.DEBUG] evolution filter: {'reason': \"The first question specifically asks about the contributions of Gemini AI to advancements in NLP and ML, while the second question focuses on the influence of those advancements on Gemini AI's innovations. This leads to different depths and focuses in the inquiry.\", 'verdict': 0}\n",
      "[ragas.testset.filters.DEBUG] evolution filter: {'reason': \"The first question specifically asks about the contributions of Gemini AI to advancements in NLP and ML, while the second question focuses on the influence of those advancements on Gemini AI's innovations. This leads to different depths and focuses in the inquiry.\", 'verdict': 0}\n",
      "[ragas.testset.filters.DEBUG] filtered question: {'feedback': 'The question is quite complex and multifaceted, asking about the effects of student involvement on academic performance and engagement in educational settings that use AI tools, as well as how the attitudes of parents and students towards these technologies are evaluated. While it is specific in its focus on student involvement and AI tools, it combines two distinct inquiries into one, which may lead to ambiguity in intent. To improve clarity and answerability, the question could be split into two separate questions: one focusing on the effects of student involvement on academic performance and engagement, and the other on the evaluation of attitudes towards AI tools. This would make it easier to address each aspect clearly and directly.', 'verdict': 0}\n",
      "[ragas.testset.filters.DEBUG] filtered question: {'feedback': 'The question is quite complex and multifaceted, asking about the effects of student involvement on academic performance and engagement in educational settings that use AI tools, as well as how the attitudes of parents and students towards these technologies are evaluated. While it is specific in its focus on student involvement and AI tools, it combines two distinct inquiries into one, which may lead to ambiguity in intent. To improve clarity and answerability, the question could be split into two separate questions: one focusing on the effects of student involvement on academic performance and engagement, and the other on the evaluation of attitudes towards AI tools. This would make it easier to address each aspect clearly and directly.', 'verdict': 0}\n",
      "[ragas.testset.evolutions.INFO] retrying evolution: 2 times\n",
      "[ragas.testset.evolutions.INFO] retrying evolution: 2 times\n",
      "[ragas.testset.filters.DEBUG] context scoring: {'clarity': 1, 'depth': 2, 'structure': 2, 'relevance': 3, 'score': 2.0}\n",
      "[ragas.testset.filters.DEBUG] context scoring: {'clarity': 1, 'depth': 2, 'structure': 2, 'relevance': 3, 'score': 2.0}\n",
      "[ragas.testset.evolutions.DEBUG] keyphrases in merged node: ['AI safety', 'AI governance', 'NIST AI guidelines', 'U.S. AI Safety Institute', 'AI risk management']\n",
      "[ragas.testset.evolutions.DEBUG] keyphrases in merged node: ['AI safety', 'AI governance', 'NIST AI guidelines', 'U.S. AI Safety Institute', 'AI risk management']\n",
      "[ragas.testset.evolutions.DEBUG] answer generated: {'answer': 'The answer to given question is not present in context', 'verdict': -1}\n",
      "[ragas.testset.evolutions.DEBUG] answer generated: {'answer': 'The answer to given question is not present in context', 'verdict': -1}\n",
      "[ragas.testset.evolutions.INFO] seed question generated: \"What are the key components of AI governance as mentioned in the context?\"\n",
      "[ragas.testset.evolutions.INFO] seed question generated: \"What are the key components of AI governance as mentioned in the context?\"\n",
      "[ragas.testset.filters.DEBUG] filtered question: {'feedback': \"The question asks about the key components of AI governance, referencing 'the context' without providing any specific details or information about what that context entails. This reliance on unspecified external information makes the question unclear and unanswerable for those who do not have access to the mentioned context. To improve clarity and answerability, the question could either include a brief description of the context or specify the components of AI governance that are of interest. Additionally, rephrasing the question to ask for a general overview of AI governance components without relying on external context would enhance its independence and clarity.\", 'verdict': 0}\n",
      "[ragas.testset.filters.DEBUG] filtered question: {'feedback': \"The question asks about the key components of AI governance, referencing 'the context' without providing any specific details or information about what that context entails. This reliance on unspecified external information makes the question unclear and unanswerable for those who do not have access to the mentioned context. To improve clarity and answerability, the question could either include a brief description of the context or specify the components of AI governance that are of interest. Additionally, rephrasing the question to ask for a general overview of AI governance components without relying on external context would enhance its independence and clarity.\", 'verdict': 0}\n",
      "[ragas.testset.evolutions.INFO] rewritten question: \"What are the key components of AI governance discussed in the context of the United Nations AI Advisory Body's report?\"\n",
      "[ragas.testset.evolutions.INFO] rewritten question: \"What are the key components of AI governance discussed in the context of the United Nations AI Advisory Body's report?\"\n",
      "[ragas.testset.filters.DEBUG] filtered question: {'feedback': \"The question asks about the key components of AI governance as discussed in the context of the United Nations AI Advisory Body's report. While it specifies the topic (AI governance) and the source (United Nations AI Advisory Body's report), it assumes familiarity with the report's content without providing any details or context. This reliance on an external document makes the question less independent and potentially unclear for those who are not familiar with the report. To improve clarity and answerability, the question could either summarize the main themes of the report or specify the components of AI governance that are of interest, allowing for a more focused response.\", 'verdict': 0}\n",
      "[ragas.testset.filters.DEBUG] filtered question: {'feedback': \"The question asks about the key components of AI governance as discussed in the context of the United Nations AI Advisory Body's report. While it specifies the topic (AI governance) and the source (United Nations AI Advisory Body's report), it assumes familiarity with the report's content without providing any details or context. This reliance on an external document makes the question less independent and potentially unclear for those who are not familiar with the report. To improve clarity and answerability, the question could either summarize the main themes of the report or specify the components of AI governance that are of interest, allowing for a more focused response.\", 'verdict': 0}\n",
      "[ragas.testset.evolutions.INFO] retrying evolution: 3 times\n",
      "[ragas.testset.evolutions.INFO] retrying evolution: 3 times\n",
      "[ragas.testset.filters.DEBUG] context scoring: {'clarity': 1, 'depth': 2, 'structure': 1, 'relevance': 2, 'score': 1.5}\n",
      "[ragas.testset.filters.DEBUG] context scoring: {'clarity': 1, 'depth': 2, 'structure': 1, 'relevance': 2, 'score': 1.5}\n",
      "[ragas.testset.evolutions.DEBUG] keyphrases in merged node: ['AI treaty', 'Council of Europe', 'International AI treaty', 'Global treaty on AI', 'AI applications']\n",
      "[ragas.testset.evolutions.DEBUG] keyphrases in merged node: ['AI treaty', 'Council of Europe', 'International AI treaty', 'Global treaty on AI', 'AI applications']\n",
      "[ragas.testset.evolutions.INFO] seed question generated: \"What is the significance of the first international AI treaty being signed by the US, Britain, and the EU?\"\n",
      "[ragas.testset.evolutions.INFO] seed question generated: \"What is the significance of the first international AI treaty being signed by the US, Britain, and the EU?\"\n",
      "[ragas.testset.filters.DEBUG] filtered question: {'feedback': \"The question asks about the significance of the first international AI treaty signed by the US, Britain, and the EU. It is clear in its intent, specifying the parties involved and the subject matter (the AI treaty). However, the question could benefit from additional context regarding what aspects of significance are of interest (e.g., political, ethical, technological implications). To enhance clarity and answerability, the question could specify whether it seeks to understand the treaty's impact on international relations, its implications for AI governance, or its potential effects on the development and deployment of AI technologies.\", 'verdict': 1}\n",
      "[ragas.testset.filters.DEBUG] filtered question: {'feedback': \"The question asks about the significance of the first international AI treaty signed by the US, Britain, and the EU. It is clear in its intent, specifying the parties involved and the subject matter (the AI treaty). However, the question could benefit from additional context regarding what aspects of significance are of interest (e.g., political, ethical, technological implications). To enhance clarity and answerability, the question could specify whether it seeks to understand the treaty's impact on international relations, its implications for AI governance, or its potential effects on the development and deployment of AI technologies.\", 'verdict': 1}\n",
      "[ragas.testset.evolutions.DEBUG] [MultiContextEvolution] simple question generated: \"What is the significance of the first international AI treaty being signed by the US, Britain, and the EU?\"\n",
      "[ragas.testset.evolutions.DEBUG] [MultiContextEvolution] simple question generated: \"What is the significance of the first international AI treaty being signed by the US, Britain, and the EU?\"\n",
      "[ragas.testset.evolutions.DEBUG] [MultiContextEvolution] multicontext question generated: \"What implications arise from the US, Britain, and EU's signing of the inaugural global AI treaty, particularly regarding the governance and ethical frameworks for AI deployment?\"\n",
      "[ragas.testset.evolutions.DEBUG] [MultiContextEvolution] multicontext question generated: \"What implications arise from the US, Britain, and EU's signing of the inaugural global AI treaty, particularly regarding the governance and ethical frameworks for AI deployment?\"\n",
      "[ragas.testset.filters.DEBUG] filtered question: {'feedback': 'The question is specific and clear, asking about the implications of a specific event (the signing of the inaugural global AI treaty by the US, Britain, and EU) with a focus on governance and ethical frameworks for AI deployment. It does not rely on external references and can be understood independently. The intent is clear, seeking to explore the consequences of this treaty. Therefore, it meets the criteria for clarity and answerability.', 'verdict': 1}\n",
      "[ragas.testset.filters.DEBUG] filtered question: {'feedback': 'The question is specific and clear, asking about the implications of a specific event (the signing of the inaugural global AI treaty by the US, Britain, and EU) with a focus on governance and ethical frameworks for AI deployment. It does not rely on external references and can be understood independently. The intent is clear, seeking to explore the consequences of this treaty. Therefore, it meets the criteria for clarity and answerability.', 'verdict': 1}\n",
      "[ragas.testset.evolutions.DEBUG] [MultiContextEvolution] multicontext question compressed: \"What are the implications of the US, UK, and EU's global AI treaty for AI governance and ethics?\"\n",
      "[ragas.testset.evolutions.DEBUG] [MultiContextEvolution] multicontext question compressed: \"What are the implications of the US, UK, and EU's global AI treaty for AI governance and ethics?\"\n",
      "[ragas.testset.filters.DEBUG] evolution filter: {'reason': 'Both questions address the topic of the international AI treaty involving the US, UK, and EU, but they focus on different aspects. The first question emphasizes the significance of the treaty, while the second question explores its implications for governance and ethics, indicating a difference in depth and breadth of inquiry.', 'verdict': 0}\n",
      "[ragas.testset.filters.DEBUG] evolution filter: {'reason': 'Both questions address the topic of the international AI treaty involving the US, UK, and EU, but they focus on different aspects. The first question emphasizes the significance of the treaty, while the second question explores its implications for governance and ethics, indicating a difference in depth and breadth of inquiry.', 'verdict': 0}\n",
      "[ragas.testset.evolutions.DEBUG] answer generated: {'answer': \"The implications of the US, UK, and EU's global AI treaty for AI governance and ethics include the establishment of a framework for the responsible use of AI, addressing issues related to accountability, transparency, and the ethical deployment of AI technologies. The treaty aims to ensure that AI applications are aligned with human rights and societal values, promoting a collaborative approach to AI regulation among the signatory nations.\", 'verdict': 1}\n",
      "[ragas.testset.evolutions.DEBUG] answer generated: {'answer': \"The implications of the US, UK, and EU's global AI treaty for AI governance and ethics include the establishment of a framework for the responsible use of AI, addressing issues related to accountability, transparency, and the ethical deployment of AI technologies. The treaty aims to ensure that AI applications are aligned with human rights and societal values, promoting a collaborative approach to AI regulation among the signatory nations.\", 'verdict': 1}\n"
     ]
    }
   ],
   "source": [
    "# test dataset 객체 생성\n",
    "test_dataset = generator.generate_with_langchain_docs(\n",
    "    documents=docs,\n",
    "    test_size=10,\n",
    "    distributions=distributions,\n",
    "    with_debugging_logs=True\n",
    ")"
   ]
  },
  {
   "cell_type": "code",
   "execution_count": 69,
   "metadata": {},
   "outputs": [
    {
     "name": "stdout",
     "output_type": "stream",
     "text": [
      "<class 'ragas.testset.generator.TestDataset'>\n",
      "10\n"
     ]
    },
    {
     "data": {
      "text/plain": [
       "{'question': 'str',\n",
       " 'contexts': 't.List[str]',\n",
       " 'ground_truth': 't.Union[str, float]',\n",
       " 'evolution_type': 'str',\n",
       " 'metadata': 't.List[dict]'}"
      ]
     },
     "execution_count": 69,
     "metadata": {},
     "output_type": "execute_result"
    }
   ],
   "source": [
    "print(type(test_dataset))\n",
    "print(len(test_dataset.test_data))\n",
    "test_dataset.test_data[0].__annotations__"
   ]
  },
  {
   "cell_type": "markdown",
   "metadata": {},
   "source": [
    "6. DataFrame으로 변형\n",
    "    - question: 생성된 질문\n",
    "    - contexts: 질문의 근거가 되는 청크\n",
    "    - ground_truth: llm이 만들어낸 정답 답변\n",
    "    - evolution_type: 질의 유형"
   ]
  },
  {
   "cell_type": "code",
   "execution_count": 70,
   "metadata": {},
   "outputs": [
    {
     "data": {
      "text/html": [
       "<div>\n",
       "<style scoped>\n",
       "    .dataframe tbody tr th:only-of-type {\n",
       "        vertical-align: middle;\n",
       "    }\n",
       "\n",
       "    .dataframe tbody tr th {\n",
       "        vertical-align: top;\n",
       "    }\n",
       "\n",
       "    .dataframe thead th {\n",
       "        text-align: right;\n",
       "    }\n",
       "</style>\n",
       "<table border=\"1\" class=\"dataframe\">\n",
       "  <thead>\n",
       "    <tr style=\"text-align: right;\">\n",
       "      <th></th>\n",
       "      <th>question</th>\n",
       "      <th>contexts</th>\n",
       "      <th>ground_truth</th>\n",
       "      <th>evolution_type</th>\n",
       "      <th>metadata</th>\n",
       "      <th>episode_done</th>\n",
       "    </tr>\n",
       "  </thead>\n",
       "  <tbody>\n",
       "    <tr>\n",
       "      <th>0</th>\n",
       "      <td>What do working Americans believe about the im...</td>\n",
       "      <td>[∙ 전체 응답자의 71%는 자신을 포함해 AI 발전으로 인해 실직하거나 근무 시간...</td>\n",
       "      <td>About half of working Americans believe that A...</td>\n",
       "      <td>simple</td>\n",
       "      <td>[{'source': './data/SPRi AI Brief_10월호_산업동향_F....</td>\n",
       "      <td>True</td>\n",
       "    </tr>\n",
       "    <tr>\n",
       "      <th>1</th>\n",
       "      <td>What was the outcome of the proposed Bill SB 1...</td>\n",
       "      <td>[∙ 뉴섬 주지사는 소형 AI 모델이 민감한 데이터를 다루는 위험한 작업에 사용되거...</td>\n",
       "      <td>The proposed Bill SB 1047 regarding AI restric...</td>\n",
       "      <td>simple</td>\n",
       "      <td>[{'source': './data/SPRi AI Brief_10월호_산업동향_F....</td>\n",
       "      <td>True</td>\n",
       "    </tr>\n",
       "    <tr>\n",
       "      <th>2</th>\n",
       "      <td>What is the purpose of Deepmind's SynthID in r...</td>\n",
       "      <td>[말 관련 업데이트를 진행 예정\\n∙ 향후 발표될 ‘C2PA 신뢰 목록(Trust ...</td>\n",
       "      <td>The purpose of Deepmind's SynthID in relation ...</td>\n",
       "      <td>simple</td>\n",
       "      <td>[{'source': './data/SPRi AI Brief_10월호_산업동향_F....</td>\n",
       "      <td>True</td>\n",
       "    </tr>\n",
       "    <tr>\n",
       "      <th>3</th>\n",
       "      <td>What is the significance of political represen...</td>\n",
       "      <td>[n 동의 없는 딥페이크 음란물의 공유를 금지하는 이번 법안은 의회 전반의 폭넓은 ...</td>\n",
       "      <td>The answer to given question is not present in...</td>\n",
       "      <td>simple</td>\n",
       "      <td>[{'source': './data/SPRi AI Brief_10월호_산업동향_F....</td>\n",
       "      <td>True</td>\n",
       "    </tr>\n",
       "    <tr>\n",
       "      <th>4</th>\n",
       "      <td>How does AI impact student engagement in educa...</td>\n",
       "      <td>[∙ 영국 정부는 커리큘럼 지침, 수업 계획, 익명화된 학생 평가와 같은 정부 문서...</td>\n",
       "      <td>AI impacts student engagement in education by ...</td>\n",
       "      <td>reasoning</td>\n",
       "      <td>[{'source': './data/SPRi AI Brief_10월호_산업동향_F....</td>\n",
       "      <td>True</td>\n",
       "    </tr>\n",
       "  </tbody>\n",
       "</table>\n",
       "</div>"
      ],
      "text/plain": [
       "                                            question  \\\n",
       "0  What do working Americans believe about the im...   \n",
       "1  What was the outcome of the proposed Bill SB 1...   \n",
       "2  What is the purpose of Deepmind's SynthID in r...   \n",
       "3  What is the significance of political represen...   \n",
       "4  How does AI impact student engagement in educa...   \n",
       "\n",
       "                                            contexts  \\\n",
       "0  [∙ 전체 응답자의 71%는 자신을 포함해 AI 발전으로 인해 실직하거나 근무 시간...   \n",
       "1  [∙ 뉴섬 주지사는 소형 AI 모델이 민감한 데이터를 다루는 위험한 작업에 사용되거...   \n",
       "2  [말 관련 업데이트를 진행 예정\\n∙ 향후 발표될 ‘C2PA 신뢰 목록(Trust ...   \n",
       "3  [n 동의 없는 딥페이크 음란물의 공유를 금지하는 이번 법안은 의회 전반의 폭넓은 ...   \n",
       "4  [∙ 영국 정부는 커리큘럼 지침, 수업 계획, 익명화된 학생 평가와 같은 정부 문서...   \n",
       "\n",
       "                                        ground_truth evolution_type  \\\n",
       "0  About half of working Americans believe that A...         simple   \n",
       "1  The proposed Bill SB 1047 regarding AI restric...         simple   \n",
       "2  The purpose of Deepmind's SynthID in relation ...         simple   \n",
       "3  The answer to given question is not present in...         simple   \n",
       "4  AI impacts student engagement in education by ...      reasoning   \n",
       "\n",
       "                                            metadata  episode_done  \n",
       "0  [{'source': './data/SPRi AI Brief_10월호_산업동향_F....          True  \n",
       "1  [{'source': './data/SPRi AI Brief_10월호_산업동향_F....          True  \n",
       "2  [{'source': './data/SPRi AI Brief_10월호_산업동향_F....          True  \n",
       "3  [{'source': './data/SPRi AI Brief_10월호_산업동향_F....          True  \n",
       "4  [{'source': './data/SPRi AI Brief_10월호_산업동향_F....          True  "
      ]
     },
     "execution_count": 70,
     "metadata": {},
     "output_type": "execute_result"
    }
   ],
   "source": [
    "# dataframe으로 변형\n",
    "test_df = test_dataset.to_pandas()\n",
    "test_df.head()"
   ]
  },
  {
   "cell_type": "code",
   "execution_count": 71,
   "metadata": {},
   "outputs": [
    {
     "data": {
      "text/plain": [
       "(10, 6)"
      ]
     },
     "execution_count": 71,
     "metadata": {},
     "output_type": "execute_result"
    }
   ],
   "source": [
    "test_df.shape"
   ]
  },
  {
   "cell_type": "code",
   "execution_count": 72,
   "metadata": {},
   "outputs": [
    {
     "data": {
      "text/plain": [
       "'About half of working Americans believe that AI will decrease the number of available jobs in their industry.'"
      ]
     },
     "execution_count": 72,
     "metadata": {},
     "output_type": "execute_result"
    }
   ],
   "source": [
    "test_df.iloc[0]['ground_truth']"
   ]
  },
  {
   "cell_type": "markdown",
   "metadata": {},
   "source": [
    "7. csv 파일로 저장"
   ]
  },
  {
   "cell_type": "code",
   "execution_count": 73,
   "metadata": {},
   "outputs": [],
   "source": [
    "test_df.to_csv('./data/ragas_test_dataset.csv', index=False) # df의 인덱스는 포함 안 함"
   ]
  },
  {
   "cell_type": "markdown",
   "metadata": {},
   "source": [
    "# 3. 평가"
   ]
  },
  {
   "cell_type": "markdown",
   "metadata": {},
   "source": [
    "1. csv 파일 로드 "
   ]
  },
  {
   "cell_type": "code",
   "execution_count": 2,
   "metadata": {},
   "outputs": [
    {
     "data": {
      "text/html": [
       "<div>\n",
       "<style scoped>\n",
       "    .dataframe tbody tr th:only-of-type {\n",
       "        vertical-align: middle;\n",
       "    }\n",
       "\n",
       "    .dataframe tbody tr th {\n",
       "        vertical-align: top;\n",
       "    }\n",
       "\n",
       "    .dataframe thead th {\n",
       "        text-align: right;\n",
       "    }\n",
       "</style>\n",
       "<table border=\"1\" class=\"dataframe\">\n",
       "  <thead>\n",
       "    <tr style=\"text-align: right;\">\n",
       "      <th></th>\n",
       "      <th>question</th>\n",
       "      <th>contexts</th>\n",
       "      <th>ground_truth</th>\n",
       "      <th>evolution_type</th>\n",
       "      <th>metadata</th>\n",
       "      <th>episode_done</th>\n",
       "    </tr>\n",
       "  </thead>\n",
       "  <tbody>\n",
       "    <tr>\n",
       "      <th>0</th>\n",
       "      <td>What do working Americans believe about the im...</td>\n",
       "      <td>['∙ 전체 응답자의 71%는 자신을 포함해 AI 발전으로 인해 실직하거나 근무 시...</td>\n",
       "      <td>About half of working Americans believe that A...</td>\n",
       "      <td>simple</td>\n",
       "      <td>[{'source': './data/SPRi AI Brief_10월호_산업동향_F....</td>\n",
       "      <td>True</td>\n",
       "    </tr>\n",
       "    <tr>\n",
       "      <th>1</th>\n",
       "      <td>What was the outcome of the proposed Bill SB 1...</td>\n",
       "      <td>['∙ 뉴섬 주지사는 소형 AI 모델이 민감한 데이터를 다루는 위험한 작업에 사용되...</td>\n",
       "      <td>The proposed Bill SB 1047 regarding AI restric...</td>\n",
       "      <td>simple</td>\n",
       "      <td>[{'source': './data/SPRi AI Brief_10월호_산업동향_F....</td>\n",
       "      <td>True</td>\n",
       "    </tr>\n",
       "    <tr>\n",
       "      <th>2</th>\n",
       "      <td>What is the purpose of Deepmind's SynthID in r...</td>\n",
       "      <td>['말 관련 업데이트를 진행 예정\\n∙ 향후 발표될 ‘C2PA 신뢰 목록(Trust...</td>\n",
       "      <td>The purpose of Deepmind's SynthID in relation ...</td>\n",
       "      <td>simple</td>\n",
       "      <td>[{'source': './data/SPRi AI Brief_10월호_산업동향_F....</td>\n",
       "      <td>True</td>\n",
       "    </tr>\n",
       "    <tr>\n",
       "      <th>3</th>\n",
       "      <td>What is the significance of political represen...</td>\n",
       "      <td>['n 동의 없는 딥페이크 음란물의 공유를 금지하는 이번 법안은 의회 전반의 폭넓은...</td>\n",
       "      <td>The answer to given question is not present in...</td>\n",
       "      <td>simple</td>\n",
       "      <td>[{'source': './data/SPRi AI Brief_10월호_산업동향_F....</td>\n",
       "      <td>True</td>\n",
       "    </tr>\n",
       "    <tr>\n",
       "      <th>4</th>\n",
       "      <td>How does AI impact student engagement in educa...</td>\n",
       "      <td>['∙ 영국 정부는 커리큘럼 지침, 수업 계획, 익명화된 학생 평가와 같은 정부 문...</td>\n",
       "      <td>AI impacts student engagement in education by ...</td>\n",
       "      <td>reasoning</td>\n",
       "      <td>[{'source': './data/SPRi AI Brief_10월호_산업동향_F....</td>\n",
       "      <td>True</td>\n",
       "    </tr>\n",
       "  </tbody>\n",
       "</table>\n",
       "</div>"
      ],
      "text/plain": [
       "                                            question  \\\n",
       "0  What do working Americans believe about the im...   \n",
       "1  What was the outcome of the proposed Bill SB 1...   \n",
       "2  What is the purpose of Deepmind's SynthID in r...   \n",
       "3  What is the significance of political represen...   \n",
       "4  How does AI impact student engagement in educa...   \n",
       "\n",
       "                                            contexts  \\\n",
       "0  ['∙ 전체 응답자의 71%는 자신을 포함해 AI 발전으로 인해 실직하거나 근무 시...   \n",
       "1  ['∙ 뉴섬 주지사는 소형 AI 모델이 민감한 데이터를 다루는 위험한 작업에 사용되...   \n",
       "2  ['말 관련 업데이트를 진행 예정\\n∙ 향후 발표될 ‘C2PA 신뢰 목록(Trust...   \n",
       "3  ['n 동의 없는 딥페이크 음란물의 공유를 금지하는 이번 법안은 의회 전반의 폭넓은...   \n",
       "4  ['∙ 영국 정부는 커리큘럼 지침, 수업 계획, 익명화된 학생 평가와 같은 정부 문...   \n",
       "\n",
       "                                        ground_truth evolution_type  \\\n",
       "0  About half of working Americans believe that A...         simple   \n",
       "1  The proposed Bill SB 1047 regarding AI restric...         simple   \n",
       "2  The purpose of Deepmind's SynthID in relation ...         simple   \n",
       "3  The answer to given question is not present in...         simple   \n",
       "4  AI impacts student engagement in education by ...      reasoning   \n",
       "\n",
       "                                            metadata  episode_done  \n",
       "0  [{'source': './data/SPRi AI Brief_10월호_산업동향_F....          True  \n",
       "1  [{'source': './data/SPRi AI Brief_10월호_산업동향_F....          True  \n",
       "2  [{'source': './data/SPRi AI Brief_10월호_산업동향_F....          True  \n",
       "3  [{'source': './data/SPRi AI Brief_10월호_산업동향_F....          True  \n",
       "4  [{'source': './data/SPRi AI Brief_10월호_산업동향_F....          True  "
      ]
     },
     "execution_count": 2,
     "metadata": {},
     "output_type": "execute_result"
    }
   ],
   "source": [
    "import pandas as pd\n",
    "\n",
    "df = pd.read_csv('./data/ragas_test_dataset.csv')\n",
    "df.head()"
   ]
  },
  {
   "cell_type": "markdown",
   "metadata": {},
   "source": [
    "2. DataFrame을 Dataset 객체로 변환"
   ]
  },
  {
   "cell_type": "code",
   "execution_count": 3,
   "metadata": {},
   "outputs": [
    {
     "data": {
      "text/plain": [
       "Dataset({\n",
       "    features: ['question', 'contexts', 'ground_truth', 'evolution_type', 'metadata', 'episode_done'],\n",
       "    num_rows: 10\n",
       "})"
      ]
     },
     "execution_count": 3,
     "metadata": {},
     "output_type": "execute_result"
    }
   ],
   "source": [
    "from datasets import Dataset\n",
    "\n",
    "# ragas에서 평가 시 Dataset클래스로 매핑이 돼있어야 됨\n",
    "test_dataset = Dataset.from_pandas(df)\n",
    "test_dataset"
   ]
  },
  {
   "cell_type": "markdown",
   "metadata": {},
   "source": [
    "3. df의 contexts를 list 타입으로 벼환해주기\n",
    "- 겉보기엔 list처럼 보이지만 사실 str 값임 "
   ]
  },
  {
   "cell_type": "code",
   "execution_count": 4,
   "metadata": {},
   "outputs": [
    {
     "name": "stdout",
     "output_type": "stream",
     "text": [
      "<class 'str'>\n"
     ]
    }
   ],
   "source": [
    "# contexts 칼럼 타입 확인 \n",
    "print(type(df.iloc[0]['contexts']))"
   ]
  },
  {
   "cell_type": "code",
   "execution_count": 77,
   "metadata": {},
   "outputs": [
    {
     "data": {
      "application/vnd.jupyter.widget-view+json": {
       "model_id": "690accf8e6fd42869ea396bacb228a4d",
       "version_major": 2,
       "version_minor": 0
      },
      "text/plain": [
       "Map:   0%|          | 0/10 [00:00<?, ? examples/s]"
      ]
     },
     "metadata": {},
     "output_type": "display_data"
    },
    {
     "name": "stdout",
     "output_type": "stream",
     "text": [
      "Dataset({\n",
      "    features: ['question', 'contexts', 'ground_truth', 'evolution_type', 'metadata', 'episode_done'],\n",
      "    num_rows: 10\n",
      "})\n"
     ]
    }
   ],
   "source": [
    "import ast\n",
    "\n",
    "# contexts 칼럼 데이터를 list로 변환 \n",
    "def conver_to_list(example):\n",
    "    contexts = ast.literal_eval(example['contexts']) # literal_eval: 문자열을 파이썬 객체로 변환해줌 \n",
    "    return {'contexts': contexts}\n",
    "\n",
    "# map\n",
    "#   입력: Dataset의 각 행이 사용자 정의 함수에 입력으로 들어감\n",
    "#   출력: 사용자 정의함수가 적용된 새로운 Dataset이 반환됨\n",
    "test_dataset = test_dataset.map(conver_to_list) \n",
    "print(test_dataset)"
   ]
  },
  {
   "cell_type": "code",
   "execution_count": 78,
   "metadata": {},
   "outputs": [
    {
     "name": "stdout",
     "output_type": "stream",
     "text": [
      "<class 'list'>\n"
     ]
    }
   ],
   "source": [
    "# 타입 변환된 거 확인\n",
    "print(type(test_dataset[0]['contexts']))"
   ]
  },
  {
   "cell_type": "markdown",
   "metadata": {},
   "source": [
    "4. 예제 프롬프트 파이프라인"
   ]
  },
  {
   "cell_type": "code",
   "execution_count": 79,
   "metadata": {},
   "outputs": [],
   "source": [
    "from langchain_community.document_loaders import PDFPlumberLoader\n",
    "from langchain_text_splitters import RecursiveCharacterTextSplitter\n",
    "from langchain_openai import ChatOpenAI, OpenAIEmbeddings\n",
    "from langchain_community.vectorstores import FAISS\n",
    "from langchain_core.prompts import PromptTemplate\n",
    "from langchain_core.runnables import RunnablePassthrough\n",
    "from langchain_core.output_parsers import StrOutputParser\n",
    "\n",
    "# 1. 문서 로드\n",
    "loader = PDFPlumberLoader('./data/SPRi AI Brief_10월호_산업동향_F.pdf')\n",
    "docs = loader.load()[3:-1]\n",
    "\n",
    "# 2. 문서 분할\n",
    "splitter = RecursiveCharacterTextSplitter(\n",
    "    chunk_size=550,\n",
    "    chunk_overlap=150\n",
    ")\n",
    "split_docs = splitter.split_documents(docs)\n",
    "\n",
    "# 3. 임베딩 객체 생성\n",
    "embeddings = OpenAIEmbeddings()\n",
    "\n",
    "# 4. vectorstore 생성 및 저장 \n",
    "vectorstore = FAISS.from_documents(\n",
    "    documents=split_docs,\n",
    "    embedding=embeddings\n",
    ")\n",
    "\n",
    "# 5. 검색기 생성\n",
    "retriever = vectorstore.as_retriever()\n",
    "\n",
    "# 6. 프롬프트 생성\n",
    "prompt = PromptTemplate.from_template(\n",
    "    \"\"\"\n",
    "당신은 친절한 챗봇입니다. 사용자의 질문에 대답해주세요.\n",
    "사용자의 질문이 들어오면 context에 기반하여 question에 대답해주세요.\n",
    "\n",
    "#Context:\n",
    "{context}\n",
    "\n",
    "#Question:\n",
    "{question}\n",
    "\n",
    "#Answer:\n",
    "\"\"\"\n",
    ")\n",
    "\n",
    "# 7. llm 객체 생성\n",
    "model = ChatOpenAI(model_name='gpt-4o-mini', temperature=0)\n",
    "\n",
    "# 8. chain 생성\n",
    "chain = (\n",
    "    {'context': retriever, 'question': RunnablePassthrough()}\n",
    "    | prompt\n",
    "    | model\n",
    "    | StrOutputParser()\n",
    ")"
   ]
  },
  {
   "cell_type": "markdown",
   "metadata": {},
   "source": [
    "5. batch 데이터셋 생성\n",
    "    - 다량의 질문을 한 번에 처리할 때 유용"
   ]
  },
  {
   "cell_type": "code",
   "execution_count": 80,
   "metadata": {},
   "outputs": [
    {
     "data": {
      "text/plain": [
       "['What do working Americans believe about the impact of AI on job availability in their industry?',\n",
       " 'What was the outcome of the proposed Bill SB 1047 regarding AI restrictions in California?',\n",
       " \"What is the purpose of Deepmind's SynthID in relation to AI-generated content?\",\n",
       " 'What is the significance of political representation in the context of governance and decision-making?',\n",
       " 'How does AI impact student engagement in education?']"
      ]
     },
     "execution_count": 80,
     "metadata": {},
     "output_type": "execute_result"
    }
   ],
   "source": [
    "batch_dataset = [question for question in test_dataset['question']]\n",
    "batch_dataset[:5]"
   ]
  },
  {
   "cell_type": "markdown",
   "metadata": {},
   "source": [
    "6. 평가용 질문으로 답변 받아보기 \n",
    "    - batch 방식 사용"
   ]
  },
  {
   "cell_type": "code",
   "execution_count": 81,
   "metadata": {},
   "outputs": [
    {
     "data": {
      "text/plain": [
       "['Working Americans have mixed opinions about the impact of AI on job availability in their industry. According to a YouGov survey, 48% of American workers believe that the advancement of AI will lead to a decrease in available jobs, while 34% express concerns about job loss, reduced working hours, or decreased wages due to AI. However, 63% of respondents do not worry about job loss or changes in working conditions related to AI, and only a small percentage (2%) reported having experienced job loss or reduced hours/wages due to AI. Overall, there is a significant divide in perceptions, with some fearing negative impacts while others remain optimistic.',\n",
       " 'The proposed Bill SB 1047 regarding AI restrictions in California was ultimately vetoed by Governor Gavin Newsom. Although the bill had passed the California State Assembly and aimed to impose various safety measures on AI companies, Newsom expressed concerns that the bill focused too heavily on regulating large and expensive AI models while neglecting the potential risks associated with smaller models and their use of sensitive data. As a result, the legislation did not become law.',\n",
       " \"Deepmind's SynthID is a watermarking technology that Google is expanding to various AI tools and media to enhance transparency for AI-generated content. Its purpose is to help verify the authenticity and source of content, allowing users to confirm the accuracy of information, particularly for images captured by specific camera models. This initiative is part of Google's broader effort to encourage the adoption of the C2PA standard among more service and hardware providers for online content source verification.\",\n",
       " '정치적 대표성은 거버넌스와 의사결정 과정에서 매우 중요한 역할을 합니다. 이는 다양한 사회 집단의 목소리를 반영하고, 정책 결정이 공정하고 포괄적으로 이루어지도록 보장합니다. 정치적 대표성이 높을수록, 다양한 이해관계와 의견이 고려되어 보다 균형 잡힌 결정을 내릴 수 있습니다. 또한, 이는 시민의 신뢰를 증진시키고, 민주적 절차를 강화하는 데 기여합니다. 결국, 정치적 대표성은 사회의 다양한 요구를 충족시키고, 지속 가능한 발전을 위한 기반을 마련하는 데 필수적입니다.',\n",
       " 'AI can significantly enhance student engagement in education by providing personalized learning experiences and supporting teachers in their instructional methods. For instance, AI tools can analyze student data to tailor educational content to individual learning styles and needs, making lessons more relevant and engaging for each student. Additionally, AI can assist teachers in managing administrative tasks, allowing them to focus more on interactive and creative teaching methods that foster student participation. The integration of AI in the classroom can also facilitate collaborative learning environments, where students can engage with technology and each other in meaningful ways. Overall, AI has the potential to create a more dynamic and responsive educational experience that keeps students engaged.',\n",
       " \"NLP (자연어 처리)와 ML (기계 학습)의 발전은 Gemini AI의 혁신에 중요한 영향을 미치고 있습니다. 최근 구글이 발표한 맞춤형 AI 챗봇 기능 '젬스'는 이러한 기술의 발전을 활용하여 사용자가 특정 주제에 대한 전문가로 설정할 수 있도록 합니다. 이는 NLP 기술이 사용자와의 상호작용을 보다 자연스럽고 효과적으로 만들어 주기 때문입니다. 또한, ML 기술은 데이터 분석과 패턴 인식을 통해 AI 모델이 사용자 요구에 맞춰 지속적으로 개선될 수 있도록 지원합니다. 이러한 기술적 진보는 Gemini AI가 보다 개인화된 경험을 제공하고, 이미지 생성 모델 '이마젠 3'와 같은 혁신적인 기능을 통합하는 데 기여하고 있습니다.\",\n",
       " \"The signing of the global AI treaty by the US, UK, and EU has several implications for AI governance and ethics:\\n\\n1. **Legal Framework**: The treaty establishes a legal framework for AI governance, emphasizing the protection of human rights, democracy, and the rule of law in the deployment of AI systems. This marks a significant step towards creating binding international standards for AI.\\n\\n2. **National Implementation**: Signatory countries are required to adopt legislative or administrative measures to implement the treaty domestically. This could lead to a more uniform approach to AI regulation across these nations, although the specifics may vary based on national contexts.\\n\\n3. **Focus on Human Rights**: The treaty prioritizes the protection of individuals affected by AI systems, promoting principles such as human dignity, autonomy, transparency, accountability, equality, and non-discrimination. This focus on human rights could influence how AI technologies are developed and deployed.\\n\\n4. **Concerns about Scope and Enforcement**: There are concerns regarding the treaty's effectiveness due to its broad principles and the delegation of regulatory authority over the private sector to individual countries. This could result in inconsistent application of the treaty's provisions and potential loopholes, particularly regarding national security exemptions.\\n\\n5. **Global Participation**: The treaty has the potential to encourage other countries to sign and commit to similar standards, fostering a more collaborative international approach to AI governance.\\n\\n6. **Balancing Innovation and Regulation**: The treaty aims to balance the need for innovation in AI with the necessity of ethical considerations and regulatory oversight, which could shape the future landscape of AI development.\\n\\nOverall, while the treaty represents a significant advancement in international AI governance, its practical implications will depend on how effectively countries implement and enforce its provisions.\",\n",
       " 'TechCrunch plays a significant role in shaping discussions around AI and chatbot evaluations by highlighting critical perspectives on popular benchmarks like the LMSYS Chatbot Arena. By reporting on the biases and transparency issues associated with such benchmarks, TechCrunch raises awareness among researchers, developers, and the general public about the limitations of current evaluation methods. This can lead to more informed discussions and potentially drive improvements in how AI models are assessed, ensuring that evaluations better reflect the needs and preferences of a broader user base rather than just a niche, technology-focused audience.',\n",
       " \"If California's Bill SB 1047 on AI had passed, it would have imposed various safety measures on AI companies developing foundational models. These measures would have required AI companies to conduct safety assessments regarding the risks associated with their models and implement functionalities to quickly halt the model in case of unexpected risks. Additionally, the bill would have granted the California Attorney General the authority to sue AI developers in cases of serious harm caused by AI, such as death or property damage.\\n\\nHowever, the bill faced criticism for potentially hindering the development of open-source projects and small AI companies. It was also noted that the bill primarily focused on regulating large and expensive AI models, without adequately addressing the risks associated with smaller models that might handle sensitive data. The rejection of the bill by Governor Gavin Newsom suggests that there was a belief that it did not represent the best approach to addressing the threats posed by AI technology.\",\n",
       " '400M 매개변수는 자연어 처리(NLP)와 컴퓨터 비전(CV) 분야에서 AI 모델의 성능에 중요한 영향을 미칠 수 있습니다. 일반적으로 매개변수의 수가 많을수록 모델은 더 복잡한 패턴을 학습할 수 있으며, 이는 더 높은 성능으로 이어질 가능성이 큽니다. \\n\\n특히, 연구 결과에 따르면 코드 데이터가 포함된 모델은 자연어 추론 작업에서 텍스트만으로 훈련된 모델보다 지속적으로 더 좋은 성능을 보였으며, 400M에서 28억 개 매개변수까지 다양한 규모에서 모델의 성능이 평가되었습니다. 이는 매개변수 수가 증가함에 따라 모델이 더 많은 정보를 처리하고, 더 정교한 예측을 할 수 있는 능력이 향상된다는 것을 시사합니다.\\n\\n따라서, 400M 매개변수를 가진 모델은 NLP와 CV 작업에서 기본적인 성능을 제공할 수 있으며, 추가적인 데이터와 훈련 방법에 따라 성능이 더욱 개선될 수 있습니다.']"
      ]
     },
     "execution_count": 81,
     "metadata": {},
     "output_type": "execute_result"
    }
   ],
   "source": [
    "result = chain.batch(batch_dataset)\n",
    "\n",
    "# 답변\n",
    "result"
   ]
  },
  {
   "cell_type": "markdown",
   "metadata": {},
   "source": [
    "7. 답변을 test_dataset의 answer 컬럼에 저장하기 (answer컬럼 새로 생성해줘야 함)"
   ]
  },
  {
   "cell_type": "code",
   "execution_count": 82,
   "metadata": {},
   "outputs": [],
   "source": [
    "# answer 컬럼 덮어 씌우기 또는 추가\n",
    "if 'answer' in test_dataset.column_names:\n",
    "    test_dataset = test_dataset.remove_columns(['answer']).add_column('answer', result)\n",
    "else:\n",
    "    test_dataset = test_dataset.add_column('answer', result)"
   ]
  },
  {
   "cell_type": "code",
   "execution_count": 83,
   "metadata": {},
   "outputs": [
    {
     "name": "stdout",
     "output_type": "stream",
     "text": [
      "<class 'datasets.arrow_dataset.Dataset'>\n"
     ]
    },
    {
     "data": {
      "text/plain": [
       "['question',\n",
       " 'contexts',\n",
       " 'ground_truth',\n",
       " 'evolution_type',\n",
       " 'metadata',\n",
       " 'episode_done',\n",
       " 'answer']"
      ]
     },
     "execution_count": 83,
     "metadata": {},
     "output_type": "execute_result"
    }
   ],
   "source": [
    "print(type(test_dataset))\n",
    "test_dataset.column_names"
   ]
  },
  {
   "cell_type": "markdown",
   "metadata": {},
   "source": [
    "## 3.1  답변 평가  "
   ]
  },
  {
   "cell_type": "markdown",
   "metadata": {},
   "source": [
    "1. Context Recall \n",
    "    - 검색된 context가 LLM이 생성한 답변과 얼마나 일치하는지 측정 \n",
    "        - 10개의 chunks를 뽑아냈는데 10개 모두에 답변에 필요한 내용이 담겨있는 경우 \n",
    "        - 즉, ground-truth가 10개의 문서에 모두 있는 경우 성능이 좋음을 의미\n",
    "    - 0~1 사이의 값\n",
    "    - 값이 높을 수록 좋은 성능을 의미"
   ]
  },
  {
   "cell_type": "markdown",
   "metadata": {},
   "source": [
    "2. Context Precision\n",
    "    - 얼마나 관련성 있는 문서가 상위에 배치되었는가?\n",
    "    - 즉, ground-truth가 포함된 문서가 얼마나 상위에 배치돼있는가를 판단 \n",
    "    - 예를 들어) 답변에 필요한 문서가 3개인데 3개가 retriever로 뽑은 10개의 문서 중 상위 3위안에 들면 성능은 만점이 나옴"
   ]
  },
  {
   "cell_type": "markdown",
   "metadata": {},
   "source": [
    "3. Answer Relevancy\n",
    "    - 생성된 답변이 주어진 prompt에 얼마나 적절한지를 평가 \n",
    "    - 즉 생성된 답변이 원래 질문의 의도를 얼마나 잘 반영하는지를 측정 \n",
    "    - 질문의 임베딩과 생성된 답변의 임베딩의 코사인 유사도 측정\n",
    "        - 답변이 질문과 연관성이 높으면 높은 점수를 받음 \n",
    "    - 0~1사이의 값을 가지거나 코사인 유사도 특성상 수학적으로 -1~1 사이의 값을 가질 수도 있음 "
   ]
  },
  {
   "cell_type": "markdown",
   "metadata": {},
   "source": [
    "4. Faithfulness\n",
    "    - 생성된 답변의 사실적 일관성을 주어진 컨텍스트와 비교하여 측정하는 지표 \n",
    "    - 즉, 주어진 context에 얼마나 충실히 (정확히) 답변했는지 평가 "
   ]
  },
  {
   "cell_type": "code",
   "execution_count": 84,
   "metadata": {},
   "outputs": [
    {
     "data": {
      "application/vnd.jupyter.widget-view+json": {
       "model_id": "8806bdacbb8347d886ead6b065b1048a",
       "version_major": 2,
       "version_minor": 0
      },
      "text/plain": [
       "Evaluating:   0%|          | 0/40 [00:00<?, ?it/s]"
      ]
     },
     "metadata": {},
     "output_type": "display_data"
    },
    {
     "data": {
      "text/plain": [
       "{'context_precision': 0.5000, 'faithfulness': 0.5708, 'answer_relevancy': 0.7633, 'context_recall': 0.8000}"
      ]
     },
     "execution_count": 84,
     "metadata": {},
     "output_type": "execute_result"
    }
   ],
   "source": [
    "from ragas import evaluate\n",
    "from ragas.metrics import (\n",
    "    answer_relevancy,\n",
    "    faithfulness,\n",
    "    context_recall,\n",
    "    context_precision,\n",
    ")\n",
    "\n",
    "result = evaluate(\n",
    "    dataset=test_dataset,\n",
    "    metrics=[\n",
    "        context_precision,\n",
    "        faithfulness,\n",
    "        answer_relevancy,\n",
    "        context_recall,\n",
    "    ],\n",
    ")\n",
    "\n",
    "result"
   ]
  },
  {
   "cell_type": "code",
   "execution_count": 85,
   "metadata": {},
   "outputs": [
    {
     "name": "stdout",
     "output_type": "stream",
     "text": [
      "<class 'ragas.evaluation.Result'>\n"
     ]
    }
   ],
   "source": [
    "print(type(result))"
   ]
  },
  {
   "cell_type": "code",
   "execution_count": 86,
   "metadata": {},
   "outputs": [
    {
     "data": {
      "text/html": [
       "<div>\n",
       "<style scoped>\n",
       "    .dataframe tbody tr th:only-of-type {\n",
       "        vertical-align: middle;\n",
       "    }\n",
       "\n",
       "    .dataframe tbody tr th {\n",
       "        vertical-align: top;\n",
       "    }\n",
       "\n",
       "    .dataframe thead th {\n",
       "        text-align: right;\n",
       "    }\n",
       "</style>\n",
       "<table border=\"1\" class=\"dataframe\">\n",
       "  <thead>\n",
       "    <tr style=\"text-align: right;\">\n",
       "      <th></th>\n",
       "      <th>question</th>\n",
       "      <th>contexts</th>\n",
       "      <th>ground_truth</th>\n",
       "      <th>evolution_type</th>\n",
       "      <th>metadata</th>\n",
       "      <th>episode_done</th>\n",
       "      <th>answer</th>\n",
       "      <th>context_precision</th>\n",
       "      <th>faithfulness</th>\n",
       "      <th>answer_relevancy</th>\n",
       "      <th>context_recall</th>\n",
       "    </tr>\n",
       "  </thead>\n",
       "  <tbody>\n",
       "    <tr>\n",
       "      <th>0</th>\n",
       "      <td>What do working Americans believe about the im...</td>\n",
       "      <td>[∙ 전체 응답자의 71%는 자신을 포함해 AI 발전으로 인해 실직하거나 근무 시간...</td>\n",
       "      <td>About half of working Americans believe that A...</td>\n",
       "      <td>simple</td>\n",
       "      <td>[{'source': './data/SPRi AI Brief_10월호_산업동향_F....</td>\n",
       "      <td>True</td>\n",
       "      <td>Working Americans have mixed opinions about th...</td>\n",
       "      <td>1.0</td>\n",
       "      <td>0.571429</td>\n",
       "      <td>0.000000</td>\n",
       "      <td>1.0</td>\n",
       "    </tr>\n",
       "    <tr>\n",
       "      <th>1</th>\n",
       "      <td>What was the outcome of the proposed Bill SB 1...</td>\n",
       "      <td>[∙ 뉴섬 주지사는 소형 AI 모델이 민감한 데이터를 다루는 위험한 작업에 사용되거...</td>\n",
       "      <td>The proposed Bill SB 1047 regarding AI restric...</td>\n",
       "      <td>simple</td>\n",
       "      <td>[{'source': './data/SPRi AI Brief_10월호_산업동향_F....</td>\n",
       "      <td>True</td>\n",
       "      <td>The proposed Bill SB 1047 regarding AI restric...</td>\n",
       "      <td>1.0</td>\n",
       "      <td>0.750000</td>\n",
       "      <td>0.975610</td>\n",
       "      <td>1.0</td>\n",
       "    </tr>\n",
       "    <tr>\n",
       "      <th>2</th>\n",
       "      <td>What is the purpose of Deepmind's SynthID in r...</td>\n",
       "      <td>[말 관련 업데이트를 진행 예정\\n∙ 향후 발표될 ‘C2PA 신뢰 목록(Trust ...</td>\n",
       "      <td>The purpose of Deepmind's SynthID in relation ...</td>\n",
       "      <td>simple</td>\n",
       "      <td>[{'source': './data/SPRi AI Brief_10월호_산업동향_F....</td>\n",
       "      <td>True</td>\n",
       "      <td>Deepmind's SynthID is a watermarking technolog...</td>\n",
       "      <td>1.0</td>\n",
       "      <td>0.444444</td>\n",
       "      <td>0.951854</td>\n",
       "      <td>1.0</td>\n",
       "    </tr>\n",
       "    <tr>\n",
       "      <th>3</th>\n",
       "      <td>What is the significance of political represen...</td>\n",
       "      <td>[n 동의 없는 딥페이크 음란물의 공유를 금지하는 이번 법안은 의회 전반의 폭넓은 ...</td>\n",
       "      <td>The answer to given question is not present in...</td>\n",
       "      <td>simple</td>\n",
       "      <td>[{'source': './data/SPRi AI Brief_10월호_산업동향_F....</td>\n",
       "      <td>True</td>\n",
       "      <td>정치적 대표성은 거버넌스와 의사결정 과정에서 매우 중요한 역할을 합니다. 이는 다양...</td>\n",
       "      <td>0.0</td>\n",
       "      <td>1.000000</td>\n",
       "      <td>0.000000</td>\n",
       "      <td>1.0</td>\n",
       "    </tr>\n",
       "    <tr>\n",
       "      <th>4</th>\n",
       "      <td>How does AI impact student engagement in educa...</td>\n",
       "      <td>[∙ 영국 정부는 커리큘럼 지침, 수업 계획, 익명화된 학생 평가와 같은 정부 문서...</td>\n",
       "      <td>AI impacts student engagement in education by ...</td>\n",
       "      <td>reasoning</td>\n",
       "      <td>[{'source': './data/SPRi AI Brief_10월호_산업동향_F....</td>\n",
       "      <td>True</td>\n",
       "      <td>AI can significantly enhance student engagemen...</td>\n",
       "      <td>1.0</td>\n",
       "      <td>0.692308</td>\n",
       "      <td>0.974894</td>\n",
       "      <td>0.0</td>\n",
       "    </tr>\n",
       "  </tbody>\n",
       "</table>\n",
       "</div>"
      ],
      "text/plain": [
       "                                            question  \\\n",
       "0  What do working Americans believe about the im...   \n",
       "1  What was the outcome of the proposed Bill SB 1...   \n",
       "2  What is the purpose of Deepmind's SynthID in r...   \n",
       "3  What is the significance of political represen...   \n",
       "4  How does AI impact student engagement in educa...   \n",
       "\n",
       "                                            contexts  \\\n",
       "0  [∙ 전체 응답자의 71%는 자신을 포함해 AI 발전으로 인해 실직하거나 근무 시간...   \n",
       "1  [∙ 뉴섬 주지사는 소형 AI 모델이 민감한 데이터를 다루는 위험한 작업에 사용되거...   \n",
       "2  [말 관련 업데이트를 진행 예정\\n∙ 향후 발표될 ‘C2PA 신뢰 목록(Trust ...   \n",
       "3  [n 동의 없는 딥페이크 음란물의 공유를 금지하는 이번 법안은 의회 전반의 폭넓은 ...   \n",
       "4  [∙ 영국 정부는 커리큘럼 지침, 수업 계획, 익명화된 학생 평가와 같은 정부 문서...   \n",
       "\n",
       "                                        ground_truth evolution_type  \\\n",
       "0  About half of working Americans believe that A...         simple   \n",
       "1  The proposed Bill SB 1047 regarding AI restric...         simple   \n",
       "2  The purpose of Deepmind's SynthID in relation ...         simple   \n",
       "3  The answer to given question is not present in...         simple   \n",
       "4  AI impacts student engagement in education by ...      reasoning   \n",
       "\n",
       "                                            metadata  episode_done  \\\n",
       "0  [{'source': './data/SPRi AI Brief_10월호_산업동향_F....          True   \n",
       "1  [{'source': './data/SPRi AI Brief_10월호_산업동향_F....          True   \n",
       "2  [{'source': './data/SPRi AI Brief_10월호_산업동향_F....          True   \n",
       "3  [{'source': './data/SPRi AI Brief_10월호_산업동향_F....          True   \n",
       "4  [{'source': './data/SPRi AI Brief_10월호_산업동향_F....          True   \n",
       "\n",
       "                                              answer  context_precision  \\\n",
       "0  Working Americans have mixed opinions about th...                1.0   \n",
       "1  The proposed Bill SB 1047 regarding AI restric...                1.0   \n",
       "2  Deepmind's SynthID is a watermarking technolog...                1.0   \n",
       "3  정치적 대표성은 거버넌스와 의사결정 과정에서 매우 중요한 역할을 합니다. 이는 다양...                0.0   \n",
       "4  AI can significantly enhance student engagemen...                1.0   \n",
       "\n",
       "   faithfulness  answer_relevancy  context_recall  \n",
       "0      0.571429          0.000000             1.0  \n",
       "1      0.750000          0.975610             1.0  \n",
       "2      0.444444          0.951854             1.0  \n",
       "3      1.000000          0.000000             1.0  \n",
       "4      0.692308          0.974894             0.0  "
      ]
     },
     "execution_count": 86,
     "metadata": {},
     "output_type": "execute_result"
    }
   ],
   "source": [
    "result_df = result.to_pandas()\n",
    "result_df.head()"
   ]
  },
  {
   "cell_type": "code",
   "execution_count": 87,
   "metadata": {},
   "outputs": [
    {
     "data": {
      "text/html": [
       "<div>\n",
       "<style scoped>\n",
       "    .dataframe tbody tr th:only-of-type {\n",
       "        vertical-align: middle;\n",
       "    }\n",
       "\n",
       "    .dataframe tbody tr th {\n",
       "        vertical-align: top;\n",
       "    }\n",
       "\n",
       "    .dataframe thead th {\n",
       "        text-align: right;\n",
       "    }\n",
       "</style>\n",
       "<table border=\"1\" class=\"dataframe\">\n",
       "  <thead>\n",
       "    <tr style=\"text-align: right;\">\n",
       "      <th></th>\n",
       "      <th>context_precision</th>\n",
       "      <th>faithfulness</th>\n",
       "      <th>answer_relevancy</th>\n",
       "      <th>context_recall</th>\n",
       "    </tr>\n",
       "  </thead>\n",
       "  <tbody>\n",
       "    <tr>\n",
       "      <th>0</th>\n",
       "      <td>1.0</td>\n",
       "      <td>0.571429</td>\n",
       "      <td>0.000000</td>\n",
       "      <td>1.0</td>\n",
       "    </tr>\n",
       "    <tr>\n",
       "      <th>1</th>\n",
       "      <td>1.0</td>\n",
       "      <td>0.750000</td>\n",
       "      <td>0.975610</td>\n",
       "      <td>1.0</td>\n",
       "    </tr>\n",
       "    <tr>\n",
       "      <th>2</th>\n",
       "      <td>1.0</td>\n",
       "      <td>0.444444</td>\n",
       "      <td>0.951854</td>\n",
       "      <td>1.0</td>\n",
       "    </tr>\n",
       "    <tr>\n",
       "      <th>3</th>\n",
       "      <td>0.0</td>\n",
       "      <td>1.000000</td>\n",
       "      <td>0.000000</td>\n",
       "      <td>1.0</td>\n",
       "    </tr>\n",
       "    <tr>\n",
       "      <th>4</th>\n",
       "      <td>1.0</td>\n",
       "      <td>0.692308</td>\n",
       "      <td>0.974894</td>\n",
       "      <td>0.0</td>\n",
       "    </tr>\n",
       "    <tr>\n",
       "      <th>5</th>\n",
       "      <td>0.0</td>\n",
       "      <td>0.250000</td>\n",
       "      <td>0.923297</td>\n",
       "      <td>1.0</td>\n",
       "    </tr>\n",
       "    <tr>\n",
       "      <th>6</th>\n",
       "      <td>1.0</td>\n",
       "      <td>1.000000</td>\n",
       "      <td>0.961460</td>\n",
       "      <td>0.0</td>\n",
       "    </tr>\n",
       "    <tr>\n",
       "      <th>7</th>\n",
       "      <td>0.0</td>\n",
       "      <td>0.000000</td>\n",
       "      <td>0.980583</td>\n",
       "      <td>1.0</td>\n",
       "    </tr>\n",
       "    <tr>\n",
       "      <th>8</th>\n",
       "      <td>0.0</td>\n",
       "      <td>0.400000</td>\n",
       "      <td>0.967412</td>\n",
       "      <td>1.0</td>\n",
       "    </tr>\n",
       "    <tr>\n",
       "      <th>9</th>\n",
       "      <td>0.0</td>\n",
       "      <td>0.600000</td>\n",
       "      <td>0.897472</td>\n",
       "      <td>1.0</td>\n",
       "    </tr>\n",
       "  </tbody>\n",
       "</table>\n",
       "</div>"
      ],
      "text/plain": [
       "   context_precision  faithfulness  answer_relevancy  context_recall\n",
       "0                1.0      0.571429          0.000000             1.0\n",
       "1                1.0      0.750000          0.975610             1.0\n",
       "2                1.0      0.444444          0.951854             1.0\n",
       "3                0.0      1.000000          0.000000             1.0\n",
       "4                1.0      0.692308          0.974894             0.0\n",
       "5                0.0      0.250000          0.923297             1.0\n",
       "6                1.0      1.000000          0.961460             0.0\n",
       "7                0.0      0.000000          0.980583             1.0\n",
       "8                0.0      0.400000          0.967412             1.0\n",
       "9                0.0      0.600000          0.897472             1.0"
      ]
     },
     "execution_count": 87,
     "metadata": {},
     "output_type": "execute_result"
    }
   ],
   "source": [
    "result_df.loc[:, 'context_precision':'context_recall']\n",
    "# precision(1.0이 나올 경우 ground-truth가 포함된 context의 유사도가 1순위임을 의미)\n",
    "# faithfulness(사실 여부 판단)\n",
    "# answer_relevancy(prompt에따라 잘 답변 했는지 정도)\n",
    "# context_recall(검색된 context가 LLM이 생성한 답변(answer)과 얼마나 일치하는지)"
   ]
  }
 ],
 "metadata": {
  "kernelspec": {
   "display_name": "lang-chain-1U0Z6gle-py3.11",
   "language": "python",
   "name": "python3"
  },
  "language_info": {
   "codemirror_mode": {
    "name": "ipython",
    "version": 3
   },
   "file_extension": ".py",
   "mimetype": "text/x-python",
   "name": "python",
   "nbconvert_exporter": "python",
   "pygments_lexer": "ipython3",
   "version": "3.11.9"
  }
 },
 "nbformat": 4,
 "nbformat_minor": 2
}
