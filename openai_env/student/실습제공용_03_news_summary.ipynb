{
 "cells": [
  {
   "cell_type": "markdown",
   "metadata": {},
   "source": [
    "# Settings"
   ]
  },
  {
   "cell_type": "raw",
   "metadata": {
    "vscode": {
     "languageId": "raw"
    }
   },
   "source": [
    "pip install pandas scikit-learn"
   ]
  },
  {
   "cell_type": "markdown",
   "metadata": {},
   "source": [
    "# 네이버 웹검색 API"
   ]
  },
  {
   "cell_type": "code",
   "execution_count": null,
   "metadata": {},
   "outputs": [],
   "source": [
    "# 변수 설명:\n",
    "# client_id: 네이버 API 클라이언트 ID\n",
    "# client_secret: 네이버 API 클라이언트 시크릿 키\n",
    "# query: 검색할 키워드 (사용자 입력 값을 URL 인코딩하여 저장)\n",
    "# idx: 데이터프레임에 저장할 데이터의 인덱스를 추적하는 변수\n",
    "# display: 한 번의 요청에 가져올 검색 결과의 개수 (최대 100)\n",
    "# start: 검색 결과의 시작 인덱스\n",
    "# end: 검색할 페이지의 마지막 인덱스 (총 몇 개의 검색 결과를 가져올지)\n",
    "# web_df: 검색 결과를 저장할 Pandas DataFrame (열: \"Title\", \"Link\", \"Description\")\n",
    "\n",
    "import os\n",
    "import sys\n",
    "import urllib.request\n",
    "import pandas as pd\n",
    "import json\n",
    "import re\n",
    "\n",
    "client_id = \"S00Vm493qDs_B4TUvI6l\"\n",
    "client_secret = \"DXmgZkrRmT\"\n",
    "\n",
    "keyword = input(\"검색어: \")\n",
    "query = urllib.parse.quote(keyword)\n",
    "idx = 0\n",
    "display = 10\n",
    "start = 1\n",
    "end = 50\n",
    "\n",
    "web_df = pd.DataFrame(columns=(\"Title\", \"Link\", \"Description\"))\n",
    "\n",
    "for start_index in range(start, end, display):\n",
    "    url = \"https://openapi.naver.com/v1/search/webkr?query=\" + query + \"&display=\" + str(display) + \"&start=\" + str(start_index)\n",
    "    \n",
    "    request = urllib.request.Request(url)\n",
    "    request.add_header(\"X-Naver-Client-Id\", client_id)\n",
    "    request.add_header(\"X-Naver-Client-Secret\", client_secret)\n",
    "    \n",
    "    response = urllib.request.urlopen(request)\n",
    "    rescode = response.getcode()\n",
    "\n",
    "    if rescode == 200:\n",
    "        response_body = response.read()\n",
    "        response_dict = json.loads(response_body.decode('utf-8'))\n",
    "        items = response_dict['items']\n",
    "        \n",
    "        for item_index in range(0, len(items)):\n",
    "            remove_tag = re.compile('<.*?>')\n",
    "            title = re.sub(remove_tag, '', items[item_index]['title'])\n",
    "            link = items[item_index]['link']\n",
    "            description = re.sub(remove_tag, '', items[item_index]['description'])\n",
    "            web_df.loc[idx] = [title, link, description]\n",
    "            idx += 1\n",
    "    else:\n",
    "        print(\"Error Code:\" + str(rescode))\n",
    "\n",
    "# web_df 데이터프레임 출력\n",
    "web_df\n"
   ]
  },
  {
   "cell_type": "markdown",
   "metadata": {},
   "source": [
    "### 웹 검색 결과 저장"
   ]
  },
  {
   "cell_type": "code",
   "execution_count": 13,
   "metadata": {},
   "outputs": [],
   "source": [
    "# DataFrame을 CSV 파일로 저장\n",
    "web_df.to_csv(f\"web_df_{keyword}.csv\", index=False)"
   ]
  },
  {
   "cell_type": "markdown",
   "metadata": {},
   "source": [
    "### 결과 요약"
   ]
  },
  {
   "cell_type": "code",
   "execution_count": null,
   "metadata": {},
   "outputs": [],
   "source": [
    "# 변수 설명:\n",
    "# client_id: 네이버 API 클라이언트 ID\n",
    "# client_secret: 네이버 API 클라이언트 시크릿 키\n",
    "# query: 검색할 키워드 (사용자 입력 값을 URL 인코딩하여 저장)\n",
    "# idx: 데이터프레임에 저장할 데이터의 인덱스를 추적하는 변수\n",
    "# display: 한 번의 요청에 가져올 검색 결과의 개수 (최대 100)\n",
    "# start: 검색 결과의 시작 인덱스\n",
    "# end: 검색할 페이지의 마지막 인덱스 (총 몇 개의 검색 결과를 가져올지)\n",
    "# web_df: 검색 결과를 저장할 Pandas DataFrame (열: \"Title\", \"Link\", \"Description\")\n",
    "\n",
    "import os\n",
    "import openai\n",
    "import sys\n",
    "import urllib.request\n",
    "import pandas as pd\n",
    "import json\n",
    "import re\n",
    "from dotenv import load_dotenv \n",
    "# API KEY 정보를 불러옵니다\n",
    "load_dotenv('./credentials/.env')\n",
    "\n",
    "api_key = os.environ.get(\"OPENAI_API_KEY\")\n",
    "client_id = os.environ.get(\"CLIENT_ID\")\n",
    "client_secret = os.environ.get(\"CLIENT_SECRET\")\n",
    "\n",
    "# OpenAI GPT 요약 함수 정의 (한국어)\n",
    "def summarize_text(text):\n",
    "    openai.api_key = api_key\n",
    "    completion = openai.chat.completions.create(\n",
    "        model=\"gpt-3.5-turbo\",\n",
    "        messages=[\n",
    "            {\"role\": \"system\", \"content\": \"당신은 텍스트를 요약해주는 유용한 조수입니다.\"},\n",
    "            {\"role\": \"user\", \"content\": f\"다음 텍스트를 요약해 주세요:\\n\\n{text}\"}\n",
    "        ]\n",
    "    )\n",
    "    return completion.choices[0].message.content\n",
    "\n",
    "keyword = input(\"검색어: \")\n",
    "query = urllib.parse.quote(keyword)\n",
    "idx = 0\n",
    "display = 10\n",
    "start = 1\n",
    "end = 50\n",
    "\n",
    "web_df = pd.DataFrame(columns=(\"Title\", \"Link\", \"Description\", \"Summary\"))\n",
    "\n",
    "for start_index in range(start, end, display):\n",
    "    url = \"https://openapi.naver.com/v1/search/webkr?query=\" + query + \"&display=\" + str(display) + \"&start=\" + str(start_index)\n",
    "\n",
    "    request = urllib.request.Request(url)\n",
    "    request.add_header(\"X-Naver-Client-Id\", client_id)\n",
    "    request.add_header(\"X-Naver-Client-Secret\", client_secret)\n",
    "\n",
    "    response = urllib.request.urlopen(request)\n",
    "    rescode = response.getcode()\n",
    "\n",
    "    if rescode == 200:\n",
    "        response_body = response.read()\n",
    "        response_dict = json.loads(response_body.decode('utf-8'))\n",
    "        items = response_dict['items']\n",
    "\n",
    "        for item_index in range(0, len(items)):\n",
    "            remove_tag = re.compile('<.*?>')\n",
    "            title = re.sub(remove_tag, '', items[item_index]['title'])\n",
    "            link = items[item_index]['link']\n",
    "            description = re.sub(remove_tag, '', items[item_index]['description'])\n",
    "            # 요약 추가 \n",
    "            summary = summarize_text(description)\n",
    "            \n",
    "            web_df.loc[idx] = [title, link, description, summary]\n",
    "            idx += 1\n",
    "    else:\n",
    "        print(\"Error Code:\" + str(rescode))\n",
    "\n",
    "# web_df 데이터프레임 출력\n",
    "web_df"
   ]
  },
  {
   "cell_type": "code",
   "execution_count": 20,
   "metadata": {},
   "outputs": [],
   "source": [
    "# DataFrame을 CSV 파일로 저장\n",
    "web_df.to_csv(f\"web_df_summary_{keyword}.csv\", index=False)"
   ]
  },
  {
   "cell_type": "markdown",
   "metadata": {},
   "source": [
    "### 상위 10개의 키워드 추출 (예정)"
   ]
  },
  {
   "cell_type": "markdown",
   "metadata": {},
   "source": [
    "### 키워드에 대한 긍정/부정 반응에 대한 워드클라우드 (예정)"
   ]
  },
  {
   "cell_type": "markdown",
   "metadata": {},
   "source": [
    "# 네이버 뉴스 검색 API"
   ]
  },
  {
   "cell_type": "code",
   "execution_count": null,
   "metadata": {},
   "outputs": [],
   "source": [
    "# 변수 설명:\n",
    "# client_id: 네이버 API 클라이언트 ID\n",
    "# client_secret: 네이버 API 클라이언트 시크릿 키\n",
    "# query: 검색할 키워드 (사용자 입력 값을 URL 인코딩하여 저장)\n",
    "# idx: 데이터프레임에 저장할 데이터의 인덱스를 추적하는 변수\n",
    "# display: 한 번의 요청에 가져올 검색 결과의 개수 (최대 100)\n",
    "# start: 검색 결과의 시작 인덱스\n",
    "# end: 검색할 페이지의 마지막 인덱스 (총 몇 개의 검색 결과를 가져올지)\n",
    "# sort: 검색 결과를 정렬하는 기준 (sim: 유사도, date: 날짜 순)\n",
    "# news_df: 검색 결과를 저장할 Pandas DataFrame (열: \"Title\", \"Original Link\", \"Link\", \"Description\", \"Publication Date\")\n",
    "\n",
    "import os\n",
    "import sys\n",
    "import urllib.request\n",
    "import pandas as pd\n",
    "import json\n",
    "import re\n",
    "\n",
    "client_id = \"S00Vm493qDs_B4TUvI6l\"\n",
    "client_secret = \"DXmgZkrRmT\"\n",
    "\n",
    "keyword = input(\"검색어: \")\n",
    "query = urllib.parse.quote(keyword)\n",
    "idx = 0\n",
    "display = 100\n",
    "start = 1\n",
    "end = 1000\n",
    "sort = \"sim\"\n",
    "\n",
    "news_df = pd.DataFrame(columns=(\"Title\", \"Original Link\", \"Link\", \"Description\", \"Publication Date\"))\n",
    "\n",
    "for start_index in range(start, end, display):\n",
    "    url = \"https://openapi.naver.com/v1/search/news?query=\" + query + \"&display=\" + str(display) + \"&start=\" + str(start_index) + \"&sort=\" + sort\n",
    "    \n",
    "    request = urllib.request.Request(url)\n",
    "    request.add_header(\"X-Naver-Client-Id\", client_id)\n",
    "    request.add_header(\"X-Naver-Client-Secret\", client_secret)\n",
    "    \n",
    "    response = urllib.request.urlopen(request)\n",
    "    rescode = response.getcode()\n",
    "\n",
    "    if rescode == 200:\n",
    "        response_body = response.read()\n",
    "        response_dict = json.loads(response_body.decode('utf-8'))\n",
    "        items = response_dict['items']\n",
    "        \n",
    "        for item_index in range(0, len(items)):\n",
    "            remove_tag = re.compile('<.*?>')\n",
    "            title = re.sub(remove_tag, '', items[item_index]['title'])\n",
    "            original_link = items[item_index]['originallink']\n",
    "            link = items[item_index]['link']\n",
    "            description = re.sub(remove_tag, '', items[item_index]['description'])\n",
    "            pub_date = re.sub(remove_tag, '', items[item_index]['pubDate'])\n",
    "            \n",
    "            news_df.loc[idx] = [title, original_link, link, description, pub_date]\n",
    "            idx += 1\n",
    "    else:\n",
    "        print(\"Error Code:\" + str(rescode))\n",
    "\n",
    "# news_df 데이터프레임 출력\n",
    "news_df"
   ]
  },
  {
   "cell_type": "markdown",
   "metadata": {},
   "source": [
    "### 뉴스 검색 결과 저장"
   ]
  },
  {
   "cell_type": "code",
   "execution_count": 16,
   "metadata": {},
   "outputs": [],
   "source": [
    "# DataFrame을 CSV 파일로 저장\n",
    "news_df.to_csv(f\"news_df_{keyword}.csv\", index=False)"
   ]
  },
  {
   "cell_type": "markdown",
   "metadata": {},
   "source": [
    "### 뉴스 결과 요약"
   ]
  },
  {
   "cell_type": "code",
   "execution_count": 21,
   "metadata": {},
   "outputs": [],
   "source": [
    "import os\n",
    "import openai\n",
    "import sys\n",
    "import urllib.request\n",
    "import pandas as pd\n",
    "import json\n",
    "import re\n",
    "from dotenv import load_dotenv \n",
    "# API KEY 정보를 불러옵니다\n",
    "load_dotenv('./credentials/.env')\n",
    "\n",
    "api_key = os.environ.get(\"OPENAI_API_KEY\")\n",
    "client_id = os.environ.get(\"CLIENT_ID\")\n",
    "client_secret = os.environ.get(\"CLIENT_SECRET\")\n",
    "\n",
    "# OpenAI GPT 요약 함수 정의 (100자 이내)\n",
    "def summarize_text(text):\n",
    "    openai.api_key = api_key\n",
    "    completion = openai.chat.completions.create(\n",
    "        model=\"gpt-3.5-turbo\",\n",
    "        messages=[\n",
    "            {\"role\": \"system\", \"content\": \"당신은 텍스트를 한 문단으로 요약해주는 유용한 조수입니다.\"},\n",
    "            {\"role\": \"user\", \"content\": f\"다음 텍스트를 199자 이내로 한 문단으로 요약해 주세요:\\n\\n{text}\"}\n",
    "        ]\n",
    "    )\n",
    "    return completion.choices[0].message.content\n",
    "\n",
    "\n",
    "keyword = input(\"검색어: \")\n",
    "query = urllib.parse.quote(keyword)\n",
    "idx = 0\n",
    "display = 100\n",
    "start = 1\n",
    "end = 1000\n",
    "sort = \"sim\"\n",
    "\n",
    "news_df = pd.DataFrame(columns=(\"Title\", \"Original Link\", \"Link\", \"Description\", \"Publication Date\", \"Summary\"))\n",
    "\n",
    "for start_index in range(start, end, display):\n",
    "    url = \"https://openapi.naver.com/v1/search/news?query=\" + query + \"&display=\" + str(display) + \"&start=\" + str(start_index) + \"&sort=\" + sort\n",
    "\n",
    "    request = urllib.request.Request(url)\n",
    "    request.add_header(\"X-Naver-Client-Id\", client_id)\n",
    "    request.add_header(\"X-Naver-Client-Secret\", client_secret)\n",
    "\n",
    "    response = urllib.request.urlopen(request)\n",
    "    rescode = response.getcode()\n",
    "\n",
    "    if rescode == 200:\n",
    "        response_body = response.read()\n",
    "        response_dict = json.loads(response_body.decode('utf-8'))\n",
    "        items = response_dict['items']\n",
    "\n",
    "        for item_index in range(0, len(items)):\n",
    "            remove_tag = re.compile('<.*?>')\n",
    "            title = re.sub(remove_tag, '', items[item_index]['title'])\n",
    "            original_link = items[item_index]['originallink']\n",
    "            link = items[item_index]['link']\n",
    "            description = re.sub(remove_tag, '', items[item_index]['description'])\n",
    "            pub_date = re.sub(remove_tag, '', items[item_index]['pubDate'])\n",
    "            \n",
    "            # 요약 추가 (100자 이내 한 문단)\n",
    "            summary = summarize_text(description)\n",
    "            \n",
    "            news_df.loc[idx] = [title, original_link, link, description, pub_date, summary]\n",
    "            idx += 1\n",
    "    else:\n",
    "        print(\"Error Code:\" + str(rescode))\n",
    "\n",
    "# news_df 데이터프레임 출력\n",
    "news_df\n"
   ]
  },
  {
   "cell_type": "code",
   "execution_count": null,
   "metadata": {},
   "outputs": [],
   "source": [
    "# DataFrame을 CSV 파일로 저장\n",
    "news_df.to_csv(f\"news_df_summary_{keyword}.csv\", index=False)"
   ]
  },
  {
   "cell_type": "markdown",
   "metadata": {},
   "source": [
    "### 뉴스의 일별 언급량에 따른 주식 가격 예측 (예정)"
   ]
  }
 ],
 "metadata": {
  "kernelspec": {
   "display_name": "openai",
   "language": "python",
   "name": "python3"
  },
  "language_info": {
   "codemirror_mode": {
    "name": "ipython",
    "version": 3
   },
   "file_extension": ".py",
   "mimetype": "text/x-python",
   "name": "python",
   "nbconvert_exporter": "python",
   "pygments_lexer": "ipython3",
   "version": "3.10.13"
  }
 },
 "nbformat": 4,
 "nbformat_minor": 2
}
