{
 "cells": [
  {
   "cell_type": "markdown",
   "metadata": {},
   "source": [
    "# Settings"
   ]
  },
  {
   "cell_type": "code",
   "execution_count": null,
   "metadata": {},
   "outputs": [],
   "source": [
    "import openai\n",
    "from openai import OpenAI\n",
    "\n",
    " # Q. API KEY 정보를 불러와주세요\n",
    "import os\n",
    "from dotenv import load_dotenv\n",
    "load_dotenv('./credentials/.env') \n",
    "openai.api_key = os.environ.get(\"OPENAI_API_KEY\")\n",
    "api_key = openai.api_key\n",
    "\n",
    "import json\n",
    "import time\n",
    "\n",
    "\n",
    "# Q. OpenAI API를 사용하기 위한 클라이언트 객체를 생성해주세요.\n",
    "\n",
    "\n",
    "\n",
    "# Q. 수학 과외 선생님 역할을 하는 챗봇을 생성해주세요.\n",
    "\n",
    "\n",
    "\n",
    "# obj의 모델을 JSON 형태로 변환한 후 출력합니다.\n",
    "def show_json(obj):\n",
    "    display(json.loads(obj.model_dump_json()))\n",
    "\n",
    "show_json(assistant)"
   ]
  },
  {
   "cell_type": "code",
   "execution_count": null,
   "metadata": {},
   "outputs": [],
   "source": [
    "# 기억할 assistant ID를 출력합니다.\n",
    "\n",
    "ASSISTANT_ID = assistant.id\n",
    "print(f\"[생성한 Assistants ID]\\n{ASSISTANT_ID}\")"
   ]
  },
  {
   "cell_type": "markdown",
   "metadata": {},
   "source": [
    "# Few-Shot"
   ]
  },
  {
   "cell_type": "markdown",
   "metadata": {},
   "source": [
    "### 기존함수 정의"
   ]
  },
  {
   "cell_type": "code",
   "execution_count": null,
   "metadata": {},
   "outputs": [],
   "source": [
    "def wait_on_run(run, thread_id):\n",
    "    while run.status == \"queued\" or run.status == \"in_progress\":\n",
    "        run = client.beta.threads.runs.retrieve(\n",
    "            thread_id=thread_id,\n",
    "            run_id=run.id,\n",
    "        )\n",
    "        time.sleep(0.5)\n",
    "    return run\n",
    "\n",
    "\n",
    "def submit_message(assistant_id, thread_id, user_message):\n",
    "    client.beta.threads.messages.create(\n",
    "        thread_id=thread_id, role=\"user\", content=user_message\n",
    "    )\n",
    "    run = client.beta.threads.runs.create(\n",
    "        thread_id=thread_id,\n",
    "        assistant_id=assistant_id,\n",
    "    )\n",
    "    return run\n",
    "\n",
    "\n",
    "def get_response(thread_id):\n",
    "    return client.beta.threads.messages.list(thread_id=thread_id, order=\"asc\")\n",
    "\n",
    "\n",
    "def print_message(response):\n",
    "    for res in response:\n",
    "        print(f\"[{res.role.upper()}]\\n{res.content[0].text.value}\\n\")\n",
    "\n",
    "\n",
    "def ask(assistant_id, thread_id, user_message):\n",
    "    run = submit_message(\n",
    "        assistant_id,\n",
    "        thread_id,\n",
    "        user_message,\n",
    "    )\n",
    "\n",
    "    run = wait_on_run(run, thread_id)\n",
    "    print_message(get_response(thread_id).data[-2:]) \n",
    "    return run\n",
    "\n",
    "def create_new_thread():\n",
    "    thread = client.beta.threads.create()\n",
    "    return thread\n",
    "\n"
   ]
  },
  {
   "cell_type": "markdown",
   "metadata": {},
   "source": [
    "### Few-shot 예제 실행"
   ]
  },
  {
   "cell_type": "code",
   "execution_count": null,
   "metadata": {},
   "outputs": [],
   "source": [
    "# 기존/새로운 스레드를 생성합니다.\n",
    "thread_id = create_new_thread().id \n",
    "\n",
    "user_message = \"\"\"\n",
    "다음 영어 문장을 한국어로 번역하세요:\n",
    "\n",
    "영어: How are you?\n",
    "한국어: 잘 지내세요?\n",
    "\n",
    "영어: What's your name?\n",
    "한국어: 당신의 이름은 무엇입니까?\n",
    "\n",
    "영어: Where is the bathroom?\n",
    "한국어:\n",
    "\n",
    "\"\"\"\n",
    "\n",
    "run = ask(ASSISTANT_ID, thread_id, user_message)"
   ]
  },
  {
   "cell_type": "markdown",
   "metadata": {},
   "source": [
    "# Zero-shot Chain-of-Thought (CoT)"
   ]
  },
  {
   "cell_type": "markdown",
   "metadata": {},
   "source": [
    "### Zero-shot CoT 예제 실행 1"
   ]
  },
  {
   "cell_type": "code",
   "execution_count": null,
   "metadata": {},
   "outputs": [],
   "source": [
    "user_message = \"\"\"\n",
    "질문: 사과가 5개 있습니다. 2개를 더 샀습니다. 그 후 1개의 사과를 먹었습니다. 사과는 몇 개 남았나요?\n",
    "\n",
    "단계적으로 생각해 봅시다:\n",
    "\n",
    "답:\n",
    "\"\"\"\n",
    "\n",
    "run = ask(ASSISTANT_ID, thread_id, user_message)"
   ]
  },
  {
   "cell_type": "markdown",
   "metadata": {},
   "source": [
    "### Zero-shot CoT 예제 실행 2"
   ]
  },
  {
   "cell_type": "code",
   "execution_count": null,
   "metadata": {},
   "outputs": [],
   "source": [
    "user_message = \"\"\"\n",
    "질문: 상자에 연필이 12자루 있습니다. 4자루를 꺼냈습니다. 연필은 몇 자루 남았나요?\n",
    "\n",
    "단계적으로 생각해 봅시다:\n",
    "\n",
    "답:\n",
    "\"\"\"\n",
    "\n",
    "run = ask(ASSISTANT_ID, thread_id, user_message)"
   ]
  }
 ],
 "metadata": {
  "kernelspec": {
   "display_name": "openai",
   "language": "python",
   "name": "python3"
  },
  "language_info": {
   "codemirror_mode": {
    "name": "ipython",
    "version": 3
   },
   "file_extension": ".py",
   "mimetype": "text/x-python",
   "name": "python",
   "nbconvert_exporter": "python",
   "pygments_lexer": "ipython3",
   "version": "3.10.13"
  }
 },
 "nbformat": 4,
 "nbformat_minor": 2
}
