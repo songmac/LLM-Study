{
 "cells": [
  {
   "cell_type": "markdown",
   "metadata": {},
   "source": [
    "# Settings"
   ]
  },
  {
   "cell_type": "code",
   "execution_count": 1,
   "metadata": {},
   "outputs": [
    {
     "data": {
      "text/plain": [
       "{'id': 'asst_6u3ztejiHTk52XcalB8J29oT',\n",
       " 'created_at': 1727972526,\n",
       " 'description': None,\n",
       " 'instructions': 'You are a personal math tutor. Answer questions briefly, in a sentence or less.',\n",
       " 'metadata': {},\n",
       " 'model': 'gpt-4-turbo-preview',\n",
       " 'name': 'Math Tutor',\n",
       " 'object': 'assistant',\n",
       " 'tools': [],\n",
       " 'response_format': 'auto',\n",
       " 'temperature': 1.0,\n",
       " 'tool_resources': {'code_interpreter': None, 'file_search': None},\n",
       " 'top_p': 1.0}"
      ]
     },
     "metadata": {},
     "output_type": "display_data"
    }
   ],
   "source": [
    "import openai\n",
    "from openai import OpenAI\n",
    "\n",
    "import os\n",
    "from dotenv import load_dotenv # API KEY 정보를 불러옵니다\n",
    "load_dotenv('./credentials/.env') \n",
    "openai.api_key = os.environ.get(\"OPENAI_API_KEY\")\n",
    "api_key = openai.api_key\n",
    "\n",
    "import json\n",
    "import time\n",
    "\n",
    "\n",
    "# OpenAI API를 사용하기 위한 클라이언트 객체를 생성합니다.\n",
    "client = OpenAI(api_key=api_key)\n",
    "\n",
    "# 수학 과외 선생님 역할을 하는 챗봇을 생성합니다.\n",
    "# 이 챗봇은 간단한 문장이나 한 문장으로 질문에 답변합니다.\n",
    "assistant = client.beta.assistants.create(\n",
    "    name=\"Math Tutor\",\n",
    "    instructions=\"You are a personal math tutor. Answer questions briefly, in a sentence or less.\",\n",
    "    model=\"gpt-4-turbo-preview\",\n",
    ")\n",
    "\n",
    "\n",
    "def show_json(obj):\n",
    "    # obj의 모델을 JSON 형태로 변환한 후 출력합니다.\n",
    "    display(json.loads(obj.model_dump_json()))\n",
    "\n",
    "# 생성된 챗봇의 정보를 JSON 형태로 출력합니다.\n",
    "show_json(assistant)"
   ]
  },
  {
   "cell_type": "code",
   "execution_count": 2,
   "metadata": {},
   "outputs": [
    {
     "name": "stdout",
     "output_type": "stream",
     "text": [
      "[생성한 Assistants ID]\n",
      "asst_6u3ztejiHTk52XcalB8J29oT\n"
     ]
    }
   ],
   "source": [
    "ASSISTANT_ID = assistant.id\n",
    "print(f\"[생성한 Assistants ID]\\n{ASSISTANT_ID}\")"
   ]
  },
  {
   "cell_type": "markdown",
   "metadata": {},
   "source": [
    "# Few-Shot"
   ]
  },
  {
   "cell_type": "code",
   "execution_count": 4,
   "metadata": {},
   "outputs": [
    {
     "name": "stdout",
     "output_type": "stream",
     "text": [
      "[USER]\n",
      "\n",
      "다음 영어 문장을 한국어로 번역하세요:\n",
      "\n",
      "영어: How are you?\n",
      "한국어: 잘 지내세요?\n",
      "\n",
      "영어: What's your name?\n",
      "한국어: 당신의 이름은 무엇입니까?\n",
      "\n",
      "영어: Where is the bathroom?\n",
      "한국어:\n",
      "\n",
      "\n",
      "\n",
      "[ASSISTANT]\n",
      "화장실은 어디에 있습니까?\n",
      "\n"
     ]
    }
   ],
   "source": [
    "# 반복문에서 대기하는 함수\n",
    "def wait_on_run(run, thread_id):\n",
    "    while run.status == \"queued\" or run.status == \"in_progress\":\n",
    "        # 3-3. 실행 상태를 최신 정보로 업데이트합니다.\n",
    "        run = client.beta.threads.runs.retrieve(\n",
    "            thread_id=thread_id,\n",
    "            run_id=run.id,\n",
    "        )\n",
    "        time.sleep(0.5)\n",
    "    return run\n",
    "\n",
    "\n",
    "def submit_message(assistant_id, thread_id, user_message):\n",
    "    # 3-1. 스레드에 종속된 메시지를 '추가' 합니다.\n",
    "    client.beta.threads.messages.create(\n",
    "        thread_id=thread_id, role=\"user\", content=user_message\n",
    "    )\n",
    "    # 3-2. 스레드를 실행합니다.\n",
    "    run = client.beta.threads.runs.create(\n",
    "        thread_id=thread_id,\n",
    "        assistant_id=assistant_id,\n",
    "    )\n",
    "    return run\n",
    "\n",
    "\n",
    "def get_response(thread_id):\n",
    "    # 3-4. 스레드에 종속된 메시지를 '조회' 합니다.\n",
    "    return client.beta.threads.messages.list(thread_id=thread_id, order=\"asc\")\n",
    "\n",
    "\n",
    "def print_message(response):\n",
    "    for res in response:\n",
    "        print(f\"[{res.role.upper()}]\\n{res.content[0].text.value}\\n\")\n",
    "\n",
    "\n",
    "def ask(assistant_id, thread_id, user_message):\n",
    "    run = submit_message(\n",
    "        assistant_id,\n",
    "        thread_id,\n",
    "        user_message,\n",
    "    )\n",
    "    # 실행이 완료될 때까지 대기합니다.\n",
    "    run = wait_on_run(run, thread_id)\n",
    "    print_message(get_response(thread_id).data[-2:]) \n",
    "        # 대화에서 최신 메세지 두개를 출력\n",
    "            # data 리스트의 마지막 두 개의 항목을 가져오는 것을 의미\n",
    "            # 즉, data 리스트의 끝부분에 있는 두 개의 메시지만 가져오고 있는 것\n",
    "    return run\n",
    "\n",
    "def create_new_thread():\n",
    "    # 새로운 스레드를 생성합니다.\n",
    "    thread = client.beta.threads.create()\n",
    "    return thread\n",
    "\n",
    "\n",
    "# thread_id = \"기존 스레드 ID를 입력해 주세요\"\n",
    "thread_id = create_new_thread().id  # 새로운 스레드를 생성합니다.\n",
    "\n",
    "user_message = \"\"\"\n",
    "다음 영어 문장을 한국어로 번역하세요:\n",
    "\n",
    "영어: How are you?\n",
    "한국어: 잘 지내세요?\n",
    "\n",
    "영어: What's your name?\n",
    "한국어: 당신의 이름은 무엇입니까?\n",
    "\n",
    "영어: Where is the bathroom?\n",
    "한국어:\n",
    "\n",
    "\"\"\"\n",
    "\n",
    "run = ask(ASSISTANT_ID, thread_id, user_message)"
   ]
  },
  {
   "cell_type": "markdown",
   "metadata": {},
   "source": [
    "# Zero-shot Chain-of-Thought (CoT)"
   ]
  },
  {
   "cell_type": "code",
   "execution_count": 5,
   "metadata": {},
   "outputs": [
    {
     "name": "stdout",
     "output_type": "stream",
     "text": [
      "[USER]\n",
      "\n",
      "질문: 사과가 5개 있습니다. 2개를 더 샀습니다. 그 후 1개의 사과를 먹었습니다. 사과는 몇 개 남았나요?\n",
      "\n",
      "단계적으로 생각해 봅시다:\n",
      "\n",
      "답:\n",
      "\n",
      "\n",
      "[ASSISTANT]\n",
      "처음에 5개의 사과가 있습니다.\n",
      "2개를 더 사면 사과는 5 + 2 = 7개가 됩니다.\n",
      "1개의 사과를 먹으면 7 - 1 = 6개가 남습니다.\n",
      "\n",
      "답: 6개\n",
      "\n"
     ]
    }
   ],
   "source": [
    "user_message = \"\"\"\n",
    "질문: 사과가 5개 있습니다. 2개를 더 샀습니다. 그 후 1개의 사과를 먹었습니다. 사과는 몇 개 남았나요?\n",
    "\n",
    "단계적으로 생각해 봅시다:\n",
    "\n",
    "답:\n",
    "\"\"\"\n",
    "\n",
    "run = ask(ASSISTANT_ID, thread_id, user_message)"
   ]
  },
  {
   "cell_type": "code",
   "execution_count": 6,
   "metadata": {},
   "outputs": [
    {
     "name": "stdout",
     "output_type": "stream",
     "text": [
      "[USER]\n",
      "\n",
      "질문: 상자에 연필이 12자루 있습니다. 4자루를 꺼냈습니다. 연필은 몇 자루 남았나요?\n",
      "\n",
      "단계적으로 생각해 봅시다:\n",
      "\n",
      "답:\n",
      "\n",
      "\n",
      "[ASSISTANT]\n",
      "처음에 12자루의 연필이 있습니다.\n",
      "4자루를 꺼내면 연필은 12 - 4 = 8자루가 남습니다.\n",
      "\n",
      "답: 8자루\n",
      "\n"
     ]
    }
   ],
   "source": [
    "user_message = \"\"\"\n",
    "질문: 상자에 연필이 12자루 있습니다. 4자루를 꺼냈습니다. 연필은 몇 자루 남았나요?\n",
    "\n",
    "단계적으로 생각해 봅시다:\n",
    "\n",
    "답:\n",
    "\"\"\"\n",
    "\n",
    "run = ask(ASSISTANT_ID, thread_id, user_message)"
   ]
  }
 ],
 "metadata": {
  "kernelspec": {
   "display_name": "openai",
   "language": "python",
   "name": "python3"
  },
  "language_info": {
   "codemirror_mode": {
    "name": "ipython",
    "version": 3
   },
   "file_extension": ".py",
   "mimetype": "text/x-python",
   "name": "python",
   "nbconvert_exporter": "python",
   "pygments_lexer": "ipython3",
   "version": "3.10.13"
  }
 },
 "nbformat": 4,
 "nbformat_minor": 2
}
